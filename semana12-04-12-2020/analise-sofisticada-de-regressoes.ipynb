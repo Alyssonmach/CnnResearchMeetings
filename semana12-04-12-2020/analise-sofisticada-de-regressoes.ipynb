{
 "cells": [
  {
   "cell_type": "markdown",
   "metadata": {},
   "source": [
    "# Regressão Linear Regularizada e Bias vs Variância"
   ]
  },
  {
   "cell_type": "code",
   "execution_count": 1,
   "metadata": {},
   "outputs": [],
   "source": [
    "# usado para manipular caminhos de diretório\n",
    "import os\n",
    "# pacote usado para realizar operações com matrizes\n",
    "import numpy as np\n",
    "# pacote de visualização gráfica\n",
    "from matplotlib import pyplot as plt\n",
    "# pacote de otimização (escolha de alguns hiperparâmetros)\n",
    "from scipy import optimize\n",
    "# carrega datasets executáveis em matlab\n",
    "from scipy.io import loadmat\n",
    "# incorporando plotagem do matplotlib no arquivo \n",
    "%matplotlib inline"
   ]
  },
  {
   "cell_type": "markdown",
   "metadata": {},
   "source": [
    "## Regressão Linear Regularizada\n",
    "\n",
    "Na primeira metade do exercício, você implementará a regressão linear regularizada para prever a quantidade de água que flui de uma barragem usando a mudança do nível de água em um reservatório. Na próxima metade, você fará alguns diagnósticos de algoritmos de aprendizagem de depuração e examinará os efeitos do viés vs. variância.\n",
    "\n",
    "### Visualizando o dataset\n",
    "\n",
    "Começaremos visualizando o conjunto de dados contendo registros históricos sobre a mudança no nível da água, $ x $, e a quantidade de água fluindo para fora da barragem, $ y $. Este conjunto de dados é dividido em três partes:\n",
    "\n",
    "- Um conjunto de **treinamento** que seu modelo aprenderá em: **X**, **y**; \n",
    "- Um conjunto de **validação cruzada** definida para determinar o parâmetro de regularização: **Xval**, **yval**;\n",
    "- Um conjunto de **teste** definido para avaliar o desempenho. Estes são exemplos que seu modelo não viu durante o treinamento: **Xtest**, **ytest**;\n",
    "\n"
   ]
  },
  {
   "cell_type": "code",
   "execution_count": 2,
   "metadata": {},
   "outputs": [],
   "source": [
    "# carregando os dados do arquivo ex5data1.mat, todas as variáveis serão armazenadas em um dicionário\n",
    "dataset = loadmat(os.path.join('datasets', 'ex5data1.mat'))"
   ]
  },
  {
   "cell_type": "code",
   "execution_count": 3,
   "metadata": {},
   "outputs": [
    {
     "name": "stdout",
     "output_type": "stream",
     "text": [
      "__header__\n",
      "__version__\n",
      "__globals__\n",
      "X\n",
      "y\n",
      "Xtest\n",
      "ytest\n",
      "Xval\n",
      "yval\n"
     ]
    }
   ],
   "source": [
    "# visulizando a organização do dicionário\n",
    "for keys, values in dataset.items():\n",
    "    print(keys)"
   ]
  },
  {
   "cell_type": "code",
   "execution_count": 4,
   "metadata": {},
   "outputs": [],
   "source": [
    "# separando os dados de treinamento, teste e validação do dicionário \n",
    "# além disso, os dados foram convertidos para um formato de vetor numpy\n",
    "X, y = dataset['X'], dataset['y'][:, 0]\n",
    "Xtest, ytest = dataset['Xtest'], dataset['ytest'][:, 0]\n",
    "Xval, yval = dataset['Xval'], dataset['yval'][:, 0]"
   ]
  },
  {
   "cell_type": "code",
   "execution_count": 5,
   "metadata": {},
   "outputs": [
    {
     "name": "stdout",
     "output_type": "stream",
     "text": [
      "12\n"
     ]
    }
   ],
   "source": [
    "# m = número de exemplos treináveis\n",
    "m = y.size\n",
    "print(m)"
   ]
  },
  {
   "cell_type": "code",
   "execution_count": 6,
   "metadata": {},
   "outputs": [
    {
     "data": {
      "text/plain": [
       "Text(0, 0.5, 'Água fluindo para fora da barragem (y)')"
      ]
     },
     "execution_count": 6,
     "metadata": {},
     "output_type": "execute_result"
    },
    {
     "data": {
      "image/png": "[encoded data removed]",
      "text/plain": [
       "<Figure size 720x360 with 1 Axes>"
      ]
     },
     "metadata": {
      "needs_background": "light"
     },
     "output_type": "display_data"
    }
   ],
   "source": [
    "# Visualizando os dados com matplotlib\n",
    "plt.figure(figsize = (10, 5))\n",
    "plt.plot(X, y, 'ro', ms=10, mec='k', mew=1) \n",
    "plt.xlabel('Mudança no nível da água (x)')\n",
    "plt.ylabel('Água fluindo para fora da barragem (y)')"
   ]
  },
  {
   "cell_type": "markdown",
   "metadata": {},
   "source": [
    "### Função de custo de regressão linear regularizada\n",
    "\n",
    "Lembre-se de que a regressão linear regularizada tem a seguinte função de custo:\n",
    "\n",
    "$$ J(\\theta) = \\frac{1}{2m} \\left( \\sum_{i=1}^m \\left( h_\\theta\\left( x^{(i)} \\right) - y^{(i)} \\right)^2 \\right) + \\frac{\\lambda}{2m} \\left( \\sum_{j=1}^n \\theta_j^2 \\right)$$\n",
    "\n",
    "Onde $\\lambda$ é um parâmetro de regularização que controla o grau de regularização (assim, ajuda a prevenir overfitting). O termo de regularização impõe uma penalidade ao custo geral J. À medida que as magnitudes dos parâmetros do modelo $\\theta_j$ aumentam, a penalidade também aumenta. Observe que você não deve regularizar o termo $\\theta_0$.  \n",
    "\n",
    "### Gradiente de regressão linear regularizado\n",
    "\n",
    "Correspondentemente, a derivada parcial da função de custo para regressão linear regularizada é definida como:\n",
    "\n",
    "$$\n",
    "\\begin{align}\n",
    "& \\frac{\\partial J(\\theta)}{\\partial \\theta_0} = \\frac{1}{m} \\sum_{i=1}^m \\left( h_\\theta \\left(x^{(i)} \\right) - y^{(i)} \\right) x_j^{(i)} & \\qquad \\text{for } j = 0 \\\\\n",
    "& \\frac{\\partial J(\\theta)}{\\partial \\theta_j} = \\left( \\frac{1}{m} \\sum_{i=1}^m \\left( h_\\theta \\left( x^{(i)} \\right) - y^{(i)} \\right) x_j^{(i)} \\right) + \\frac{\\lambda}{m} \\theta_j & \\qquad \\text{for } j \\ge 1\n",
    "\\end{align}\n",
    "$$"
   ]
  },
  {
   "cell_type": "code",
   "execution_count": 7,
   "metadata": {},
   "outputs": [],
   "source": [
    "def linearRegCostFunction(X, y, teta, lambda_= 0.0):\n",
    "    \"\"\"\n",
    "    Compute cost and gradient for regularized linear regression \n",
    "    with multiple variables. Computes the cost of using theta as\n",
    "    the parameter for linear regression to fit the data points in X and y. \n",
    "    \n",
    "    Parameters\n",
    "    ----------\n",
    "    X : array_like\n",
    "        The dataset. Matrix with shape (m x n + 1) where m is the \n",
    "        total number of examples, and n is the number of features \n",
    "        before adding the bias term.\n",
    "    \n",
    "    y : array_like\n",
    "        The functions values at each datapoint. A vector of\n",
    "        shape (m, ).\n",
    "    \n",
    "    theta : array_like\n",
    "        The parameters for linear regression. A vector of shape (n+1,).\n",
    "    \n",
    "    lambda_ : float, optional\n",
    "        The regularization parameter.\n",
    "    \n",
    "    Returns\n",
    "    -------\n",
    "    J : float\n",
    "        The computed cost function. \n",
    "    \n",
    "    grad : array_like\n",
    "        The value of the cost function gradient w.r.t theta. \n",
    "        A vector of shape (n+1, ).\n",
    "    \n",
    "    Instructions\n",
    "    ------------\n",
    "    Compute the cost and gradient of regularized linear regression for\n",
    "    a particular choice of theta.\n",
    "    You should set J to the cost and grad to the gradient.\n",
    "    \"\"\"\n",
    "\n",
    "    m = y.size # número de exemplos treináveis\n",
    "\n",
    "    # You need to return the following variables correctly \n",
    "    J = 0\n",
    "    grad = np.zeros(teta.shape)\n",
    "\n",
    "    # ====================== YOUR CODE HERE ======================\n",
    "    \n",
    "    # computando a equação da função de custo\n",
    "    h = X.dot(teta)\n",
    "    J = (1 / (2 * m)) * np.sum(np.square(h - y)) + (lambda_ / (2 * m)) * np.sum(np.square(teta[1:]))\n",
    "    \n",
    "    # computando o valor dos parâmetros através do método de gradiente descendente (via derivadas parciais)\n",
    "    grad = (1 / m) * (h - y).dot(X)\n",
    "    grad[1:] = grad[1:] + (lambda_ / m) * teta[1:]\n",
    "\n",
    "    # ============================================================\n",
    "    return J, grad"
   ]
  },
  {
   "cell_type": "code",
   "execution_count": 8,
   "metadata": {},
   "outputs": [],
   "source": [
    "# hstack = concatena por colunas, vstack = concatena por linhas\n",
    "#np.hstack((np.ones((m, 1)), X))\n",
    "# axis = 1 concatena por colunas, axis = 0 concatena por linhas\n",
    "#np.concatenate([np.ones((m, 1)), X], axis=1)"
   ]
  },
  {
   "cell_type": "code",
   "execution_count": 9,
   "metadata": {},
   "outputs": [
    {
     "name": "stdout",
     "output_type": "stream",
     "text": [
      "Custo dos valores de teta = [1 1]: 303.9931922202643\n",
      "Valores dos parâmetros teta para esse custo: [-15.30301567 598.25074417]\n"
     ]
    }
   ],
   "source": [
    "# definindo uma hipótese inicial para os valores dos parâmetros\n",
    "teta = np.array([1, 1])\n",
    "# adicionando um bias aos atributos previsores de treinamento\n",
    "X_bias = np.concatenate([np.ones((m, 1)), X], axis=1)\n",
    "# computando o valor da função de custo para esses valores \n",
    "J, grad = linearRegCostFunction(X_bias, y, teta, 1)\n",
    "\n",
    "print('Custo dos valores de teta = {}: {}'.format(teta, J))\n",
    "print('Valores dos parâmetros teta para esse custo: {}'.format(grad))"
   ]
  },
  {
   "cell_type": "markdown",
   "metadata": {},
   "source": [
    "### Realizando o treinamento com a regressão linear\n",
    "\n",
    "Uma vez que sua função de custo e gradiente estão funcionando corretamente, a próxima célula irá executar o código em `trainLinearReg` para calcular os valores ótimos de $\\theta$. Esta função de treinamento usa o módulo de otimização `scipy` para minimizar a função de custo.\n",
    "\n",
    "Nesta parte, definimos o parâmetro de regularização $\\lambda$ como zero. Como nossa implementação atual de regressão linear está tentando ajustar um $\\theta$ bidimensional, a regularização não será extremamente útil para um $\\theta$ de dimensão tão baixa. Nas partes posteriores do exercício, você usará a regressão polinomial com regularização.\n",
    "\n",
    "Finalmente, o código na próxima célula também deve traçar a linha de melhor ajuste, que deve ser semelhante à figura abaixo. \n",
    "\n",
    "![](imagens/linear_fit.png)\n",
    "\n",
    "A linha de melhor ajuste nos diz que o modelo não é um bom ajuste para os dados porque os dados têm um padrão não linear. Embora visualizar o melhor ajuste conforme mostrado seja uma maneira possível de depurar seu algoritmo de aprendizado, nem sempre é fácil visualizar os dados e o modelo. Na próxima seção, você implementará uma função para gerar curvas de aprendizado que podem ajudá-lo a depurar seu algoritmo de aprendizado, mesmo que não seja fácil visualizar os dados."
   ]
  },
  {
   "cell_type": "code",
   "execution_count": 10,
   "metadata": {},
   "outputs": [],
   "source": [
    "def trainLinearReg(linearRegCostFunction, X, y, lambda_ = 0.0, maxiter = 200):\n",
    "    \"\"\"\n",
    "    Trains linear regression using scipy's optimize.minimize.\n",
    "\n",
    "    Parameters\n",
    "    ----------\n",
    "    X : array_like\n",
    "        The dataset with shape (m x n+1). The bias term is assumed to be concatenated.\n",
    "\n",
    "    y : array_like\n",
    "        Function values at each datapoint. A vector of shape (m,).\n",
    "\n",
    "    lambda_ : float, optional\n",
    "        The regularization parameter.\n",
    "\n",
    "    maxiter : int, optional\n",
    "        Maximum number of iteration for the optimization algorithm.\n",
    "\n",
    "    Returns\n",
    "    -------\n",
    "    theta : array_like\n",
    "        The parameters for linear regression. This is a vector of shape (n+1,).\n",
    "    \"\"\"\n",
    "    # definindo valores iniciais para teta\n",
    "    teta_inicial = np.zeros(X.shape[1])\n",
    "\n",
    "    # criando uma função lambda relativa a função de custo\n",
    "    costFunction = lambda t: linearRegCostFunction(X, y, t, lambda_)\n",
    "\n",
    "    # a função de custo recebe apenas um argumento\n",
    "    options = {'maxiter': maxiter}\n",
    "\n",
    "    # minimização da função de custo através do scipy (por meio da modificação dos parâmetros)\n",
    "    res = optimize.minimize(costFunction, teta_inicial, jac = True, method = 'TNC', options = options)\n",
    "    return res"
   ]
  },
  {
   "cell_type": "code",
   "execution_count": 11,
   "metadata": {},
   "outputs": [
    {
     "data": {
      "text/plain": [
       "(303.9515255535976, array([-15.30301567, 598.16741084]))"
      ]
     },
     "execution_count": 11,
     "metadata": {},
     "output_type": "execute_result"
    }
   ],
   "source": [
    "# entendendo como uma função lambda pode ser invocada (observe que ela funciona só com a chamada de um argumento ao invés de 4)\n",
    "lambda_ = 0\n",
    "costFunction = lambda teta: linearRegCostFunction(X_bias, y, teta, lambda_)\n",
    "costFunction(np.array([1, 1]))"
   ]
  },
  {
   "cell_type": "code",
   "execution_count": 12,
   "metadata": {},
   "outputs": [
    {
     "name": "stdout",
     "output_type": "stream",
     "text": [
      "Função de custo após a otimização: 22.373906495108915\n",
      "Valores de teta após a otimização: [13.08790351  0.36777923]\n"
     ]
    }
   ],
   "source": [
    "# obtendo a função de custo e os parâmetros após a otimização\n",
    "valores_otimizados = trainLinearReg(linearRegCostFunction, X_bias, y, lambda_ = 0)\n",
    "print('Função de custo após a otimização: {}'.format(valores_otimizados.fun))\n",
    "print('Valores de teta após a otimização: {}'.format(valores_otimizados.x))"
   ]
  },
  {
   "cell_type": "code",
   "execution_count": 13,
   "metadata": {},
   "outputs": [
    {
     "data": {
      "text/plain": [
       "[<matplotlib.lines.Line2D at 0x1cb0de32288>]"
      ]
     },
     "execution_count": 13,
     "metadata": {},
     "output_type": "execute_result"
    },
    {
     "data": {
      "image/png": "[encoded data removed]",
      "text/plain": [
       "<Figure size 432x288 with 1 Axes>"
      ]
     },
     "metadata": {
      "needs_background": "light"
     },
     "output_type": "display_data"
    }
   ],
   "source": [
    "#  Visualizando a reta obtida com o algoritmo de regressão linear\n",
    "plt.plot(X, y, 'ro', ms=10, mec='k', mew=1.5)\n",
    "plt.xlabel('Mudança no nível da água (x)')\n",
    "plt.ylabel('Água fluindo para fora da barragem (y)')\n",
    "plt.plot(X, np.dot(X_bias, valores_otimizados.x), '--', lw=2)"
   ]
  },
  {
   "cell_type": "markdown",
   "metadata": {},
   "source": [
    "## Bias - Variância\n",
    "\n",
    "Um conceito importante no aprendizado de máquina é a compensação de bias - variância. Os modelos com um viés (bias) alto não são complexos o suficiente para os dados e tendem a se ajustar mal, enquanto os modelos com alta variância se ajustam excessivamente aos dados de treinamento. \n",
    "\n",
    "### Curvas de Aprendizagem\n",
    "\n",
    "Agora, você implementará o código para gerar as curvas de aprendizado que serão úteis na depuração de algoritmos de aprendizado. Lembre-se de que uma curva de aprendizado traça o treinamento e o erro de validação cruzada como uma função do tamanho do conjunto de treinamento. Seu trabalho é preencher a função **learningCurve** na próxima célula, de modo que ela retorne um vetor de erros para o conjunto de treinamento e conjunto de validação cruzada.\n",
    "\n",
    "Para traçar a curva de aprendizado, precisamos de um erro de conjunto de treinamento e validação cruzada para diferentes tamanhos de conjunto de treinamento. Para obter tamanhos de conjunto de treinamento diferentes, você deve usar subconjuntos diferentes do conjunto de treinamento original `X`. Especificamente, para um tamanho de conjunto de treinamento de $i$, você deve usar os primeiros $i$ exemplos (i.e., `X[:i, :]`\n",
    "and `y[:i]`).\n",
    "\n",
    "Depois de aprender os parâmetros $\\theta$, você deve calcular o erro nos conjuntos de treinamento e validação cruzada. Lembre-se de que o erro de treinamento para um conjunto de dados é definido como\n",
    "\n",
    "$$ J_{\\text{train}} = \\frac{1}{2m} \\left[ \\sum_{i=1}^m \\left(h_\\theta \\left( x^{(i)} \\right) - y^{(i)} \\right)^2 \\right] $$\n",
    "\n",
    "Em particular, observe que o erro de treinamento não inclui o termo de regularização. Uma maneira de calcular o erro de treinamento é usar sua função de custo existente e definir $\\lambda$ como 0 apenas ao usá-la para calcular o erro de treinamento e o erro de validação cruzada. Ao calcular o erro do conjunto de treinamento, certifique-se de calculá-lo no subconjunto de treinamento (ou seja, `X [: n,:]` e `y [: n]`) em vez de no conjunto de treinamento inteiro. No entanto, para o erro de validação cruzada, você deve computá-lo em todo o conjunto de validação cruzada. "
   ]
  },
  {
   "cell_type": "code",
   "execution_count": 14,
   "metadata": {},
   "outputs": [],
   "source": [
    "def learningCurve(X, y, Xval, yval, lambda_=0):\n",
    "    \"\"\"\n",
    "    Generates the train and cross validation set errors needed to plot a learning curve\n",
    "    returns the train and cross validation set errors for a learning curve. \n",
    "    \n",
    "    In this function, you will compute the train and test errors for\n",
    "    dataset sizes from 1 up to m. In practice, when working with larger\n",
    "    datasets, you might want to do this in larger intervals.\n",
    "    \n",
    "    Parameters\n",
    "    ----------\n",
    "    X : array_like\n",
    "        The training dataset. Matrix with shape (m x n + 1) where m is the \n",
    "        total number of examples, and n is the number of features \n",
    "        before adding the bias term.\n",
    "    \n",
    "    y : array_like\n",
    "        The functions values at each training datapoint. A vector of\n",
    "        shape (m, ).\n",
    "    \n",
    "    Xval : array_like\n",
    "        The validation dataset. Matrix with shape (m_val x n + 1) where m is the \n",
    "        total number of examples, and n is the number of features \n",
    "        before adding the bias term.\n",
    "    \n",
    "    yval : array_like\n",
    "        The functions values at each validation datapoint. A vector of\n",
    "        shape (m_val, ).\n",
    "    \n",
    "    lambda_ : float, optional\n",
    "        The regularization parameter.\n",
    "    \n",
    "    Returns\n",
    "    -------\n",
    "    error_train : array_like\n",
    "        A vector of shape m. error_train[i] contains the training error for\n",
    "        i examples.\n",
    "    error_val : array_like\n",
    "        A vecotr of shape m. error_val[i] contains the validation error for\n",
    "        i training examples.\n",
    "    \n",
    "    Instructions\n",
    "    ------------\n",
    "    Fill in this function to return training errors in error_train and the\n",
    "    cross validation errors in error_val. i.e., error_train[i] and \n",
    "    error_val[i] should give you the errors obtained after training on i examples.\n",
    "    \n",
    "    Notes\n",
    "    -----\n",
    "    - You should evaluate the training error on the first i training\n",
    "      examples (i.e., X[:i, :] and y[:i]).\n",
    "    \n",
    "      For the cross-validation error, you should instead evaluate on\n",
    "      the _entire_ cross validation set (Xval and yval).\n",
    "    \n",
    "    - If you are using your cost function (linearRegCostFunction) to compute\n",
    "      the training and cross validation error, you should call the function with\n",
    "      the lambda argument set to 0. Do note that you will still need to use\n",
    "      lambda when running the training to obtain the theta parameters.\n",
    "    \n",
    "    Hint\n",
    "    ----\n",
    "    You can loop over the examples with the following:\n",
    "     \n",
    "           for i in range(1, m+1):\n",
    "               # Compute train/cross validation errors using training examples \n",
    "               # X[:i, :] and y[:i], storing the result in \n",
    "               # error_train[i-1] and error_val[i-1]\n",
    "               ....  \n",
    "    \"\"\"\n",
    "    # número de exemplos treináveis\n",
    "    m = y.size\n",
    "\n",
    "    # criando um array numpy para armazenar os erros de predição associados aos atributos de treinamento e de validação\n",
    "    erro_treinamento = np.zeros(m)\n",
    "    erro_validacao   = np.zeros(m)\n",
    "\n",
    "    # ====================== YOUR CODE HERE ======================\n",
    "    \n",
    "    for i in range(1, m + 1):\n",
    "        teta_t = trainLinearReg(linearRegCostFunction, X[:i], y[:i], lambda_ = 0)\n",
    "        erro_treinamento[i - 1], _ = linearRegCostFunction(X[:i], y[:i], teta_t.x, lambda_ = 0)\n",
    "        erro_validacao[i - 1], _ = linearRegCostFunction(Xval, yval, teta_t.x, lambda_ = 0)\n",
    "        \n",
    "    # =============================================================\n",
    "    return erro_treinamento, erro_validacao"
   ]
  },
  {
   "cell_type": "markdown",
   "metadata": {},
   "source": [
    "Quando você terminar de implementar a função `learningCurve`, executar a próxima célula imprimirá as curvas de aprendizado e produzirá um gráfico semelhante à figura abaixo.\n",
    "\n",
    "![](imagens/learning_curve.png)\n",
    "\n",
    "Na figura da curva de aprendizado, você pode observar que tanto o erro do treinamento quanto o erro de validação cruzada são altos quando o número de exemplos de treinamento é aumentado. Isso reflete um problema de viés (bias) alto no modelo - o modelo de regressão linear é muito simples e não consegue se ajustar bem ao nosso conjunto de dados."
   ]
  },
  {
   "cell_type": "code",
   "execution_count": 15,
   "metadata": {},
   "outputs": [],
   "source": [
    "# adicionando um parâmetro bias nos atributos previsores de treinamento e de validação\n",
    "X_bias = np.concatenate([np.ones((m, 1)), X], axis=1)\n",
    "Xval_bias = np.concatenate([np.ones((yval.size, 1)), Xval], axis=1)\n",
    "\n",
    "# obtendo os valores de erro associados aos dados de treinamento e aos dados de validação\n",
    "erro_treinamento, erro_validacao = learningCurve(X_bias, y, Xval_bias, yval, lambda_=0)"
   ]
  },
  {
   "cell_type": "code",
   "execution_count": 16,
   "metadata": {},
   "outputs": [
    {
     "data": {
      "text/plain": [
       "Text(0, 0.5, 'Erro')"
      ]
     },
     "execution_count": 16,
     "metadata": {},
     "output_type": "execute_result"
    },
    {
     "data": {
      "image/png": "[encoded data removed]",
      "text/plain": [
       "<Figure size 720x360 with 1 Axes>"
      ]
     },
     "metadata": {
      "needs_background": "light"
     },
     "output_type": "display_data"
    }
   ],
   "source": [
    "# visulizando o gráfico de erro nas predições com os dados de treinamento e os dados de validação\n",
    "plt.figure(figsize = (10, 5))\n",
    "plt.plot(np.arange(1, m+1), erro_treinamento, np.arange(1, m+1), erro_validacao, lw=2)\n",
    "plt.title('Curva de aprendizado para regressão linear')\n",
    "plt.legend(['Treinamento', 'Validação Cruzada'])\n",
    "plt.xlabel('Número de exemplos treináveis')\n",
    "plt.ylabel('Erro')"
   ]
  },
  {
   "cell_type": "code",
   "execution_count": 17,
   "metadata": {},
   "outputs": [
    {
     "name": "stdout",
     "output_type": "stream",
     "text": [
      "# Exemplos de Treinamento\tErro de Treinamento\tErro de Validação Cruzada\n",
      "1\t\t\t\t1.0176953929799205e-18\t205.1210957127572\n",
      "2\t\t\t\t3.466571458294657e-09\t110.30264057845221\n",
      "3\t\t\t\t3.2865950455012833\t45.010231320931936\n",
      "4\t\t\t\t2.8426776893998307\t48.36891082876348\n",
      "5\t\t\t\t13.154048809114924\t35.86516473228544\n",
      "6\t\t\t\t19.443962512495464\t33.829961665848444\n",
      "7\t\t\t\t20.098521655088877\t31.97098567215687\n",
      "8\t\t\t\t18.172858695200024\t30.862446202285934\n",
      "9\t\t\t\t22.609405424954733\t31.13599809769148\n",
      "10\t\t\t\t23.261461592611813\t28.93620747049214\n",
      "11\t\t\t\t24.31724958804416\t29.55143162171058\n",
      "12\t\t\t\t22.373906495108915\t29.43381813215488\n"
     ]
    }
   ],
   "source": [
    "print('# Exemplos de Treinamento\\tErro de Treinamento\\tErro de Validação Cruzada')\n",
    "for i in range(m):\n",
    "    print('{}\\t\\t\\t\\t{}\\t{}'.format(i+1, erro_treinamento[i], erro_validacao[i]))"
   ]
  },
  {
   "cell_type": "markdown",
   "metadata": {},
   "source": [
    "## Regressão Polinomial Regularizada\n",
    "\n",
    "O problema com nosso modelo linear é que ele é muito simples para os dados e resultava em subajuste (viés alto). Nesta parte do exercício, você tratará desse problema adicionando mais recursos. Para regressão polinomial, nossa hipótese tem a forma:\n",
    "\n",
    "$$\n",
    "\\begin{align}\n",
    "h_\\theta(x)  &= \\theta_0 + \\theta_1 \\times (\\text{nivelAgua}) + \\theta_2 \\times (\\text{nivelAgua})^2 + \\cdots + \\theta_p \\times (\\text{nivelAgua})^p \\\\\n",
    "& = \\theta_0 + \\theta_1 x_1 + \\theta_2 x_2 + \\cdots + \\theta_p x_p\n",
    "\\end{align}\n",
    "$$\n",
    "\n",
    "Observe que ao definir $x_1 = (\\text{nivelAgua})$, $x_2 = (\\text{nivelAgua})^2$ , $\\cdots$, $x_p =\n",
    "(\\text{nivelAgua})^p$, obtemos um modelo de regressão linear onde os recursos são as várias potências do valor original (nivelAgua).\n",
    "\n",
    "Agora, você adicionará mais recursos usando as potências mais altas do recurso existente $x$ no conjunto de dados. Sua tarefa nesta parte é completar o código na função `polyFeatures` na próxima célula. A função deve mapear o conjunto de treinamento original $X$ de tamanho $m \\times 1$ em suas potências superiores. Especificamente, quando um conjunto de treinamento $X$ de tamanho $m \\times 1$ é passado para a função, a função deve retornar uma matriz $m \\times p$ `X_poli`, onde a coluna 1 contém os valores originais de X, coluna 2 contém os valores de $X^2$, a coluna 3 contém os valores de $ X^3$ e assim sucessivamente."
   ]
  },
  {
   "cell_type": "code",
   "execution_count": 18,
   "metadata": {},
   "outputs": [],
   "source": [
    "def polyFeatures(X, p):\n",
    "    \"\"\"\n",
    "    Maps X (1D vector) into the p-th power.\n",
    "    \n",
    "    Parameters\n",
    "    ----------\n",
    "    X : array_like\n",
    "        A data vector of size m, where m is the number of examples.\n",
    "    \n",
    "    p : int\n",
    "        The polynomial power to map the features. \n",
    "    \n",
    "    Returns \n",
    "    -------\n",
    "    X_poly : array_like\n",
    "        A matrix of shape (m x p) where p is the polynomial \n",
    "        power and m is the number of examples. That is:\n",
    "    \n",
    "        X_poly[i, :] = [X[i], X[i]**2, X[i]**3 ...  X[i]**p]\n",
    "    \n",
    "    Instructions\n",
    "    ------------\n",
    "    Given a vector X, return a matrix X_poly where the p-th column of\n",
    "    X contains the values of X to the p-th power.\n",
    "    \"\"\"\n",
    "    # iniciar um array numpy para armazenar os valores das potências obtidas\n",
    "    X_polinomios = np.zeros((X.shape[0], p))\n",
    "\n",
    "    # ====================== YOUR CODE HERE ======================\n",
    "    \n",
    "    # iteração para obter as potências relativas em cada execução\n",
    "    for i in range(p):\n",
    "        X_polinomios[:, i] = X[:, 0] ** (i + 1)\n",
    "\n",
    "    # ============================================================\n",
    "    return X_polinomios"
   ]
  },
  {
   "cell_type": "markdown",
   "metadata": {},
   "source": [
    "Agora você tem uma função que mapeará os recursos para uma dimensão superior. A próxima célula o aplicará ao conjunto de treinamento, ao conjunto de teste e ao conjunto de validação cruzada."
   ]
  },
  {
   "cell_type": "code",
   "execution_count": 19,
   "metadata": {},
   "outputs": [],
   "source": [
    "def featureNormalize(X):\n",
    "    \"\"\"\n",
    "    Normalizes the features in X returns a normalized version of X where the mean value of each\n",
    "    feature is 0 and the standard deviation is 1. This is often a good preprocessing step to do when\n",
    "    working with learning algorithms.\n",
    "\n",
    "    Parameters\n",
    "    ----------\n",
    "    X : array_like\n",
    "        An dataset which is a (m x n) matrix, where m is the number of examples,\n",
    "        and n is the number of dimensions for each example.\n",
    "\n",
    "    Returns\n",
    "    -------\n",
    "    X_norm : array_like\n",
    "        The normalized input dataset.\n",
    "\n",
    "    mu : array_like\n",
    "        A vector of size n corresponding to the mean for each dimension across all examples.\n",
    "\n",
    "    sigma : array_like\n",
    "        A vector of size n corresponding to the standard deviations for each dimension across\n",
    "        all examples.\n",
    "    \"\"\"\n",
    "    \n",
    "    # obtendo a médio dos dados\n",
    "    mu = np.mean(X, axis = 0)\n",
    "    X_norm = (X - mu)\n",
    "        \n",
    "    # obtendo o desvio padrão dos dados\n",
    "    sigma = np.std(X_norm, axis = 0, ddof = 1)\n",
    "    \n",
    "    # aplicando a distribuição normal (ou distribuição gaussiana)\n",
    "    X_norm = (X - mu) / sigma\n",
    "    \n",
    "    return X_norm, mu, sigma"
   ]
  },
  {
   "cell_type": "code",
   "execution_count": 20,
   "metadata": {},
   "outputs": [
    {
     "name": "stdout",
     "output_type": "stream",
     "text": [
      "Exemplos de treinamento normalizados: \n"
     ]
    },
    {
     "data": {
      "text/plain": [
       "array([ 1.        , -0.36214078, -0.75508669,  0.18222588, -0.70618991,\n",
       "        0.30661792, -0.59087767,  0.3445158 , -0.50848117])"
      ]
     },
     "execution_count": 20,
     "metadata": {},
     "output_type": "execute_result"
    }
   ],
   "source": [
    "# definindo polinômios até grau 8\n",
    "p = 8\n",
    "\n",
    "# realizar o mapeamento nos atributos previsores de treinamento\n",
    "X_polinomial = polyFeatures(X, p)\n",
    "X_polinomial, mu, sigma = featureNormalize(X_polinomial)\n",
    "X_polinomial = np.concatenate([np.ones((m, 1)), X_polinomial], axis=1)\n",
    "\n",
    "# Realizar o mapeamento e aplicar a normalização (usando mu e sigma)\n",
    "X_polinomial_teste = polyFeatures(Xtest, p)\n",
    "X_polinomial_teste -= mu\n",
    "X_polinomial_teste /= sigma\n",
    "# adicionando um parâmetro de viés\n",
    "X_polinomial_teste = np.concatenate([np.ones((ytest.size, 1)), X_polinomial_teste], axis=1)\n",
    "\n",
    "# Realizar o mapeamento e aplicar a normalização (usando mu e sigma)\n",
    "X_polinomial_validacao = polyFeatures(Xval, p)\n",
    "X_polinomial_validacao -= mu\n",
    "X_polinomial_validacao /= sigma\n",
    "# adicionando um parâmetro de viés\n",
    "X_polinomial_validacao = np.concatenate([np.ones((yval.size, 1)), X_polinomial_validacao], axis=1)\n",
    "\n",
    "print('Exemplos de treinamento normalizados: ')\n",
    "X_polinomial[0, :]"
   ]
  },
  {
   "cell_type": "markdown",
   "metadata": {},
   "source": [
    "Depois de concluir a função `polyFeatures`, continuaremos a treinar a regressão polinomial usando sua função de custo de regressão linear.\n",
    "\n",
    "Lembre-se de que, embora tenhamos termos polinomiais em nosso vetor de recursos, ainda estamos resolvendo um problema de otimização de regressão linear. Os termos polinomiais simplesmente se transformaram em recursos que podemos usar para regressão linear. Estamos usando a mesma função de custo e gradiente que você escreveu para a parte anterior deste exercício.\n",
    "\n",
    "Para esta parte do exercício, você usará um polinômio de grau 8. Acontece que se executarmos o treinamento diretamente nos dados projetados, não funcionará bem, pois os recursos seriam mal dimensionados (por exemplo, um exemplo com $ x = 40 $ agora terá um recurso de $x_8 = 40^8 = 6.5 \\times 10^{12}$). Portanto, você vai precisa usar a normalização.\n",
    "\n",
    "Antes de aprender os parâmetros $\\theta$ para a regressão polinomial, primeiro chamamos `featureNormalize` e normalizamos os recursos do conjunto de treinamento, armazenando os parâmetros mu, sigma separadamente.\n",
    "\n",
    "Depois de aprender os parâmetros $\\theta$, você deve ver dois gráficos gerados para regressão polinomial com $\\lambda = 0 $, que devem ser semelhantes aos aqui:\n",
    "\n",
    "<table>\n",
    "    <tr>\n",
    "        <td><img src=\"imagens/polynomial_regression.png\"></td>\n",
    "        <td><img src=\"imagens/polynomial_learning_curve.png\"></td>\n",
    "    </tr>\n",
    "</table>\n",
    "\n",
    "Você deve ver que o ajuste polinomial é capaz de acompanhar muito bem os pontos de dados, obtendo assim um erro de treinamento baixo. A figura à direita mostra que o erro de treinamento permanece essencialmente zero para todos os números de amostras de treinamento. No entanto, o ajuste polinomial é muito complexo e até mesmo cai nos extremos. Este é um indicador de que o modelo de regressão polinomial está super ajustando os dados de treinamento e não generalizará bem.\n",
    "\n",
    "Para entender melhor os problemas com o modelo não regularizado ($\\lambda = 0$), você pode ver que a curva de aprendizado mostra o mesmo efeito onde o erro de treinamento é baixo, mas o erro de validação cruzada é alto. Há uma lacuna entre os erros de treinamento e de validação cruzada, indicando um problema de alta variância."
   ]
  },
  {
   "cell_type": "code",
   "execution_count": 21,
   "metadata": {},
   "outputs": [],
   "source": [
    "def plotFit(polyFeatures, min_x, max_x, mu, sigma, teta, p):\n",
    "    \"\"\"\n",
    "    Plots a learned polynomial regression fit over an existing figure.\n",
    "    Also works with linear regression.\n",
    "    Plots the learned polynomial fit with power p and feature normalization (mu, sigma).\n",
    "\n",
    "    Parameters\n",
    "    ----------\n",
    "    polyFeatures : func\n",
    "        A function which generators polynomial features from a single feature.\n",
    "\n",
    "    min_x : float\n",
    "        The minimum value for the feature.\n",
    "\n",
    "    max_x : float\n",
    "        The maximum value for the feature.\n",
    "\n",
    "    mu : float\n",
    "        The mean feature value over the training dataset.\n",
    "\n",
    "    sigma : float\n",
    "        The feature standard deviation of the training dataset.\n",
    "\n",
    "    theta : array_like\n",
    "        The parameters for the trained polynomial linear regression.\n",
    "\n",
    "    p : int\n",
    "        The polynomial order.\n",
    "    \"\"\"\n",
    "    # traçamos um intervalo ligeiramente maior do que os valores mínimo e máximo para obter\n",
    "    # uma ideia de como o ajuste irá variar fora do intervalo dos pontos de dados\n",
    "    x = np.arange(min_x - 15, max_x + 25, 0.05).reshape(-1, 1)\n",
    "\n",
    "    # realizando um mapeamento nos valores de X_polinomio\n",
    "    X_polinomio = polyFeatures(x, p)\n",
    "    X_polinomio -= mu\n",
    "    X_polinomio /= sigma\n",
    "\n",
    "    # adicionando o parâmetro de viés\n",
    "    X_polinomio = np.concatenate([np.ones((x.shape[0], 1)), X_polinomio], axis=1)\n",
    "\n",
    "    # plotando o gráfico da curva \n",
    "    plt.plot(x, np.dot(X_polinomio, teta), '--', lw=2)\n",
    "    \n",
    "    return None"
   ]
  },
  {
   "cell_type": "code",
   "execution_count": 22,
   "metadata": {},
   "outputs": [
    {
     "data": {
      "text/plain": [
       "(-20, 50)"
      ]
     },
     "execution_count": 22,
     "metadata": {},
     "output_type": "execute_result"
    },
    {
     "data": {
      "image/png": "[encoded data removed]",
      "text/plain": [
       "<Figure size 720x360 with 1 Axes>"
      ]
     },
     "metadata": {
      "needs_background": "light"
     },
     "output_type": "display_data"
    }
   ],
   "source": [
    "lambda_ = 1\n",
    "# obtendo os valores de teta otimizador\n",
    "teta = trainLinearReg(linearRegCostFunction, X_polinomial, y, lambda_=lambda_, maxiter = 55)\n",
    "\n",
    "# plotandos os dados e realizando treinamento para obter a curva polinomial\n",
    "plt.figure(figsize = (10, 5))\n",
    "plt.plot(X, y, 'ro', ms=10, mew=1.5, mec='k')\n",
    "plotFit(polyFeatures, np.min(X), np.max(X), mu, sigma, teta.x, p)\n",
    "\n",
    "plt.xlabel('Mudança no nível da água (x)')\n",
    "plt.ylabel('Água fluindo para fora da barragem (y)')\n",
    "plt.title('Ajuste de regressão polinomial (lambda =% f)' % lambda_)\n",
    "plt.ylim([-20, 50])"
   ]
  },
  {
   "cell_type": "code",
   "execution_count": 23,
   "metadata": {},
   "outputs": [
    {
     "data": {
      "text/plain": [
       "<matplotlib.legend.Legend at 0x1cb0dfa5d08>"
      ]
     },
     "execution_count": 23,
     "metadata": {},
     "output_type": "execute_result"
    },
    {
     "data": {
      "image/png": "[encoded data removed]",
      "text/plain": [
       "<Figure size 720x360 with 1 Axes>"
      ]
     },
     "metadata": {
      "needs_background": "light"
     },
     "output_type": "display_data"
    }
   ],
   "source": [
    "plt.figure(figsize = (10, 5))\n",
    "# obtendo os erros de predição para os dados de treinamento e dados de validação\n",
    "erro_treinamento, erro_validacao = learningCurve(X_polinomial, y, X_polinomial_validacao, yval, lambda_)\n",
    "plt.plot(np.arange(1, 1+m), erro_treinamento, np.arange(1, 1+m), erro_validacao)\n",
    "\n",
    "plt.title('Curva de aprendizado de regressão polinomial (lambda =% f)' % lambda_)\n",
    "plt.xlabel('Número de exemplos treináveis')\n",
    "plt.ylabel('Erro')\n",
    "plt.axis([0, 13, 0, 100])\n",
    "plt.legend(['Treinamento', 'Validação Cruzada'])"
   ]
  },
  {
   "cell_type": "code",
   "execution_count": 24,
   "metadata": {},
   "outputs": [
    {
     "name": "stdout",
     "output_type": "stream",
     "text": [
      "Regressão polinomial (lambda = 1.000000) \n",
      "\n",
      "# Exemplos de Treinamento\tErro de Treinamento\tErro de Validação Cruzada\n",
      "1\t\t\t\t3.859500834000432e-18\t160.72189969292504\n",
      "2\t\t\t\t1.1930763209757199e-15\t160.12151057471988\n",
      "3\t\t\t\t2.071029708106108e-15\t59.07163515099596\n",
      "4\t\t\t\t2.529302939607181e-14\t77.99800443468749\n",
      "5\t\t\t\t2.619151881368912e-13\t6.44903267892577\n",
      "6\t\t\t\t1.199041652627713e-09\t10.829904725223551\n",
      "7\t\t\t\t1.1477531309141007e-08\t27.917627576373725\n",
      "8\t\t\t\t0.0014422436133806741\t18.841672110191364\n",
      "9\t\t\t\t0.00018516106251086653\t31.270978495497804\n",
      "10\t\t\t\t0.014306064406882769\t76.11884337225582\n",
      "11\t\t\t\t0.032763615207474964\t38.04180051121988\n",
      "12\t\t\t\t0.030050528636162192\t39.119109734143265\n"
     ]
    }
   ],
   "source": [
    "# visualizando os erros associados aos dados de treinamento e aos dados de validação\n",
    "print('Regressão polinomial (lambda =% f) \\n' % lambda_)\n",
    "print('# Exemplos de Treinamento\\tErro de Treinamento\\tErro de Validação Cruzada')\n",
    "for i in range(m):\n",
    "    print('{}\\t\\t\\t\\t{}\\t{}'.format(i+1, erro_treinamento[i], erro_validacao[i]))"
   ]
  },
  {
   "cell_type": "markdown",
   "metadata": {},
   "source": [
    "Uma maneira de combater o problema de overfitting (alta variância) é adicionar regularização ao modelo. Na próxima seção, você experimentará diferentes parâmetros $\\lambda$ para ver como a regularização pode levar a um modelo melhor.\n",
    "\n",
    "### Ajustando o hiperparâmetro de regularização\n",
    "\n",
    "Nesta seção, você verá como o parâmetro de regularização afeta a variação de polarização da regressão polinomial regularizada. Agora você deve modificar o parâmetro lambda e tentar $\\lambda = 1, 100$. Para cada um desses valores, o script deve gerar um ajuste polinomial aos dados e também uma curva de aprendizado.\n",
    "\n",
    "Para $\\lambda = 1$, os gráficos gerados devem ser semelhantes à figura abaixo. Você deve ver um ajuste polinomial que segue bem a tendência dos dados (à esquerda) e uma curva de aprendizado (à direita) mostrando que a validação cruzada e o erro de treinamento convergem para um valor relativamente baixo. Isso mostra que o modelo de regressão polinomial regularizado $\\lambda = 1$ não tem problemas de viés alto ou alta variância. Na verdade, ele consegue um bom equilíbrio entre o viés e a variância.\n",
    "\n",
    "<table>\n",
    "    <tr>\n",
    "        <td><img src=\"imagens/polynomial_regression_reg_1.png\"></td>\n",
    "        <td><img src=\"imagens/polynomial_learning_curve_reg_1.png\"></td>\n",
    "    </tr>\n",
    "</table>\n",
    "\n",
    "Para $\\lambda = 100$, você deve ver um ajuste polinomial (figura abaixo) que não segue bem os dados. Nesse caso, há muita regularização e o modelo não consegue ajustar os dados de treinamento.\n",
    "\n",
    "![](imagens/polynomial_regression_reg_100.png)"
   ]
  },
  {
   "cell_type": "markdown",
   "metadata": {},
   "source": [
    "### Selecionando $\\lambda$ usando validação cruzada\n",
    "\n",
    "Nas partes anteriores do exercício, você observou que o valor de $\\lambda$ pode afetar significativamente os resultados da regressão polinomial regularizada no conjunto de treinamento e validação cruzada. Em particular, um modelo sem regularização ($\\lambda = 0$) se ajusta bem ao conjunto de treinamento, mas não generaliza. Por outro lado, um modelo com muita regularização ($\\lambda = 100$) não se ajusta bem ao conjunto de treinamento e teste. Uma boa escolha de $\\lambda$ (por exemplo, $\\lambda = 1$) pode fornecer um bom ajuste aos dados.\n",
    "\n",
    "Nesta seção, você implementará um método automatizado para selecionar o parâmetro $\\lambda$. Concretamente, você usará um conjunto de validação cruzada para avaliar a qualidade de cada valor de $\\lambda$. Depois de selecionar o melhor valor $\\lambda$ usando o conjunto de validação cruzada, podemos avaliar o modelo no conjunto de teste para estimar o quão bem o modelo terá um desempenho em dados reais não vistos.\n",
    "\n",
    "Sua tarefa é completar o código na função `validationCurve`. Especificamente, você deve usar a função `trainLinearReg` para treinar o modelo usando diferentes valores de $\\lambda$ e calcular o erro de treinamento e o erro de validação cruzada. Você deve tentar $\\lambda$ no seguinte intervalo: {0, 0,001, 0,003, 0,01, 0,03, 0,1, 0,3, 1, 3, 10}."
   ]
  },
  {
   "cell_type": "code",
   "execution_count": 25,
   "metadata": {},
   "outputs": [],
   "source": [
    "def validationCurve(X, y, Xval, yval):\n",
    "    \"\"\"\n",
    "    Generate the train and validation errors needed to plot a validation\n",
    "    curve that we can use to select lambda_.\n",
    "    \n",
    "    Parameters\n",
    "    ----------\n",
    "    X : array_like\n",
    "        The training dataset. Matrix with shape (m x n) where m is the \n",
    "        total number of training examples, and n is the number of features \n",
    "        including any polynomial features.\n",
    "    \n",
    "    y : array_like\n",
    "        The functions values at each training datapoint. A vector of\n",
    "        shape (m, ).\n",
    "    \n",
    "    Xval : array_like\n",
    "        The validation dataset. Matrix with shape (m_val x n) where m is the \n",
    "        total number of validation examples, and n is the number of features \n",
    "        including any polynomial features.\n",
    "    \n",
    "    yval : array_like\n",
    "        The functions values at each validation datapoint. A vector of\n",
    "        shape (m_val, ).\n",
    "    \n",
    "    Returns\n",
    "    -------\n",
    "    lambda_vec : list\n",
    "        The values of the regularization parameters which were used in \n",
    "        cross validation.\n",
    "    \n",
    "    error_train : list\n",
    "        The training error computed at each value for the regularization\n",
    "        parameter.\n",
    "    \n",
    "    error_val : list\n",
    "        The validation error computed at each value for the regularization\n",
    "        parameter.\n",
    "    \n",
    "    Instructions\n",
    "    ------------\n",
    "    Fill in this function to return training errors in `error_train` and\n",
    "    the validation errors in `error_val`. The vector `lambda_vec` contains\n",
    "    the different lambda parameters to use for each calculation of the\n",
    "    errors, i.e, `error_train[i]`, and `error_val[i]` should give you the\n",
    "    errors obtained after training with `lambda_ = lambda_vec[i]`.\n",
    "\n",
    "    Note\n",
    "    ----\n",
    "    You can loop over lambda_vec with the following:\n",
    "    \n",
    "          for i in range(len(lambda_vec))\n",
    "              lambda = lambda_vec[i]\n",
    "              # Compute train / val errors when training linear \n",
    "              # regression with regularization parameter lambda_\n",
    "              # You should store the result in error_train[i]\n",
    "              # and error_val[i]\n",
    "              ....\n",
    "    \"\"\"\n",
    "    # selecionando valores de análise para o hiperparâmetro lambda \n",
    "    lambda_vec = [0, 0.001, 0.003, 0.01, 0.03, 0.1, 0.3, 1, 3, 10]\n",
    "\n",
    "    # computando o erro na predição dos dados de treinamento e dados de validação\n",
    "    erro_treinamento = np.zeros(len(lambda_vec))\n",
    "    erro_validacao = np.zeros(len(lambda_vec))\n",
    "\n",
    "    # ====================== YOUR CODE HERE ======================\n",
    "\n",
    "    for i in range(len(lambda_vec)):\n",
    "        lambda_try = lambda_vec[i]\n",
    "        teta_t = trainLinearReg(linearRegCostFunction, X, y, lambda_ = lambda_try)\n",
    "        erro_treinamento[i], _ = linearRegCostFunction(X, y, teta_t.x, lambda_ = 0)\n",
    "        erro_validacao[i], _ = linearRegCostFunction(Xval, yval, teta_t.x, lambda_ = 0)\n",
    "\n",
    "    # ============================================================\n",
    "    return lambda_vec, erro_treinamento, erro_validacao"
   ]
  },
  {
   "cell_type": "markdown",
   "metadata": {},
   "source": [
    "Depois de concluir o código, a próxima célula executará sua função e traçará uma curva de validação cruzada de erro vs. $\\lambda$ que permite que você selecione qual parâmetro $\\lambda$ usar. Você deve ver um gráfico semelhante à figura abaixo. \n",
    "\n",
    "![](imagens/cross_validation.png)\n",
    "\n",
    "Nesta figura, podemos ver que o melhor valor de $\\lambda$ está em torno de 3. Devido à aleatoriedade nas divisões de treinamento e validação do conjunto de dados, o erro de validação cruzada pode às vezes ser menor do que o erro de treinamento."
   ]
  },
  {
   "cell_type": "code",
   "execution_count": 26,
   "metadata": {},
   "outputs": [
    {
     "data": {
      "text/plain": [
       "Text(0, 0.5, 'Erro')"
      ]
     },
     "execution_count": 26,
     "metadata": {},
     "output_type": "execute_result"
    },
    {
     "data": {
      "image/png": "[encoded data removed]",
      "text/plain": [
       "<Figure size 720x360 with 1 Axes>"
      ]
     },
     "metadata": {
      "needs_background": "light"
     },
     "output_type": "display_data"
    }
   ],
   "source": [
    "lambda_vec, erro_treinamento, erro_validacao = validationCurve(X_polinomial, y, X_polinomial_validacao, yval)\n",
    "\n",
    "plt.figure(figsize = (10, 5))\n",
    "plt.plot(lambda_vec, erro_treinamento, '-o', lambda_vec, erro_validacao, '-o', lw = 2)\n",
    "plt.legend(['Treinamento', 'Validação Cruzada'])\n",
    "plt.xlabel('lambda')\n",
    "plt.ylabel('Erro')"
   ]
  },
  {
   "cell_type": "code",
   "execution_count": 27,
   "metadata": {},
   "outputs": [
    {
     "name": "stdout",
     "output_type": "stream",
     "text": [
      "lambda\t\tErro de Treinamento\tErro de Validação\n",
      "0\t\t0.030050528636162192\t39.119109734143265\n",
      "0.001\t\t0.11274587795818126\t9.844088638063784\n",
      "0.003\t\t0.1710418958031822\t16.277693853361665\n",
      "0.01\t\t0.22147683088770645\t16.912547865800423\n",
      "0.03\t\t0.2818279277763506\t12.829495305555342\n",
      "0.1\t\t0.4593280639738924\t7.586642390152084\n",
      "0.3\t\t0.9217613979717447\t4.636819997428417\n",
      "1\t\t2.076199483729708\t4.26060177469673\n",
      "3\t\t4.901371970848054\t3.822928671071926\n",
      "10\t\t16.092272700585347\t9.945554220768376\n"
     ]
    }
   ],
   "source": [
    "print('lambda\\t\\tErro de Treinamento\\tErro de Validação')\n",
    "for i in range(len(lambda_vec)):\n",
    "    print('{}\\t\\t{}\\t{}'.format(lambda_vec[i], erro_treinamento[i], erro_validacao[i]))"
   ]
  }
 ],
 "metadata": {
  "kernelspec": {
   "display_name": "Python 3",
   "language": "python",
   "name": "python3"
  },
  "language_info": {
   "codemirror_mode": {
    "name": "ipython",
    "version": 3
   },
   "file_extension": ".py",
   "mimetype": "text/x-python",
   "name": "python",
   "nbconvert_exporter": "python",
   "pygments_lexer": "ipython3",
   "version": "3.7.4"
  }
 },
 "nbformat": 4,
 "nbformat_minor": 4
}
