{
 "cells": [
  {
   "cell_type": "markdown",
   "metadata": {},
   "source": [
    "# Gradiente Descendente e Regressão Linear\n",
    "#### Dissecando o algoritmo de otimização \"Gradiente Descendente\" e o algoritmo de aprendizado de máquina \"Regressão Linear\"."
   ]
  },
  {
   "cell_type": "markdown",
   "metadata": {},
   "source": [
    "> O algoritmo de **Regressão Linear** tem o objetivo de construir uma reta que melhor explique a relação dos dados."
   ]
  },
  {
   "cell_type": "markdown",
   "metadata": {},
   "source": [
    "![regressao-linear](Imagens/regressao-linear-exemplo.png)"
   ]
  },
  {
   "cell_type": "markdown",
   "metadata": {},
   "source": [
    "- $b_{1}$ = Coeficiente Angular da reta (me diz o quão inclinada a reta está);\n",
    "- $b$ = Coeficiente Linear (informa o quão deslocada a reta está);\n",
    "- etapa de treinamento do meu algoritmo é justamente descobrir os valores adequados para minha equação (verificar qual reta se encaixa melhor com os dados);"
   ]
  },
  {
   "cell_type": "markdown",
   "metadata": {},
   "source": [
    " ### Força bruta resolve o meu problema? \n",
    " - Utilizar força bruta para verificar a melhor reta que se adeque aos meus dados é uma estratégia não inteligente, pois demanda muito recurso computacional em um período de tempo maior;"
   ]
  },
  {
   "cell_type": "markdown",
   "metadata": {},
   "source": [
    "### Qual uma abordagem mais sofisticada para problemas de regressão linear?\n",
    "- ir interando passo a passo os valores de $b_{1}$ e de $b$, sempre verificando se os novos valores estão se adequando perfeitamente aos dados;\n",
    "- passos mais longos quando o erro é muito grande;\n",
    "- passos mais lentos quando o erro fica cada vez mais pequeno;"
   ]
  },
  {
   "cell_type": "markdown",
   "metadata": {},
   "source": [
    "### Como eu posso calcular o meu erro?"
   ]
  },
  {
   "cell_type": "markdown",
   "metadata": {},
   "source": [
    "- Usando uma função de custo para medir a soma de todos os erros para cada valor (distância dos pontos até a reta);\n",
    "- $Custo = \\sum^{n}_{i=1}(Y_{i}- Y^{hat}_{i})^{2}$\n",
    "- **n** total de dados analisados; \n",
    "- **i** índices para cada um dos pontos;\n",
    "- Em que **Y** é o valor obtido na minha etapa de treinamento, $Y^{hat}$ seria o valor esperado e a expressão está elevada ao quadrado para evitar saídas negativas (imagine que a minha reta está abaixo dos pontos esperados);"
   ]
  },
  {
   "cell_type": "markdown",
   "metadata": {},
   "source": [
    "## TORNAR MINHA FUNÇÃO DE CUSTO A MENOR POSSÍVEL!"
   ]
  },
  {
   "cell_type": "markdown",
   "metadata": {},
   "source": [
    "- Para esse fim, vamos utilizar a ideia de **gradiente descendente**!"
   ]
  },
  {
   "cell_type": "markdown",
   "metadata": {},
   "source": [
    "- Imagine que começamos com um valor aleatório de $b_{1}$;\n",
    "- $Y^{hat}$ não varia;\n",
    "- calculando a derivada de $b_{1}$ inicial para um $b$ fixo, ou o inverso, podemos obter a taxa de variação nesse ponto, de modo a obter a menor taxa de variação possível;"
   ]
  },
  {
   "cell_type": "markdown",
   "metadata": {},
   "source": [
    "![taxa-de-variacao](Imagens/taxa-de-variacao.png)"
   ]
  },
  {
   "cell_type": "markdown",
   "metadata": {},
   "source": [
    "- Quanto mais próximo eu estiver do ponto mínimo, teremos um valor para a função de custo menor possível, assim como quando estamos mais distantes, teremos um valor maior para a função de custo implementada;"
   ]
  },
  {
   "cell_type": "markdown",
   "metadata": {},
   "source": [
    "- Tal problema é facilmente resolvido com derivadas parciais!"
   ]
  },
  {
   "cell_type": "markdown",
   "metadata": {},
   "source": [
    "- ### $b_{1_{novo}} = b_{1_{velho}} -  a\\frac{\\partial Custo}{\\partial b_{1_{velho}}}$"
   ]
  },
  {
   "cell_type": "markdown",
   "metadata": {},
   "source": [
    "- ### $b_{novo} = b_{velho} -   b\\frac{\\partial Custo}{\\partial b_{velho}}$"
   ]
  },
  {
   "cell_type": "markdown",
   "metadata": {},
   "source": [
    "- $a$ e $b$ são as taxas de aprendizado, em que é possível normalizar o tamanho do passo da variação em cada interação;"
   ]
  },
  {
   "cell_type": "markdown",
   "metadata": {},
   "source": [
    "- ### Seja $Y_{i} = b + b_{1} * x_{i}$\n",
    "- ### $\\frac{\\partial Custo}{\\partial b_{1_{velho}}} = \\sum_{i=1}^{n} 2[(b + b_{1} * x_{i}) - Y^{hat}_{i}] * x_{i}$\n",
    "- ### $\\frac{\\partial Custo}{\\partial b_{velho}} = \\sum_{i=1}^{n} 2[(b + b_{1} * x_{i}) - Y^{hat}_{i}] * 1$"
   ]
  },
  {
   "cell_type": "markdown",
   "metadata": {},
   "source": [
    "- Quanto mais próximo próximo do ponto mínimo, menor a taxa de varição, e menor será a atualização do meu peso;\n",
    "- Quanto mais distante do ponto mínimo, maior a taxa de variação, e maior a atualização do meu peso;\n",
    "- Com esses valores, eu posso ir atualizando minha função de custo sucessivamente, de modo que o meu erro será menor em cada passo, seja a passos curtos ou a passos longos;"
   ]
  },
  {
   "cell_type": "markdown",
   "metadata": {},
   "source": [
    "### Implementação com Python"
   ]
  },
  {
   "cell_type": "code",
   "execution_count": 28,
   "metadata": {},
   "outputs": [
    {
     "name": "stdout",
     "output_type": "stream",
     "text": [
      "   idade  custo\n",
      "0     18    871\n",
      "1     23   1132\n",
      "2     28   1242\n",
      "3     33   1356\n",
      "4     38   1488\n",
      "5     43   1638\n",
      "6     48   2130\n",
      "7     53   2454\n",
      "8     58   3066\n",
      "9     63   4090\n"
     ]
    }
   ],
   "source": [
    "import pandas as pd\n",
    "import numpy as np\n",
    "import matplotlib.pyplot as plt\n",
    "%matplotlib inline\n",
    "\n",
    "# extraindo os dados\n",
    "dataframe = pd.read_csv('plano_saude.csv', encoding = 'utf-8', sep = ',')\n",
    "\n",
    "print(dataframe)"
   ]
  },
  {
   "cell_type": "code",
   "execution_count": 3,
   "metadata": {},
   "outputs": [
    {
     "data": {
      "text/plain": [
       "(10, 2)"
      ]
     },
     "execution_count": 3,
     "metadata": {},
     "output_type": "execute_result"
    }
   ],
   "source": [
    "dataframe.shape"
   ]
  },
  {
   "cell_type": "code",
   "execution_count": 4,
   "metadata": {},
   "outputs": [],
   "source": [
    "# separando os dados x e y do meu dataframe\n",
    "X = dataframe.iloc[:, 0].values\n",
    "Y = dataframe.iloc[:, 1].values"
   ]
  },
  {
   "cell_type": "code",
   "execution_count": 5,
   "metadata": {},
   "outputs": [
    {
     "name": "stdout",
     "output_type": "stream",
     "text": [
      "[18 23 28 33 38 43 48 53 58 63]\n",
      "(10,)\n"
     ]
    }
   ],
   "source": [
    "# visualizando os dados relativos a idade\n",
    "print(X)\n",
    "print(X.shape)"
   ]
  },
  {
   "cell_type": "code",
   "execution_count": 6,
   "metadata": {},
   "outputs": [
    {
     "name": "stdout",
     "output_type": "stream",
     "text": [
      "[ 871 1132 1242 1356 1488 1638 2130 2454 3066 4090]\n",
      "(10,)\n"
     ]
    }
   ],
   "source": [
    "# visualizando os dados relativos ao custo\n",
    "print(Y)\n",
    "print(Y.shape)"
   ]
  },
  {
   "cell_type": "code",
   "execution_count": 7,
   "metadata": {},
   "outputs": [
    {
     "data": {
      "image/png": "[encoded data removed]",
      "text/plain": [
       "<Figure size 1440x720 with 1 Axes>"
      ]
     },
     "metadata": {
      "needs_background": "light"
     },
     "output_type": "display_data"
    }
   ],
   "source": [
    "# definindo a dimensão do gráfico\n",
    "plt.figure(figsize = (20,10))\n",
    "\n",
    "# plotando os dados x e y no gráfico\n",
    "plt.scatter(X, Y, color = 'red', label = 'Dados')\n",
    "\n",
    "# colocando um título no gráfico\n",
    "plt.title('Regressão Linear Simples')\n",
    "\n",
    "# colocando um título no eixo x\n",
    "plt.xlabel('Idade')\n",
    "\n",
    "# colocando um título no eixo y\n",
    "plt.ylabel('Custo')\n",
    "\n",
    "# colocando a legenda no gráfico\n",
    "plt.legend()\n",
    "\n",
    "# colocando uma grade ao gráfico\n",
    "plt.grid(True)\n",
    "\n",
    "# removendo a moldura do gráfico\n",
    "plt.box(False)"
   ]
  },
  {
   "cell_type": "code",
   "execution_count": 41,
   "metadata": {},
   "outputs": [
    {
     "name": "stdout",
     "output_type": "stream",
     "text": [
      "valor de b1: 49.83673948069381 e valor de b -10.451423623547313\n"
     ]
    }
   ],
   "source": [
    "# definindo uma reta aleatoria\n",
    "b1, b, alfa = 7, 1, 0.000001\n",
    "\n",
    "# definindo a quantidade de interações do algoritmo\n",
    "iteracoes = 10000\n",
    "\n",
    "# Implementando o gradiente descendente\n",
    "for i in range(iteracoes):\n",
    "    Y_previsto = b1 * X + b # valor atual da reta\n",
    "    derivada_b1 = np.sum(2 * np.dot(X,(Y_previsto - Y))) # derivando a função de custo em relação a b1\n",
    "    derivada_b = np.sum(2 * (Y_previsto - Y)) # derivando a função de custo em relação a b\n",
    "    b1 = b1 - derivada_b1 * alfa; # atualizando b1\n",
    "    b = b - derivada_b * alfa; # atualizando b\n",
    "    \n",
    "print(\"valor de b1: {} e valor de b {}\".format(b1, b))"
   ]
  },
  {
   "cell_type": "code",
   "execution_count": 31,
   "metadata": {},
   "outputs": [],
   "source": [
    "# definindo valores arbitrários para o eixo x\n",
    "valoresX = np.linspace(18, 63)"
   ]
  },
  {
   "cell_type": "code",
   "execution_count": 42,
   "metadata": {},
   "outputs": [
    {
     "data": {
      "image/png": "[encoded data removed]",
      "text/plain": [
       "<Figure size 1440x720 with 1 Axes>"
      ]
     },
     "metadata": {
      "needs_background": "light"
     },
     "output_type": "display_data"
    }
   ],
   "source": [
    "# definindo a dimensão do gráfico\n",
    "plt.figure(figsize = (20,10))\n",
    "\n",
    "# plotando os dados x e y no gráfico\n",
    "plt.scatter(X, Y, color = 'red', label = 'Dados')\n",
    "\n",
    "plt.plot(valoresX, valoresX * b1 + b, color = \"green\", label = \"Previsão\")\n",
    "\n",
    "# colocando um título no gráfico\n",
    "plt.title('Regressão Linear Simples')\n",
    "\n",
    "# colocando um título no eixo x\n",
    "plt.xlabel('Idade')\n",
    "\n",
    "# colocando um título no eixo y\n",
    "plt.ylabel('Custo')\n",
    "\n",
    "# colocando a legenda no gráfico\n",
    "plt.legend()\n",
    "\n",
    "# colocando uma grade ao gráfico\n",
    "plt.grid(True)\n",
    "\n",
    "# removendo a moldura do gráfico\n",
    "plt.box(False)"
   ]
  },
  {
   "cell_type": "code",
   "execution_count": 39,
   "metadata": {},
   "outputs": [
    {
     "name": "stdout",
     "output_type": "stream",
     "text": [
      "1984.3833222000328\n"
     ]
    }
   ],
   "source": [
    "# realizando uma predição para uma pessoa de 40 anos\n",
    "print(b1 * 40 + b)"
   ]
  },
  {
   "cell_type": "code",
   "execution_count": 43,
   "metadata": {},
   "outputs": [
    {
     "name": "stdout",
     "output_type": "stream",
     "text": [
      "86.05078654625225\n"
     ]
    }
   ],
   "source": [
    "# calculando o erro obtido\n",
    "valor_obtido = b1 * X + b\n",
    "valor_real = Y\n",
    "erro = ((valor_obtido - valor_real) / valor_real)*100\n",
    "media_erro = np.sum(abs(erro)) / len(Y)\n",
    "print(100 - media_erro)"
   ]
  },
  {
   "cell_type": "code",
   "execution_count": null,
   "metadata": {},
   "outputs": [],
   "source": []
  }
 ],
 "metadata": {
  "kernelspec": {
   "display_name": "Python 3",
   "language": "python",
   "name": "python3"
  },
  "language_info": {
   "codemirror_mode": {
    "name": "ipython",
    "version": 3
   },
   "file_extension": ".py",
   "mimetype": "text/x-python",
   "name": "python",
   "nbconvert_exporter": "python",
   "pygments_lexer": "ipython3",
   "version": "3.7.4"
  }
 },
 "nbformat": 4,
 "nbformat_minor": 4
}
