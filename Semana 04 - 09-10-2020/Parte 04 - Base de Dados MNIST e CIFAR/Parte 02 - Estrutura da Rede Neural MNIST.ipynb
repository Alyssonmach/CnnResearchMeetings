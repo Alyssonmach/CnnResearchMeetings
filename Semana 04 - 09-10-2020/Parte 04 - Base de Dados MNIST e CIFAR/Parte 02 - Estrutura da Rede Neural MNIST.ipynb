{
 "cells": [
  {
   "cell_type": "markdown",
   "metadata": {
    "colab_type": "text",
    "id": "JZwlYzeyPfm_"
   },
   "source": [
    "# Classificação de Dígitos Escritos a Mão\n",
    "#### Usando uma rede neural para identificar dígitos numéricos escritos a mão (rede neural convolucional)."
   ]
  },
  {
   "cell_type": "markdown",
   "metadata": {
    "colab_type": "text",
    "id": "G2ICxNWPPs6r"
   },
   "source": [
    "### Importação das Bibliotecas"
   ]
  },
  {
   "cell_type": "code",
   "execution_count": 1,
   "metadata": {
    "colab": {
     "base_uri": "https://localhost:8080/",
     "height": 34
    },
    "colab_type": "code",
    "id": "bmLJNjc-PcHj",
    "outputId": "8d960a22-122b-4fdc-a51a-51fec3bccc10"
   },
   "outputs": [
    {
     "name": "stderr",
     "output_type": "stream",
     "text": [
      "Using TensorFlow backend.\n"
     ]
    }
   ],
   "source": [
    "# importando a biblioteca matplotlib do python\n",
    "import matplotlib.pyplot as plt\n",
    "# importando da biblioteca keras do python\n",
    "from keras.datasets import mnist\n",
    "from keras.models import Sequential\n",
    "from keras.layers import Dense, Flatten\n",
    "from keras.utils import np_utils\n",
    "from keras.layers import Conv2D, MaxPooling2D"
   ]
  },
  {
   "cell_type": "markdown",
   "metadata": {
    "colab_type": "text",
    "id": "iQkQ6ku3QdYD"
   },
   "source": [
    "### Tratando a Base de Dados"
   ]
  },
  {
   "cell_type": "code",
   "execution_count": 2,
   "metadata": {
    "colab": {},
    "colab_type": "code",
    "id": "7BXE8D_2QfvO"
   },
   "outputs": [],
   "source": [
    "# separando a base de dados de treinamento da base de dados de teste\n",
    "(x_treinamento, y_treinamento), (x_teste, y_teste) = mnist.load_data()"
   ]
  },
  {
   "cell_type": "code",
   "execution_count": 3,
   "metadata": {
    "colab": {
     "base_uri": "https://localhost:8080/",
     "height": 282
    },
    "colab_type": "code",
    "id": "DJpwesfsRCM7",
    "outputId": "019fa4fb-a19c-4967-f4da-5749e281a1d0"
   },
   "outputs": [
    {
     "data": {
      "text/plain": [
       "<matplotlib.image.AxesImage at 0x7f1c83b20940>"
      ]
     },
     "execution_count": 3,
     "metadata": {
      "tags": []
     },
     "output_type": "execute_result"
    },
    {
     "data": {
      "image/png": "[encoded data removed]",
      "text/plain": [
       "<Figure size 432x288 with 1 Axes>"
      ]
     },
     "metadata": {
      "needs_background": "light",
      "tags": []
     },
     "output_type": "display_data"
    }
   ],
   "source": [
    "# visualizando a imagem armazenada nos dados\n",
    "plt.imshow(x_treinamento[0])"
   ]
  },
  {
   "cell_type": "markdown",
   "metadata": {
    "colab_type": "text",
    "id": "JlO-6KcaRlmE"
   },
   "source": [
    "Observe que a imagem apresenta mais de uma dimensão por ser colorida (camada RGB). Como essas cores não causam interferência na rede neural, podemos torná-la preto e branco visando economizar tempo no processamento."
   ]
  },
  {
   "cell_type": "code",
   "execution_count": 4,
   "metadata": {
    "colab": {
     "base_uri": "https://localhost:8080/",
     "height": 282
    },
    "colab_type": "code",
    "id": "vd--9YvPR32m",
    "outputId": "407d10cc-e1e8-4f98-a151-c6ff3aead421"
   },
   "outputs": [
    {
     "data": {
      "text/plain": [
       "<matplotlib.image.AxesImage at 0x7f1c836000b8>"
      ]
     },
     "execution_count": 4,
     "metadata": {
      "tags": []
     },
     "output_type": "execute_result"
    },
    {
     "data": {
      "image/png": "[encoded data removed]",
      "text/plain": [
       "<Figure size 432x288 with 1 Axes>"
      ]
     },
     "metadata": {
      "needs_background": "light",
      "tags": []
     },
     "output_type": "display_data"
    }
   ],
   "source": [
    "# visualizando a imagem armazenada nos dados em escala de cinza\n",
    "plt.imshow(x_treinamento[0], cmap = 'gray')"
   ]
  },
  {
   "cell_type": "markdown",
   "metadata": {
    "colab_type": "text",
    "id": "UPpqW82iSQmu"
   },
   "source": [
    "Observe também que para cada imagem há uma classe que ela representa. Vamos visualizá-la."
   ]
  },
  {
   "cell_type": "code",
   "execution_count": 5,
   "metadata": {
    "colab": {
     "base_uri": "https://localhost:8080/",
     "height": 298
    },
    "colab_type": "code",
    "id": "gsN-oXwHSXvc",
    "outputId": "c8d0af6b-9e9e-4d17-925f-b73938f5542f"
   },
   "outputs": [
    {
     "data": {
      "text/plain": [
       "Text(0.5, 1.0, 'Classe 5')"
      ]
     },
     "execution_count": 5,
     "metadata": {
      "tags": []
     },
     "output_type": "execute_result"
    },
    {
     "data": {
      "image/png": "[encoded data removed]",
      "text/plain": [
       "<Figure size 432x288 with 1 Axes>"
      ]
     },
     "metadata": {
      "needs_background": "light",
      "tags": []
     },
     "output_type": "display_data"
    }
   ],
   "source": [
    "# visualizando a imagem armazenada nos dados em escala de cinza\n",
    "plt.imshow(x_treinamento[0], cmap = 'gray')\n",
    "plt.title('Classe ' + str(y_treinamento[0]))"
   ]
  },
  {
   "cell_type": "code",
   "execution_count": 6,
   "metadata": {
    "colab": {
     "base_uri": "https://localhost:8080/",
     "height": 85
    },
    "colab_type": "code",
    "id": "o-fSIBRlSlVD",
    "outputId": "64228d05-3e46-4dee-ed24-842d663fb2f9"
   },
   "outputs": [
    {
     "name": "stdout",
     "output_type": "stream",
     "text": [
      "(60000, 28, 28)\n",
      "(60000,)\n",
      "(10000, 28, 28)\n",
      "(10000,)\n"
     ]
    }
   ],
   "source": [
    "# visualizando as dimensões da base de dados\n",
    "print(x_treinamento.shape)\n",
    "print(y_treinamento.shape)\n",
    "print(x_teste.shape)\n",
    "print(y_teste.shape)"
   ]
  },
  {
   "cell_type": "code",
   "execution_count": 7,
   "metadata": {
    "colab": {
     "base_uri": "https://localhost:8080/",
     "height": 51
    },
    "colab_type": "code",
    "id": "mz6If0gjS3KM",
    "outputId": "ac83064f-1553-4c17-dc27-01148a40d8d9"
   },
   "outputs": [
    {
     "name": "stdout",
     "output_type": "stream",
     "text": [
      "[5 0 4 ... 5 6 8]\n",
      "[7 2 1 ... 4 5 6]\n"
     ]
    }
   ],
   "source": [
    "# visualizando as classes (números de 0-9)\n",
    "print(y_treinamento)\n",
    "print(y_teste)"
   ]
  },
  {
   "cell_type": "code",
   "execution_count": 8,
   "metadata": {
    "colab": {},
    "colab_type": "code",
    "id": "84h4ihvBTIFT"
   },
   "outputs": [],
   "source": [
    "# modificando a dimensão das imagens\n",
    "previsores_treinamento = x_treinamento.reshape(x_treinamento.shape[0], \n",
    "                                               28, 28, 1)\n",
    "previsores_teste = x_teste.reshape(x_teste.shape[0], 28, 28, 1)"
   ]
  },
  {
   "cell_type": "code",
   "execution_count": 9,
   "metadata": {
    "colab": {
     "base_uri": "https://localhost:8080/",
     "height": 51
    },
    "colab_type": "code",
    "id": "oRiHgUI_Tsoy",
    "outputId": "58c0a300-7bcf-4910-e5d2-007b72d4780e"
   },
   "outputs": [
    {
     "name": "stdout",
     "output_type": "stream",
     "text": [
      "(60000, 28, 28, 1)\n",
      "(10000, 28, 28, 1)\n"
     ]
    }
   ],
   "source": [
    "# visualizando a nova dimensão das imagens\n",
    "print(previsores_treinamento.shape)\n",
    "print(previsores_teste.shape)\n",
    "# observe que há 60000 imagens de treinamento e 10000 imagens de teste. Elas \n",
    "# possuem a dimensão (28, 28) e possuem apenas uma dimensão (cor na escala de\n",
    "# cinza)"
   ]
  },
  {
   "cell_type": "code",
   "execution_count": 10,
   "metadata": {
    "colab": {},
    "colab_type": "code",
    "id": "er-XrCeNT4kq"
   },
   "outputs": [],
   "source": [
    "# modificando os dados de int para float (isso ajudará na normalização dos dados)\n",
    "previsores_treinamento = previsores_treinamento.astype('float32')\n",
    "previsores_teste = previsores_teste.astype('float32')"
   ]
  },
  {
   "cell_type": "code",
   "execution_count": 11,
   "metadata": {
    "colab": {},
    "colab_type": "code",
    "id": "MGnZmKq8URuL"
   },
   "outputs": [],
   "source": [
    "# normalizando as imagens para facilitar no processamento\n",
    "previsores_treinamento /= 255\n",
    "previsores_teste /= 255 "
   ]
  },
  {
   "cell_type": "code",
   "execution_count": 12,
   "metadata": {
    "colab": {},
    "colab_type": "code",
    "id": "tOfMAL0xUc70"
   },
   "outputs": [],
   "source": [
    "# transformando os atributos meta em variáveis do tipo dummy\n",
    "classe_treinamento = np_utils.to_categorical(y_treinamento, 10)\n",
    "classe_teste = np_utils.to_categorical(y_teste, 10)"
   ]
  },
  {
   "cell_type": "code",
   "execution_count": 13,
   "metadata": {
    "colab": {
     "base_uri": "https://localhost:8080/",
     "height": 51
    },
    "colab_type": "code",
    "id": "XyWL46vMU-RQ",
    "outputId": "81aafa96-590b-43ad-d7a9-34ff73d9ddc2"
   },
   "outputs": [
    {
     "name": "stdout",
     "output_type": "stream",
     "text": [
      "(60000, 10)\n",
      "(10000, 10)\n"
     ]
    }
   ],
   "source": [
    "# visualizando as dimensões dos atributos meta\n",
    "print(classe_treinamento.shape)\n",
    "print(classe_teste.shape)\n",
    "# isso ajudará a aplicar a função de ativação softmax na camada de saída"
   ]
  },
  {
   "cell_type": "markdown",
   "metadata": {
    "colab_type": "text",
    "id": "eP2Xo93MVPaE"
   },
   "source": [
    "### Estrutura da Rede Neural"
   ]
  },
  {
   "cell_type": "code",
   "execution_count": 14,
   "metadata": {
    "colab": {},
    "colab_type": "code",
    "id": "-31BSxglVNmQ"
   },
   "outputs": [],
   "source": [
    "# criando um objeto classificador\n",
    "classificador = Sequential()"
   ]
  },
  {
   "cell_type": "markdown",
   "metadata": {
    "colab_type": "text",
    "id": "3wLah9IMV_3m"
   },
   "source": [
    "#### Etapa 1 - Operador de Convolução"
   ]
  },
  {
   "cell_type": "code",
   "execution_count": 15,
   "metadata": {
    "colab": {},
    "colab_type": "code",
    "id": "ZjVjKGliVYdE"
   },
   "outputs": [],
   "source": [
    "# adicionando uma camada de convolução com diversas imagens de kernel\n",
    "classificador.add(Conv2D(32, (3,3), \n",
    "                         strides = (1, 1), \n",
    "                         input_shape = (28, 28, 1), \n",
    "                         activation = 'relu'))\n",
    "# foi definido a construção de 32 mapas de caracteríticas usando um detector de \n",
    "# características (3, 3). 'strides' define o passo do detector de \n",
    "# características"
   ]
  },
  {
   "cell_type": "markdown",
   "metadata": {
    "colab_type": "text",
    "id": "eB10iLo4W4at"
   },
   "source": [
    "#### Etapa 2 - Pooling"
   ]
  },
  {
   "cell_type": "code",
   "execution_count": 16,
   "metadata": {
    "colab": {},
    "colab_type": "code",
    "id": "nL5ydcS_W7D7"
   },
   "outputs": [],
   "source": [
    "# adicionando uma camade de pooling para extrair um mapa de características\n",
    "# da imagem\n",
    "classificador.add(MaxPooling2D(pool_size = (2, 2)))"
   ]
  },
  {
   "cell_type": "markdown",
   "metadata": {
    "colab_type": "text",
    "id": "YvfnTn7xXK-g"
   },
   "source": [
    "#### Etapa 3 - Flattening"
   ]
  },
  {
   "cell_type": "code",
   "execution_count": 17,
   "metadata": {
    "colab": {},
    "colab_type": "code",
    "id": "Y9Cxb7VfXObr"
   },
   "outputs": [],
   "source": [
    "# transformando a imagem em um único vetor para auxiliar no processamento da \n",
    "# rede neural\n",
    "classificador.add(Flatten())"
   ]
  },
  {
   "cell_type": "markdown",
   "metadata": {
    "colab_type": "text",
    "id": "YEzKufsxX9dH"
   },
   "source": [
    "#### Etapa 4 - Criando a Rede Neural"
   ]
  },
  {
   "cell_type": "code",
   "execution_count": 18,
   "metadata": {
    "colab": {},
    "colab_type": "code",
    "id": "bqzQPDq_YBzN"
   },
   "outputs": [],
   "source": [
    "# adicionando uma camada oculta a rede neural\n",
    "classificador.add(Dense(units = 128, activation = 'relu'))"
   ]
  },
  {
   "cell_type": "code",
   "execution_count": 19,
   "metadata": {
    "colab": {},
    "colab_type": "code",
    "id": "aI6OAFboZ60l"
   },
   "outputs": [],
   "source": [
    "# adicionando uma camada de saída a rede neural\n",
    "classificador.add(Dense(units = 10, activation = 'softmax'))"
   ]
  },
  {
   "cell_type": "code",
   "execution_count": 20,
   "metadata": {
    "colab": {},
    "colab_type": "code",
    "id": "Z6ajE_w9aG2R"
   },
   "outputs": [],
   "source": [
    "# configurando alguns parâmetros da rede neural\n",
    "classificador.compile(loss = 'categorical_crossentropy', \n",
    "                      optimizer = 'adam',\n",
    "                      metrics = ['accuracy'])"
   ]
  },
  {
   "cell_type": "markdown",
   "metadata": {
    "colab_type": "text",
    "id": "cm8QQpWdaf-_"
   },
   "source": [
    "### Treinamento da Rede Neural"
   ]
  },
  {
   "cell_type": "code",
   "execution_count": 22,
   "metadata": {
    "colab": {
     "base_uri": "https://localhost:8080/",
     "height": 391
    },
    "colab_type": "code",
    "id": "756VgCMeajIh",
    "outputId": "682edff2-2dd5-4ab4-a41b-0409f4ddd9a2"
   },
   "outputs": [
    {
     "name": "stdout",
     "output_type": "stream",
     "text": [
      "Train on 60000 samples, validate on 10000 samples\n",
      "Epoch 1/10\n",
      "60000/60000 [==============================] - 29s 489us/step - loss: 0.2252 - accuracy: 0.9369 - val_loss: 0.0719 - val_accuracy: 0.9780\n",
      "Epoch 2/10\n",
      "60000/60000 [==============================] - 29s 479us/step - loss: 0.0655 - accuracy: 0.9802 - val_loss: 0.0515 - val_accuracy: 0.9829\n",
      "Epoch 3/10\n",
      "60000/60000 [==============================] - 29s 480us/step - loss: 0.0455 - accuracy: 0.9865 - val_loss: 0.0495 - val_accuracy: 0.9838\n",
      "Epoch 4/10\n",
      "60000/60000 [==============================] - 29s 490us/step - loss: 0.0344 - accuracy: 0.9896 - val_loss: 0.0488 - val_accuracy: 0.9846\n",
      "Epoch 5/10\n",
      "60000/60000 [==============================] - 29s 481us/step - loss: 0.0265 - accuracy: 0.9918 - val_loss: 0.0438 - val_accuracy: 0.9861\n",
      "Epoch 6/10\n",
      "60000/60000 [==============================] - 29s 480us/step - loss: 0.0196 - accuracy: 0.9941 - val_loss: 0.0460 - val_accuracy: 0.9851\n",
      "Epoch 7/10\n",
      "60000/60000 [==============================] - 29s 491us/step - loss: 0.0152 - accuracy: 0.9954 - val_loss: 0.0437 - val_accuracy: 0.9868\n",
      "Epoch 8/10\n",
      "60000/60000 [==============================] - 29s 482us/step - loss: 0.0117 - accuracy: 0.9966 - val_loss: 0.0516 - val_accuracy: 0.9848\n",
      "Epoch 9/10\n",
      "60000/60000 [==============================] - 29s 476us/step - loss: 0.0086 - accuracy: 0.9976 - val_loss: 0.0408 - val_accuracy: 0.9878\n",
      "Epoch 10/10\n",
      "60000/60000 [==============================] - 29s 476us/step - loss: 0.0073 - accuracy: 0.9978 - val_loss: 0.0441 - val_accuracy: 0.9886\n"
     ]
    },
    {
     "data": {
      "text/plain": [
       "<keras.callbacks.callbacks.History at 0x7f1c7d05cef0>"
      ]
     },
     "execution_count": 22,
     "metadata": {
      "tags": []
     },
     "output_type": "execute_result"
    }
   ],
   "source": [
    "# realizando o treinamento da rede neural\n",
    "classificador.fit(previsores_treinamento, \n",
    "                  classe_treinamento, \n",
    "                  batch_size = 128, \n",
    "                  epochs = 10,\n",
    "                  validation_data = (previsores_teste, classe_teste))"
   ]
  },
  {
   "cell_type": "markdown",
   "metadata": {
    "colab_type": "text",
    "id": "dFVHfz78dRUm"
   },
   "source": [
    "### Visualizando a Acurácia e a Loss da Rede Neural"
   ]
  },
  {
   "cell_type": "code",
   "execution_count": 23,
   "metadata": {
    "colab": {
     "base_uri": "https://localhost:8080/",
     "height": 51
    },
    "colab_type": "code",
    "id": "VS33X9XMdjkq",
    "outputId": "17a990ba-14cd-4144-df39-246f034e2e55"
   },
   "outputs": [
    {
     "name": "stdout",
     "output_type": "stream",
     "text": [
      "10000/10000 [==============================] - 2s 205us/step\n",
      "[0.04413765362167433, 0.9886000156402588]\n"
     ]
    }
   ],
   "source": [
    "# visualizando a acurácia e a loss da rede neural\n",
    "resultado = classificador.evaluate(previsores_teste, classe_teste)\n",
    "print(resultado)"
   ]
  }
 ],
 "metadata": {
  "colab": {
   "name": "Untitled17.ipynb",
   "provenance": []
  },
  "kernelspec": {
   "display_name": "Python 3",
   "language": "python",
   "name": "python3"
  },
  "language_info": {
   "codemirror_mode": {
    "name": "ipython",
    "version": 3
   },
   "file_extension": ".py",
   "mimetype": "text/x-python",
   "name": "python",
   "nbconvert_exporter": "python",
   "pygments_lexer": "ipython3",
   "version": "3.7.4"
  }
 },
 "nbformat": 4,
 "nbformat_minor": 4
}
