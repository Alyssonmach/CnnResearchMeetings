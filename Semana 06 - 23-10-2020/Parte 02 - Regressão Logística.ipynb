{
 "cells": [
  {
   "cell_type": "markdown",
   "metadata": {},
   "source": [
    "# Problema de Classificação: Usando Regressão Logística"
   ]
  },
  {
   "cell_type": "markdown",
   "metadata": {},
   "source": [
    "#### Prevendo se os microchips de uma planta de fabricação passam na garantia de qualidade"
   ]
  },
  {
   "cell_type": "markdown",
   "metadata": {},
   "source": [
    "> \"*Suponha que você seja o gerente de produto da fábrica e tenha os resultados dos testes de alguns microchips em dois testes diferentes. A partir desses dois testes, você gostaria de determinar se os microchips devem ser aceitos ou rejeitados. Para ajudá-lo a tomar a decisão, você tem um conjunto de dados de resultados de teste em microchips anteriores, a partir do qual pode construir um modelo de regressão logística.*\""
   ]
  },
  {
   "cell_type": "code",
   "execution_count": 1,
   "metadata": {},
   "outputs": [],
   "source": [
    "import numpy as np\n",
    "import pandas as pd\n",
    "import matplotlib.pyplot as plt\n",
    "import scipy.optimize as opt"
   ]
  },
  {
   "cell_type": "code",
   "execution_count": 2,
   "metadata": {},
   "outputs": [],
   "source": [
    "dados = pd.read_csv('ex2data2.txt', header = None) # extraindo os dados "
   ]
  },
  {
   "cell_type": "code",
   "execution_count": 3,
   "metadata": {},
   "outputs": [],
   "source": [
    "X = dados.iloc[:, 0:2] # recebe as duas primeiras colunas de 'dados'"
   ]
  },
  {
   "cell_type": "code",
   "execution_count": 4,
   "metadata": {},
   "outputs": [],
   "source": [
    "y = dados.iloc[:, 2] # recebe a última coluna de dados"
   ]
  },
  {
   "cell_type": "code",
   "execution_count": 5,
   "metadata": {},
   "outputs": [
    {
     "data": {
      "text/html": [
       "<div>\n",
       "<style scoped>\n",
       "    .dataframe tbody tr th:only-of-type {\n",
       "        vertical-align: middle;\n",
       "    }\n",
       "\n",
       "    .dataframe tbody tr th {\n",
       "        vertical-align: top;\n",
       "    }\n",
       "\n",
       "    .dataframe thead th {\n",
       "        text-align: right;\n",
       "    }\n",
       "</style>\n",
       "<table border=\"1\" class=\"dataframe\">\n",
       "  <thead>\n",
       "    <tr style=\"text-align: right;\">\n",
       "      <th></th>\n",
       "      <th>0</th>\n",
       "      <th>1</th>\n",
       "      <th>2</th>\n",
       "    </tr>\n",
       "  </thead>\n",
       "  <tbody>\n",
       "    <tr>\n",
       "      <th>0</th>\n",
       "      <td>0.051267</td>\n",
       "      <td>0.69956</td>\n",
       "      <td>1</td>\n",
       "    </tr>\n",
       "    <tr>\n",
       "      <th>1</th>\n",
       "      <td>-0.092742</td>\n",
       "      <td>0.68494</td>\n",
       "      <td>1</td>\n",
       "    </tr>\n",
       "    <tr>\n",
       "      <th>2</th>\n",
       "      <td>-0.213710</td>\n",
       "      <td>0.69225</td>\n",
       "      <td>1</td>\n",
       "    </tr>\n",
       "    <tr>\n",
       "      <th>3</th>\n",
       "      <td>-0.375000</td>\n",
       "      <td>0.50219</td>\n",
       "      <td>1</td>\n",
       "    </tr>\n",
       "    <tr>\n",
       "      <th>4</th>\n",
       "      <td>-0.513250</td>\n",
       "      <td>0.46564</td>\n",
       "      <td>1</td>\n",
       "    </tr>\n",
       "  </tbody>\n",
       "</table>\n",
       "</div>"
      ],
      "text/plain": [
       "          0        1  2\n",
       "0  0.051267  0.69956  1\n",
       "1 -0.092742  0.68494  1\n",
       "2 -0.213710  0.69225  1\n",
       "3 -0.375000  0.50219  1\n",
       "4 -0.513250  0.46564  1"
      ]
     },
     "execution_count": 5,
     "metadata": {},
     "output_type": "execute_result"
    }
   ],
   "source": [
    "# visualizando os dados\n",
    "dados.head() # visualiza os 5 primeiros exemplos nos dados"
   ]
  },
  {
   "cell_type": "code",
   "execution_count": 6,
   "metadata": {},
   "outputs": [
    {
     "name": "stdout",
     "output_type": "stream",
     "text": [
      "Atributos previsores:\n",
      "             0         1\n",
      "0    0.051267  0.699560\n",
      "1   -0.092742  0.684940\n",
      "2   -0.213710  0.692250\n",
      "3   -0.375000  0.502190\n",
      "4   -0.513250  0.465640\n",
      "..        ...       ...\n",
      "113 -0.720620  0.538740\n",
      "114 -0.593890  0.494880\n",
      "115 -0.484450  0.999270\n",
      "116 -0.006336  0.999270\n",
      "117  0.632650 -0.030612\n",
      "\n",
      "[118 rows x 2 columns]\n",
      "\n",
      "Classes dos dados:\n",
      " 0      1\n",
      "1      1\n",
      "2      1\n",
      "3      1\n",
      "4      1\n",
      "      ..\n",
      "113    0\n",
      "114    0\n",
      "115    0\n",
      "116    0\n",
      "117    0\n",
      "Name: 2, Length: 118, dtype: int64\n"
     ]
    }
   ],
   "source": [
    "# visualizando os dados\n",
    "print('Atributos previsores:\\n', X)\n",
    "print('\\nClasses dos dados:\\n',y)"
   ]
  },
  {
   "cell_type": "markdown",
   "metadata": {},
   "source": [
    "- Temos dois dados independentes em **X** (X[:, 0] e X[:, 1]) e um dado dependente **y**."
   ]
  },
  {
   "cell_type": "markdown",
   "metadata": {},
   "source": [
    "### Visualizando Graficamente os Dados"
   ]
  },
  {
   "cell_type": "code",
   "execution_count": 7,
   "metadata": {},
   "outputs": [
    {
     "data": {
      "text/plain": [
       "<matplotlib.legend.Legend at 0x1ff74cc7388>"
      ]
     },
     "execution_count": 7,
     "metadata": {},
     "output_type": "execute_result"
    },
    {
     "data": {
      "image/png": "[encoded data removed]",
      "text/plain": [
       "<Figure size 1080x720 with 1 Axes>"
      ]
     },
     "metadata": {
      "needs_background": "light"
     },
     "output_type": "display_data"
    }
   ],
   "source": [
    "#definindo a dimensão do gráfico\n",
    "plt.figure(figsize = (15, 10))\n",
    "# preparando os dados no gráfico\n",
    "auxiliar = y == 1 # define True para 1 e False para 0\n",
    "aprovado = plt.scatter(X[auxiliar][0].values, X[auxiliar][1].values) # todos os exemplos em X cujo y indica classe 1\n",
    "reprovado = plt.scatter(X[~auxiliar][0].values, X[~auxiliar][1].values) # todos os exemplos em X cujo y indica classe 0\n",
    "# definindo legendaas ao gráfico\n",
    "plt.title('Análise da qualidade de microchips')\n",
    "plt.xlabel('Pontuação no primeiro teste')\n",
    "plt.ylabel('Pontuação no segundo teste')\n",
    "plt.legend((aprovado, reprovado), ('Aprovado', 'Reprovado'))"
   ]
  },
  {
   "cell_type": "markdown",
   "metadata": {},
   "source": [
    "### Mapa de Características"
   ]
  },
  {
   "cell_type": "markdown",
   "metadata": {},
   "source": [
    "![mapa-caracteristicas](Imagens/mapa-caracteristicas.PNG)"
   ]
  },
  {
   "cell_type": "code",
   "execution_count": 8,
   "metadata": {},
   "outputs": [],
   "source": [
    "def mapaCaracteristica(X1, X2):\n",
    "    '''\n",
    "    1 - Criando mais recursos com os dados (ajustar melhor os dados);\n",
    "    2 - mapear os recursos de todos os termos polinomiais de x1 e x2 até a sexta potência;\n",
    "    '''\n",
    "    grau = 6\n",
    "    saida = np.ones(X.shape[0])[:,np.newaxis]\n",
    "    \n",
    "    for i in range(1, grau+1):\n",
    "        for j in range(i+1):\n",
    "            saida = np.hstack((saida, np.multiply(np.power(X1, i-j), np.power(X2, j))[:,np.newaxis]))\n",
    "            \n",
    "    return saida"
   ]
  },
  {
   "cell_type": "markdown",
   "metadata": {},
   "source": [
    "![expansao-binomios](Imagens/expansao-binomios.PNG)"
   ]
  },
  {
   "cell_type": "code",
   "execution_count": 9,
   "metadata": {},
   "outputs": [
    {
     "name": "stdout",
     "output_type": "stream",
     "text": [
      "1 0\n",
      "0 1\n",
      "2 0\n",
      "1 1\n",
      "0 2\n",
      "3 0\n",
      "2 1\n",
      "1 2\n",
      "0 3\n",
      "4 0\n",
      "3 1\n",
      "2 2\n",
      "1 3\n",
      "0 4\n",
      "5 0\n",
      "4 1\n",
      "3 2\n",
      "2 3\n",
      "1 4\n",
      "0 5\n",
      "6 0\n",
      "5 1\n",
      "4 2\n",
      "3 3\n",
      "2 4\n",
      "1 5\n",
      "0 6\n"
     ]
    }
   ],
   "source": [
    "# visualizando os passos da potência (2 + 3 + 4 + 5 + 6 + 7) + bias = 28\n",
    "for i in range(1, 6+1):\n",
    "        for j in range(i+1):\n",
    "            print(i-j, j)"
   ]
  },
  {
   "cell_type": "code",
   "execution_count": 10,
   "metadata": {},
   "outputs": [],
   "source": [
    "X = mapaCaracteristica(X.iloc[:,0], X.iloc[:,1]) "
   ]
  },
  {
   "cell_type": "code",
   "execution_count": 11,
   "metadata": {},
   "outputs": [
    {
     "data": {
      "text/plain": [
       "(118, 28)"
      ]
     },
     "execution_count": 11,
     "metadata": {},
     "output_type": "execute_result"
    }
   ],
   "source": [
    "X.shape # observando a dimensão dos meus novos dados"
   ]
  },
  {
   "cell_type": "markdown",
   "metadata": {},
   "source": [
    "### CUIDADO COM OS AJUSTES EXCESSIVOS!"
   ]
  },
  {
   "cell_type": "markdown",
   "metadata": {},
   "source": [
    "### Implementação da Regressão Logística"
   ]
  },
  {
   "cell_type": "code",
   "execution_count": 12,
   "metadata": {},
   "outputs": [],
   "source": [
    "def sigmoide(X):\n",
    "    '''\n",
    "    Implementação da função sigmoide\n",
    "    '''\n",
    "    return 1 / (1+ np.exp(-X))"
   ]
  },
  {
   "cell_type": "markdown",
   "metadata": {},
   "source": [
    "![regressao-logistica-regularizada](Imagens/regressao-logistica-regularizada.PNG)"
   ]
  },
  {
   "cell_type": "markdown",
   "metadata": {},
   "source": [
    "![equacao-regularizada](Imagens/equacao-regularizada.png)"
   ]
  },
  {
   "cell_type": "code",
   "execution_count": 13,
   "metadata": {},
   "outputs": [],
   "source": [
    "def funcaoCusto(teta, X, y, lmbd):\n",
    "    '''\n",
    "    Implementando a função de custo com um regularizador\n",
    "    '''\n",
    "    m = len(y)\n",
    "    J = (-1/m) * ((y.T).dot(np.log(sigmoide(X.dot(teta)))) + (1 - y.T).dot(np.log(1 - sigmoide(X.dot(teta)))))\n",
    "    regularizador = (lmbd/(2*m)) * ((teta[1:].T).dot(teta[1:]))\n",
    "    J = J + regularizador\n",
    "    return J"
   ]
  },
  {
   "cell_type": "markdown",
   "metadata": {},
   "source": [
    "![gradiente-pesos](Imagens/gradiente-pesos.PNG)"
   ]
  },
  {
   "cell_type": "code",
   "execution_count": 14,
   "metadata": {},
   "outputs": [],
   "source": [
    "def gradiente(teta, X, y, lmbd):\n",
    "    '''\n",
    "    Implementando o gradiente descendente com um regularizador\n",
    "    '''\n",
    "    m = len(y)\n",
    "    grad = np.zeros([m,1])\n",
    "    grad = (1/m) * (X.T).dot((sigmoide(X.dot(teta)) - y))\n",
    "    grad[1:] = grad[1:] + (lmbd / m) * teta[1:]\n",
    "    return grad"
   ]
  },
  {
   "cell_type": "code",
   "execution_count": 15,
   "metadata": {},
   "outputs": [
    {
     "name": "stdout",
     "output_type": "stream",
     "text": [
      "[[0.69314718]]\n"
     ]
    }
   ],
   "source": [
    "(m, n) = X.shape\n",
    "y = y[:, np.newaxis]\n",
    "teta = np.zeros((n,1))\n",
    "lmbd = 1\n",
    "J = funcaoCusto(teta, X, y, lmbd)\n",
    "print(J)"
   ]
  },
  {
   "cell_type": "code",
   "execution_count": 16,
   "metadata": {},
   "outputs": [],
   "source": [
    "# usando o otimizado do scipy para minimizar a função de custo\n",
    "output = opt.fmin_tnc(func = funcaoCusto, x0 = teta.flatten(), fprime = gradiente, args = (X, y.flatten(), lmbd))"
   ]
  },
  {
   "cell_type": "code",
   "execution_count": 22,
   "metadata": {},
   "outputs": [
    {
     "data": {
      "text/plain": [
       "1"
      ]
     },
     "execution_count": 22,
     "metadata": {},
     "output_type": "execute_result"
    }
   ],
   "source": [
    "lmbd"
   ]
  },
  {
   "cell_type": "code",
   "execution_count": 17,
   "metadata": {},
   "outputs": [
    {
     "name": "stdout",
     "output_type": "stream",
     "text": [
      "[ 1.27271026  0.62529965  1.18111686 -2.01987399 -0.91743189 -1.43166929\n",
      "  0.12393228 -0.36553118 -0.35725403 -0.17516291 -1.4581701  -0.05098417\n",
      " -0.61558554 -0.27469165 -1.19271298 -0.24217841 -0.20603299 -0.04466179\n",
      " -0.27778951 -0.29539513 -0.45645982 -1.04319155  0.02779373 -0.2924487\n",
      "  0.0155576  -0.32742405 -0.1438915  -0.92467487]\n"
     ]
    }
   ],
   "source": [
    "teta = output[0]\n",
    "print(teta) # visualizando os valores otimizados de teta"
   ]
  },
  {
   "cell_type": "markdown",
   "metadata": {},
   "source": [
    "### Acurácia do Modelo"
   ]
  },
  {
   "cell_type": "code",
   "execution_count": 18,
   "metadata": {},
   "outputs": [
    {
     "data": {
      "text/plain": [
       "83.05084745762711"
      ]
     },
     "execution_count": 18,
     "metadata": {},
     "output_type": "execute_result"
    }
   ],
   "source": [
    "pred = [sigmoide(np.dot(X, teta)) >= 0.5] # realizando a predição com os dados\n",
    "np.mean(pred == y.flatten()) * 100 # visualizando a média de acertos"
   ]
  },
  {
   "cell_type": "markdown",
   "metadata": {},
   "source": [
    "### Visualizando o Modelo Treinando"
   ]
  },
  {
   "cell_type": "code",
   "execution_count": 21,
   "metadata": {},
   "outputs": [
    {
     "data": {
      "text/plain": [
       "<matplotlib.legend.Legend at 0x1ff7536a788>"
      ]
     },
     "execution_count": 21,
     "metadata": {},
     "output_type": "execute_result"
    },
    {
     "data": {
      "image/png": "[encoded data removed]",
      "text/plain": [
       "<Figure size 1080x720 with 1 Axes>"
      ]
     },
     "metadata": {
      "needs_background": "light"
     },
     "output_type": "display_data"
    }
   ],
   "source": [
    "u = np.linspace(-1, 1.5, 50) # 50 valores randômicos para u de [-1, 1.5]\n",
    "v = np.linspace(-1, 1.5, 50) # 50 valores randômicos para v de [-1, 1.5]\n",
    "z = np.zeros((len(u), len(v))) # matriz de zeros [50,50]\n",
    "\n",
    "def mapaCaracteristicaPlotar(X1, X2):\n",
    "    '''\n",
    "    Função para plotar o mapa de características obtido (polinômio até a sexta ordem)\n",
    "    '''\n",
    "    grau = 6\n",
    "    saida = np.ones(1)\n",
    "    for i in range(1, grau + 1):\n",
    "        for j in range(i + 1):\n",
    "            saida = np.hstack((saida, np.multiply(np.power(X1, i-j), np.power(X2, j))))\n",
    "    return saida\n",
    "\n",
    "\n",
    "for i in range(len(u)):\n",
    "    for j in range(len(v)):\n",
    "        z[i,j] = np.dot(mapaCaracteristicaPlotar(u[i], v[j]), teta)\n",
    "\n",
    "plt.figure(figsize = (15, 10))\n",
    "# preparando os dados no gráfico\n",
    "auxiliar = y.flatten() == 1 # define True para 1 e False para 0\n",
    "X = dados.iloc[:,:-1]\n",
    "aprovado = plt.scatter(X[auxiliar][0], X[auxiliar][1]) # todos os exemplos em X cujo y indica classe 1\n",
    "reprovado = plt.scatter(X[~auxiliar][0], X[~auxiliar][1]) # todos os exemplos em X cujo y indica classe 0\n",
    "plt.contour(u,v,z, 0) # visualizando dados em 3-D usando um gráfico 2-D (usando curvas de nível)\n",
    "# definindo legendaas ao gráfico\n",
    "plt.title('Análise da qualidade de microchips')\n",
    "plt.xlabel('Pontuação no primeiro teste')\n",
    "plt.ylabel('Pontuação no segundo teste')\n",
    "plt.legend((aprovado, reprovado), ('Aprovado', 'Reprovado'))"
   ]
  }
 ],
 "metadata": {
  "kernelspec": {
   "display_name": "Python 3",
   "language": "python",
   "name": "python3"
  },
  "language_info": {
   "codemirror_mode": {
    "name": "ipython",
    "version": 3
   },
   "file_extension": ".py",
   "mimetype": "text/x-python",
   "name": "python",
   "nbconvert_exporter": "python",
   "pygments_lexer": "ipython3",
   "version": "3.7.4"
  }
 },
 "nbformat": 4,
 "nbformat_minor": 4
}
