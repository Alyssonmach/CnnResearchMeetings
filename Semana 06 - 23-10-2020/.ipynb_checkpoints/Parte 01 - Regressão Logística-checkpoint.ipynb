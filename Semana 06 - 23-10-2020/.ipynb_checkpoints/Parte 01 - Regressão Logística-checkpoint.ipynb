{
 "cells": [
  {
   "cell_type": "markdown",
   "metadata": {},
   "source": [
    "# Problema de Classificação: Usando Regressão Logística"
   ]
  },
  {
   "cell_type": "markdown",
   "metadata": {},
   "source": [
    "#### Modelo de regressão logística para análise de admissão de alunos em uma faculdade."
   ]
  },
  {
   "cell_type": "markdown",
   "metadata": {},
   "source": [
    "> \"*Suponha que você seja o administrador de um departamento de uma universidade e deseja determinar a chance de admissão de cada candidato com base em seus resultados em dois exames. Você tem dados históricos de candidatos anteriores que pode usar como um conjunto de treinamento para regressão logística. Para cada exemplo de treinamento, você tem a pontuação do candidato em dois exames e a decisão de admissão.\n",
    "Sua tarefa é construir um modelo de classificação que estime a probabilidade de admissão de um candidato com base nas pontuações desses dois exames*\"."
   ]
  },
  {
   "cell_type": "markdown",
   "metadata": {},
   "source": [
    "![classificacao](Imagens/classificacao.PNG)"
   ]
  },
  {
   "cell_type": "markdown",
   "metadata": {},
   "source": [
    "### Organizando o dataset"
   ]
  },
  {
   "cell_type": "code",
   "execution_count": 1,
   "metadata": {},
   "outputs": [],
   "source": [
    "import numpy as np\n",
    "import pandas as pd\n",
    "import matplotlib.pyplot as plt"
   ]
  },
  {
   "cell_type": "code",
   "execution_count": 2,
   "metadata": {},
   "outputs": [],
   "source": [
    "dados = pd.read_csv('ex2data1.txt', header = None) # extraindo os dados "
   ]
  },
  {
   "cell_type": "code",
   "execution_count": 3,
   "metadata": {},
   "outputs": [],
   "source": [
    "X = dados.iloc[:, 0:2] # recebe as duas primeiras colunas de 'dados'"
   ]
  },
  {
   "cell_type": "code",
   "execution_count": 4,
   "metadata": {},
   "outputs": [],
   "source": [
    "y = dados.iloc[:, 2] # recebe a última coluna de dados"
   ]
  },
  {
   "cell_type": "code",
   "execution_count": 5,
   "metadata": {},
   "outputs": [
    {
     "data": {
      "text/html": [
       "<div>\n",
       "<style scoped>\n",
       "    .dataframe tbody tr th:only-of-type {\n",
       "        vertical-align: middle;\n",
       "    }\n",
       "\n",
       "    .dataframe tbody tr th {\n",
       "        vertical-align: top;\n",
       "    }\n",
       "\n",
       "    .dataframe thead th {\n",
       "        text-align: right;\n",
       "    }\n",
       "</style>\n",
       "<table border=\"1\" class=\"dataframe\">\n",
       "  <thead>\n",
       "    <tr style=\"text-align: right;\">\n",
       "      <th></th>\n",
       "      <th>0</th>\n",
       "      <th>1</th>\n",
       "      <th>2</th>\n",
       "    </tr>\n",
       "  </thead>\n",
       "  <tbody>\n",
       "    <tr>\n",
       "      <th>0</th>\n",
       "      <td>34.623660</td>\n",
       "      <td>78.024693</td>\n",
       "      <td>0</td>\n",
       "    </tr>\n",
       "    <tr>\n",
       "      <th>1</th>\n",
       "      <td>30.286711</td>\n",
       "      <td>43.894998</td>\n",
       "      <td>0</td>\n",
       "    </tr>\n",
       "    <tr>\n",
       "      <th>2</th>\n",
       "      <td>35.847409</td>\n",
       "      <td>72.902198</td>\n",
       "      <td>0</td>\n",
       "    </tr>\n",
       "    <tr>\n",
       "      <th>3</th>\n",
       "      <td>60.182599</td>\n",
       "      <td>86.308552</td>\n",
       "      <td>1</td>\n",
       "    </tr>\n",
       "    <tr>\n",
       "      <th>4</th>\n",
       "      <td>79.032736</td>\n",
       "      <td>75.344376</td>\n",
       "      <td>1</td>\n",
       "    </tr>\n",
       "  </tbody>\n",
       "</table>\n",
       "</div>"
      ],
      "text/plain": [
       "           0          1  2\n",
       "0  34.623660  78.024693  0\n",
       "1  30.286711  43.894998  0\n",
       "2  35.847409  72.902198  0\n",
       "3  60.182599  86.308552  1\n",
       "4  79.032736  75.344376  1"
      ]
     },
     "execution_count": 5,
     "metadata": {},
     "output_type": "execute_result"
    }
   ],
   "source": [
    "# visualizando os dados\n",
    "dados.head() # visualiza os 5 primeiros exemplos nos dados"
   ]
  },
  {
   "cell_type": "code",
   "execution_count": 6,
   "metadata": {},
   "outputs": [
    {
     "name": "stdout",
     "output_type": "stream",
     "text": [
      "Atributos previsores:\n",
      "             0          1\n",
      "0   34.623660  78.024693\n",
      "1   30.286711  43.894998\n",
      "2   35.847409  72.902198\n",
      "3   60.182599  86.308552\n",
      "4   79.032736  75.344376\n",
      "..        ...        ...\n",
      "95  83.489163  48.380286\n",
      "96  42.261701  87.103851\n",
      "97  99.315009  68.775409\n",
      "98  55.340018  64.931938\n",
      "99  74.775893  89.529813\n",
      "\n",
      "[100 rows x 2 columns]\n",
      "\n",
      "Classes dos dados:\n",
      " 0     0\n",
      "1     0\n",
      "2     0\n",
      "3     1\n",
      "4     1\n",
      "     ..\n",
      "95    1\n",
      "96    1\n",
      "97    1\n",
      "98    1\n",
      "99    1\n",
      "Name: 2, Length: 100, dtype: int64\n"
     ]
    }
   ],
   "source": [
    "# visualizando os dados\n",
    "print('Atributos previsores:\\n', X)\n",
    "print('\\nClasses dos dados:\\n',y)"
   ]
  },
  {
   "cell_type": "markdown",
   "metadata": {},
   "source": [
    "- Temos dois dados independentes em **X** (X[:, 0] e X[:, 1]) e um dado dependente **y**."
   ]
  },
  {
   "cell_type": "markdown",
   "metadata": {},
   "source": [
    "### Visualizando Graficamente os Dados"
   ]
  },
  {
   "cell_type": "code",
   "execution_count": 7,
   "metadata": {},
   "outputs": [
    {
     "data": {
      "text/plain": [
       "<matplotlib.legend.Legend at 0x200496db788>"
      ]
     },
     "execution_count": 7,
     "metadata": {},
     "output_type": "execute_result"
    },
    {
     "data": {
      "image/png": "[encoded data removed]",
      "text/plain": [
       "<Figure size 1080x720 with 1 Axes>"
      ]
     },
     "metadata": {
      "needs_background": "light"
     },
     "output_type": "display_data"
    }
   ],
   "source": [
    "#definindo a dimensão do gráfico\n",
    "plt.figure(figsize = (15, 10))\n",
    "# preparando os dados no gráfico\n",
    "auxiliar = y == 1 # define True para 1 e False para 0\n",
    "admitido = plt.scatter(X[auxiliar][0].values, X[auxiliar][1].values) # todos os exemplos em X cujo y indica classe 1\n",
    "nao_adimitido = plt.scatter(X[~auxiliar][0].values, X[~auxiliar][1].values) # todos os exemplos em X cujo y indica classe 0\n",
    "# definindo legendaas ao gráfico\n",
    "plt.title('Análise de Admissão na Universidade')\n",
    "plt.xlabel('Pontuação no primeiro exame')\n",
    "plt.ylabel('Pontuação no segundo exame')\n",
    "plt.legend((admitido, nao_adimitido), ('Consegue vaga', 'Não consegue vaga'))"
   ]
  },
  {
   "cell_type": "markdown",
   "metadata": {},
   "source": [
    "### Implementação da Regressão Logística"
   ]
  },
  {
   "cell_type": "markdown",
   "metadata": {},
   "source": [
    "![hipotese](Imagens/hipotese.PNG)"
   ]
  },
  {
   "cell_type": "markdown",
   "metadata": {},
   "source": [
    "#### Função sigmoide"
   ]
  },
  {
   "cell_type": "code",
   "execution_count": 8,
   "metadata": {},
   "outputs": [],
   "source": [
    "def sigmoide(X):\n",
    "    '''\n",
    "    Implementação da função sigmoide\n",
    "    '''\n",
    "    return 1 / (1+ np.exp(-X))"
   ]
  },
  {
   "cell_type": "markdown",
   "metadata": {},
   "source": [
    "#### Função de Custo"
   ]
  },
  {
   "cell_type": "markdown",
   "metadata": {},
   "source": [
    "![gradiente-descendente](Imagens/gradiente-descendente.PNG)"
   ]
  },
  {
   "cell_type": "code",
   "execution_count": 9,
   "metadata": {},
   "outputs": [],
   "source": [
    "def funcaoCusto(teta, X, y):\n",
    "    '''\n",
    "    Implementando a função de custo (erro na predição)\n",
    "    '''\n",
    "    J = (-1/m) * np.sum(np.multiply(y, np.log(sigmoide(X.dot(teta)))) \n",
    "        + np.multiply((1-y), np.log(1 - sigmoide(X.dot(teta)))))\n",
    "    return J"
   ]
  },
  {
   "cell_type": "markdown",
   "metadata": {},
   "source": [
    "#### Implementação do Gradiente Descendente"
   ]
  },
  {
   "cell_type": "code",
   "execution_count": 10,
   "metadata": {},
   "outputs": [],
   "source": [
    "def gradiente(teta, X, y):\n",
    "    '''\n",
    "    Implementação do Gradiente Descendente\n",
    "    '''\n",
    "    return ((1/m) * (X.T).dot((sigmoide(X.dot(teta)) - y)))"
   ]
  },
  {
   "cell_type": "markdown",
   "metadata": {},
   "source": [
    "### Testando o algoritmo"
   ]
  },
  {
   "cell_type": "code",
   "execution_count": 11,
   "metadata": {},
   "outputs": [],
   "source": [
    "(m, n) = X.shape # recebe as 'm' linhas e 'n' colunas de X\n",
    "X = np.hstack((np.ones((m,1)), X)) # empilha mastrizes horizontalmente\n",
    "y = y[:, np.newaxis] # conversão explícita de uma matriz 1d em um vetor coluna\n",
    "teta = np.zeros((n + 1,1)) # inicializando os tetas com zero"
   ]
  },
  {
   "cell_type": "code",
   "execution_count": 12,
   "metadata": {},
   "outputs": [
    {
     "name": "stdout",
     "output_type": "stream",
     "text": [
      "0.6931471805599453\n"
     ]
    }
   ],
   "source": [
    "J = funcaoCusto(teta, X, y) # J recebe o valor do erro na predição para a minha hipótese inicial\n",
    "print(J)"
   ]
  },
  {
   "cell_type": "markdown",
   "metadata": {},
   "source": [
    "### Definindo os parâmetros de aprendizagem"
   ]
  },
  {
   "cell_type": "code",
   "execution_count": 13,
   "metadata": {},
   "outputs": [],
   "source": [
    "# biblioteca para manipulações matemáticas\n",
    "import scipy.optimize as opt"
   ]
  },
  {
   "cell_type": "code",
   "execution_count": 14,
   "metadata": {},
   "outputs": [
    {
     "data": {
      "text/plain": [
       "'\\n=== Objetivo ===\\n1 - Usar o otimizador fmin_tnc do scipy para minimizar nossa função de custo (ajustando teta) \\n=== Devemos passar para o algoritmo ===\\n1 - Passar uma função que calcula o custo da regressão logística;\\n2 - passar os parâmetros teta (1-D);\\n3 - passar a função que calcula o gradiente descendente;\\n4 - O conjunto de dados (X, y(1-D));\\n'"
      ]
     },
     "execution_count": 14,
     "metadata": {},
     "output_type": "execute_result"
    }
   ],
   "source": [
    "otimizador = opt.fmin_tnc(func = funcaoCusto, x0 = teta.flatten(),fprime = gradiente, args = (X, y.flatten()))\n",
    "'''\n",
    "=== Objetivo ===\n",
    "1 - Usar o otimizador fmin_tnc do scipy para minimizar nossa função de custo (ajustando teta) \n",
    "=== Devemos passar para o algoritmo ===\n",
    "1 - Passar uma função que calcula o custo da regressão logística;\n",
    "2 - passar os parâmetros teta (1-D);\n",
    "3 - passar a função que calcula o gradiente descendente;\n",
    "4 - O conjunto de dados (X, y(1-D));\n",
    "'''"
   ]
  },
  {
   "cell_type": "code",
   "execution_count": 15,
   "metadata": {},
   "outputs": [
    {
     "name": "stdout",
     "output_type": "stream",
     "text": [
      "[-25.16131854   0.20623159   0.20147149]\n"
     ]
    }
   ],
   "source": [
    "# a saída dos dados vai ser uma lista, cujo primeiro elemento será os parâmetros teta\n",
    "teta_otimizado = otimizador[0]\n",
    "print(teta_otimizado)"
   ]
  },
  {
   "cell_type": "code",
   "execution_count": 16,
   "metadata": {},
   "outputs": [
    {
     "name": "stdout",
     "output_type": "stream",
     "text": [
      "0.20349770158947494\n"
     ]
    }
   ],
   "source": [
    "J = funcaoCusto(teta_otimizado[:,np.newaxis], X, y)\n",
    "print(J)"
   ]
  },
  {
   "cell_type": "code",
   "execution_count": 17,
   "metadata": {},
   "outputs": [
    {
     "data": {
      "text/plain": [
       "<matplotlib.legend.Legend at 0x2004a2ecfc8>"
      ]
     },
     "execution_count": 17,
     "metadata": {},
     "output_type": "execute_result"
    },
    {
     "data": {
      "image/png": "[encoded data removed]",
      "text/plain": [
       "<Figure size 1080x720 with 1 Axes>"
      ]
     },
     "metadata": {
      "needs_background": "light"
     },
     "output_type": "display_data"
    }
   ],
   "source": [
    "plt.figure(figsize = (15, 10))\n",
    "\n",
    "plot_x = [np.min(X[:,1]), np.max(X[:,2])]\n",
    "plot_y = -1 / teta_otimizado[2] * (teta_otimizado[0]  + np.dot(teta_otimizado[1], plot_x))  # modelando o modelo matemático ajustado a fronteira\n",
    "# preparando os dados no gráfico\n",
    "auxiliar = y.flatten() == 1 # define True para 1 e False para 0\n",
    "admitido = plt.scatter(X[auxiliar][:,1], X[auxiliar][:,2]) # todos os exemplos em X cujo y indica classe 1\n",
    "nao_admitido = plt.scatter(X[~auxiliar][:,1], X[~auxiliar][:,2]) # todos os exemplos em X cujo y indica classe 0\n",
    "fronteira_decisao = plt.plot(plot_x, plot_y)\n",
    "# definindo legendas ao gráfico\n",
    "plt.title('Análise de Admissão na Universidade')\n",
    "plt.xlabel('Pontuação no primeiro exame')\n",
    "plt.ylabel('Pontuação no segundo exame')\n",
    "plt.legend((admitido, nao_adimitido), ('Consegue vaga', 'Não consegue vaga'))"
   ]
  },
  {
   "cell_type": "markdown",
   "metadata": {},
   "source": [
    "![tipos-classificacao](Imagens/tipos-classificacao.PNG)"
   ]
  },
  {
   "cell_type": "markdown",
   "metadata": {},
   "source": [
    "![multiclasses](Imagens/multiclasses.PNG)"
   ]
  },
  {
   "cell_type": "markdown",
   "metadata": {},
   "source": [
    "### Acurácia do modelo"
   ]
  },
  {
   "cell_type": "code",
   "execution_count": 18,
   "metadata": {},
   "outputs": [],
   "source": [
    "def acuracia(X, y, teta, limite_decisao):\n",
    "    '''\n",
    "    Função que calcula a acurácia de um modelo de regressão logística\n",
    "    '''\n",
    "    predicao = [sigmoide(np.dot(X, teta)) >= limite_decisao]\n",
    "    acuracia = np.mean(predicao == y)\n",
    "    print(acuracia * 100)"
   ]
  },
  {
   "cell_type": "code",
   "execution_count": 19,
   "metadata": {},
   "outputs": [
    {
     "name": "stdout",
     "output_type": "stream",
     "text": [
      "89.0\n"
     ]
    }
   ],
   "source": [
    "# visualizando a acurácia\n",
    "acuracia(X, y.flatten(), teta_otimizado, limite_decisao = 0.5)"
   ]
  }
 ],
 "metadata": {
  "kernelspec": {
   "display_name": "Python 3",
   "language": "python",
   "name": "python3"
  },
  "language_info": {
   "codemirror_mode": {
    "name": "ipython",
    "version": 3
   },
   "file_extension": ".py",
   "mimetype": "text/x-python",
   "name": "python",
   "nbconvert_exporter": "python",
   "pygments_lexer": "ipython3",
   "version": "3.7.4"
  }
 },
 "nbformat": 4,
 "nbformat_minor": 4
}
