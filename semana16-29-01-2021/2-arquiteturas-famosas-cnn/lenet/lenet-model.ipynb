{
 "cells": [
  {
   "cell_type": "markdown",
   "id": "controversial-advisory",
   "metadata": {},
   "source": [
    "# LeNet-5 - Adapted"
   ]
  },
  {
   "cell_type": "code",
   "execution_count": 1,
   "id": "honest-november",
   "metadata": {},
   "outputs": [],
   "source": [
    "# importando o framework tensorflow no python\n",
    "import tensorflow as tf"
   ]
  },
  {
   "cell_type": "code",
   "execution_count": 2,
   "id": "chinese-killer",
   "metadata": {},
   "outputs": [],
   "source": [
    "# selecionando os dados\n",
    "mnist = tf.keras.datasets.mnist"
   ]
  },
  {
   "cell_type": "code",
   "execution_count": 3,
   "id": "statistical-medicine",
   "metadata": {},
   "outputs": [],
   "source": [
    "# baixando os dados e o dividindo em treinamento e teste\n",
    "(training_images, training_labels), (test_images, test_labels) = mnist.load_data()"
   ]
  },
  {
   "cell_type": "code",
   "execution_count": 4,
   "id": "artistic-parts",
   "metadata": {},
   "outputs": [
    {
     "name": "stdout",
     "output_type": "stream",
     "text": [
      "training image shape: (60000, 28, 28)\n",
      "training label shape: (60000,)\n",
      "test image shape: (10000, 28, 28)\n",
      "training label shape: (10000,)\n"
     ]
    }
   ],
   "source": [
    "# visualizando as dimensões dos dados\n",
    "print('training image shape:', training_images.shape)\n",
    "print('training label shape:', training_labels.shape)\n",
    "print('test image shape:', test_images.shape)\n",
    "print('training label shape:', test_labels.shape)"
   ]
  },
  {
   "cell_type": "code",
   "execution_count": 5,
   "id": "pretty-westminster",
   "metadata": {},
   "outputs": [
    {
     "name": "stdout",
     "output_type": "stream",
     "text": [
      "training image label: 5\n"
     ]
    },
    {
     "data": {
      "image/png": "[encoded data removed]",
      "text/plain": [
       "<Figure size 432x288 with 1 Axes>"
      ]
     },
     "metadata": {
      "needs_background": "light"
     },
     "output_type": "display_data"
    }
   ],
   "source": [
    "# visualizando o estilo dos dados\n",
    "from matplotlib.pyplot import imshow\n",
    "imshow(training_images[0], cmap = 'gray')\n",
    "print('training image label:', training_labels[0])"
   ]
  },
  {
   "cell_type": "code",
   "execution_count": 6,
   "id": "continental-greensboro",
   "metadata": {},
   "outputs": [],
   "source": [
    "# pegando informações dimensionais da imagem\n",
    "wpixels, hpixels = training_images[0].shape\n",
    "m_train = training_labels.size\n",
    "m_test = test_labels.size"
   ]
  },
  {
   "cell_type": "code",
   "execution_count": 7,
   "id": "legitimate-emerald",
   "metadata": {},
   "outputs": [],
   "source": [
    "# reajustando o formato dos dados e aplicando a normalização\n",
    "training_images = training_images.reshape(m_train, wpixels, hpixels, 1)\n",
    "training_images = training_images / 255\n",
    "test_images = test_images.reshape(m_test, wpixels, hpixels, 1)\n",
    "test_images = test_images / 255"
   ]
  },
  {
   "cell_type": "code",
   "execution_count": 8,
   "id": "macro-dancing",
   "metadata": {},
   "outputs": [],
   "source": [
    "# definindo o moddelo de rede neural convolucional\n",
    "model = tf.keras.models.Sequential([\n",
    "                                    tf.keras.layers.Conv2D(filters = 6, kernel_size = (5, 5), strides = 1, activation = tf.nn.relu, input_shape = (wpixels, hpixels, 1)),\n",
    "                                    tf.keras.layers.AveragePooling2D(pool_size = (2, 2), strides = 2),\n",
    "                                    tf.keras.layers.Conv2D(filters = 16, kernel_size = (5, 5), strides = 1, activation = tf.nn.relu),\n",
    "                                    tf.keras.layers.MaxPooling2D(pool_size = (2, 2), strides = 2),\n",
    "                                    tf.keras.layers.Flatten(),\n",
    "                                    tf.keras.layers.Dense(120, activation = tf.nn.relu),\n",
    "                                    tf.keras.layers.Dense(84, activation = tf.nn.relu),\n",
    "                                    tf.keras.layers.Dense(10, activation = tf.nn.softmax)\n",
    "])"
   ]
  },
  {
   "cell_type": "code",
   "execution_count": 9,
   "id": "favorite-wellington",
   "metadata": {},
   "outputs": [],
   "source": [
    "# definindo os detalhes da compilação do modelo\n",
    "model.compile(optimizer = 'adam', loss = 'sparse_categorical_crossentropy',\n",
    "              metrics = ['accuracy'])"
   ]
  },
  {
   "cell_type": "code",
   "execution_count": 10,
   "id": "chinese-nothing",
   "metadata": {},
   "outputs": [
    {
     "name": "stdout",
     "output_type": "stream",
     "text": [
      "Model: \"sequential\"\n",
      "_________________________________________________________________\n",
      "Layer (type)                 Output Shape              Param #   \n",
      "=================================================================\n",
      "conv2d (Conv2D)              (None, 24, 24, 6)         156       \n",
      "_________________________________________________________________\n",
      "average_pooling2d (AveragePo (None, 12, 12, 6)         0         \n",
      "_________________________________________________________________\n",
      "conv2d_1 (Conv2D)            (None, 8, 8, 16)          2416      \n",
      "_________________________________________________________________\n",
      "max_pooling2d (MaxPooling2D) (None, 4, 4, 16)          0         \n",
      "_________________________________________________________________\n",
      "flatten (Flatten)            (None, 256)               0         \n",
      "_________________________________________________________________\n",
      "dense (Dense)                (None, 120)               30840     \n",
      "_________________________________________________________________\n",
      "dense_1 (Dense)              (None, 84)                10164     \n",
      "_________________________________________________________________\n",
      "dense_2 (Dense)              (None, 10)                850       \n",
      "=================================================================\n",
      "Total params: 44,426\n",
      "Trainable params: 44,426\n",
      "Non-trainable params: 0\n",
      "_________________________________________________________________\n"
     ]
    }
   ],
   "source": [
    "model.summary()"
   ]
  },
  {
   "cell_type": "code",
   "execution_count": 11,
   "id": "injured-error",
   "metadata": {},
   "outputs": [
    {
     "name": "stdout",
     "output_type": "stream",
     "text": [
      "Epoch 1/5\n",
      "1875/1875 [==============================] - 31s 15ms/step - loss: 0.4368 - accuracy: 0.8651\n",
      "Epoch 2/5\n",
      "1875/1875 [==============================] - 28s 15ms/step - loss: 0.0645 - accuracy: 0.9790\n",
      "Epoch 3/5\n",
      "1875/1875 [==============================] - 27s 15ms/step - loss: 0.0455 - accuracy: 0.9857\n",
      "Epoch 4/5\n",
      "1875/1875 [==============================] - 27s 15ms/step - loss: 0.0338 - accuracy: 0.9894\n",
      "Epoch 5/5\n",
      "1875/1875 [==============================] - 27s 15ms/step - loss: 0.0289 - accuracy: 0.99080s - loss: 0.0289 - accu\n"
     ]
    },
    {
     "data": {
      "text/plain": [
       "<tensorflow.python.keras.callbacks.History at 0x14e863d1460>"
      ]
     },
     "execution_count": 11,
     "metadata": {},
     "output_type": "execute_result"
    }
   ],
   "source": [
    "# treinando a rede neural convolucional\n",
    "model.fit(training_images, training_labels, epochs = 5)"
   ]
  },
  {
   "cell_type": "code",
   "execution_count": 12,
   "id": "occasional-senior",
   "metadata": {},
   "outputs": [
    {
     "name": "stdout",
     "output_type": "stream",
     "text": [
      "313/313 [==============================] - 3s 7ms/step - loss: 0.0347 - accuracy: 0.9886\n"
     ]
    },
    {
     "data": {
      "text/plain": [
       "[0.03465503081679344, 0.9886000156402588]"
      ]
     },
     "execution_count": 12,
     "metadata": {},
     "output_type": "execute_result"
    }
   ],
   "source": [
    "model.evaluate(test_images, test_labels)"
   ]
  }
 ],
 "metadata": {
  "kernelspec": {
   "display_name": "Python 3",
   "language": "python",
   "name": "python3"
  },
  "language_info": {
   "codemirror_mode": {
    "name": "ipython",
    "version": 3
   },
   "file_extension": ".py",
   "mimetype": "text/x-python",
   "name": "python",
   "nbconvert_exporter": "python",
   "pygments_lexer": "ipython3",
   "version": "3.8.7"
  }
 },
 "nbformat": 4,
 "nbformat_minor": 5
}
