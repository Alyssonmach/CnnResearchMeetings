{
  "nbformat": 4,
  "nbformat_minor": 0,
  "metadata": {
    "accelerator": "GPU",
    "colab": {
      "name": "Course 2 - Part 4 - Lesson 4 - Notebook.ipynb",
      "provenance": [],
      "collapsed_sections": [],
      "toc_visible": true
    },
    "kernelspec": {
      "display_name": "Python 3",
      "name": "python3"
    }
  },
  "cells": [
    {
      "cell_type": "code",
      "metadata": {
        "colab": {
          "base_uri": "https://localhost:8080/"
        },
        "id": "RXZT2UsyIVe_",
        "outputId": "06ae7696-8e4f-436a-cd58-563b44b4ea15"
      },
      "source": [
        "!wget --no-check-certificate \\\n",
        "    https://storage.googleapis.com/laurencemoroney-blog.appspot.com/horse-or-human.zip \\\n",
        "    -O /tmp/horse-or-human.zip\n",
        "\n",
        "!wget --no-check-certificate \\\n",
        "    https://storage.googleapis.com/laurencemoroney-blog.appspot.com/validation-horse-or-human.zip \\\n",
        "    -O /tmp/validation-horse-or-human.zip\n",
        "  \n",
        "import os\n",
        "import zipfile\n",
        "\n",
        "local_zip = '/tmp/horse-or-human.zip'\n",
        "zip_ref = zipfile.ZipFile(local_zip, 'r')\n",
        "zip_ref.extractall('/tmp/horse-or-human')\n",
        "local_zip = '/tmp/validation-horse-or-human.zip'\n",
        "zip_ref = zipfile.ZipFile(local_zip, 'r')\n",
        "zip_ref.extractall('/tmp/validation-horse-or-human')\n",
        "zip_ref.close()\n",
        "# Directory with our training horse pictures\n",
        "train_horse_dir = os.path.join('/tmp/horse-or-human/horses')\n",
        "\n",
        "# Directory with our training human pictures\n",
        "train_human_dir = os.path.join('/tmp/horse-or-human/humans')\n",
        "\n",
        "# Directory with our training horse pictures\n",
        "validation_horse_dir = os.path.join('/tmp/validation-horse-or-human/horses')\n",
        "\n",
        "# Directory with our training human pictures\n",
        "validation_human_dir = os.path.join('/tmp/validation-horse-or-human/humans')"
      ],
      "execution_count": 1,
      "outputs": [
        {
          "output_type": "stream",
          "text": [
            "--2021-01-21 13:34:04--  https://storage.googleapis.com/laurencemoroney-blog.appspot.com/horse-or-human.zip\n",
            "Resolving storage.googleapis.com (storage.googleapis.com)... 74.125.195.128, 74.125.142.128, 74.125.20.128, ...\n",
            "Connecting to storage.googleapis.com (storage.googleapis.com)|74.125.195.128|:443... connected.\n",
            "HTTP request sent, awaiting response... 200 OK\n",
            "Length: 149574867 (143M) [application/zip]\n",
            "Saving to: ‘/tmp/horse-or-human.zip’\n",
            "\n",
            "/tmp/horse-or-human 100%[===================>] 142.65M   191MB/s    in 0.7s    \n",
            "\n",
            "2021-01-21 13:34:05 (191 MB/s) - ‘/tmp/horse-or-human.zip’ saved [149574867/149574867]\n",
            "\n",
            "--2021-01-21 13:34:05--  https://storage.googleapis.com/laurencemoroney-blog.appspot.com/validation-horse-or-human.zip\n",
            "Resolving storage.googleapis.com (storage.googleapis.com)... 74.125.142.128, 74.125.20.128, 108.177.98.128, ...\n",
            "Connecting to storage.googleapis.com (storage.googleapis.com)|74.125.142.128|:443... connected.\n",
            "HTTP request sent, awaiting response... 200 OK\n",
            "Length: 11480187 (11M) [application/zip]\n",
            "Saving to: ‘/tmp/validation-horse-or-human.zip’\n",
            "\n",
            "/tmp/validation-hor 100%[===================>]  10.95M  --.-KB/s    in 0.1s    \n",
            "\n",
            "2021-01-21 13:34:06 (107 MB/s) - ‘/tmp/validation-horse-or-human.zip’ saved [11480187/11480187]\n",
            "\n"
          ],
          "name": "stdout"
        }
      ]
    },
    {
      "cell_type": "markdown",
      "metadata": {
        "id": "5oqBkNBJmtUv"
      },
      "source": [
        "## Building a Small Model from Scratch\n",
        "\n",
        "But before we continue, let's start defining the model:\n",
        "\n",
        "Step 1 will be to import tensorflow."
      ]
    },
    {
      "cell_type": "code",
      "metadata": {
        "id": "qvfZg3LQbD-5"
      },
      "source": [
        "import tensorflow as tf"
      ],
      "execution_count": 2,
      "outputs": []
    },
    {
      "cell_type": "markdown",
      "metadata": {
        "id": "BnhYCP4tdqjC"
      },
      "source": [
        "We then add convolutional layers as in the previous example, and flatten the final result to feed into the densely connected layers."
      ]
    },
    {
      "cell_type": "markdown",
      "metadata": {
        "id": "gokG5HKpdtzm"
      },
      "source": [
        "Finally we add the densely connected layers. \n",
        "\n",
        "Note that because we are facing a two-class classification problem, i.e. a *binary classification problem*, we will end our network with a [*sigmoid* activation](https://wikipedia.org/wiki/Sigmoid_function), so that the output of our network will be a single scalar between 0 and 1, encoding the probability that the current image is class 1 (as opposed to class 0)."
      ]
    },
    {
      "cell_type": "code",
      "metadata": {
        "id": "PixZ2s5QbYQ3"
      },
      "source": [
        "model = tf.keras.models.Sequential([\n",
        "    # Note the input shape is the desired size of the image 300x300 with 3 bytes color\n",
        "    # This is the first convolution\n",
        "    tf.keras.layers.Conv2D(16, (3,3), activation='relu', input_shape=(300, 300, 3)),\n",
        "    tf.keras.layers.MaxPooling2D(2, 2),\n",
        "    # The second convolution\n",
        "    tf.keras.layers.Conv2D(32, (3,3), activation='relu'),\n",
        "    tf.keras.layers.MaxPooling2D(2,2),\n",
        "    # The third convolution\n",
        "    tf.keras.layers.Conv2D(64, (3,3), activation='relu'),\n",
        "    tf.keras.layers.MaxPooling2D(2,2),\n",
        "    # The fourth convolution\n",
        "    tf.keras.layers.Conv2D(64, (3,3), activation='relu'),\n",
        "    tf.keras.layers.MaxPooling2D(2,2),\n",
        "    # The fifth convolution\n",
        "    tf.keras.layers.Conv2D(64, (3,3), activation='relu'),\n",
        "    tf.keras.layers.MaxPooling2D(2,2),\n",
        "    # Flatten the results to feed into a DNN\n",
        "    tf.keras.layers.Flatten(),\n",
        "    # 512 neuron hidden layer\n",
        "    tf.keras.layers.Dense(512, activation='relu'),\n",
        "    # Only 1 output neuron. It will contain a value from 0-1 where 0 for 1 class ('horses') and 1 for the other ('humans')\n",
        "    tf.keras.layers.Dense(1, activation='sigmoid')\n",
        "])"
      ],
      "execution_count": 3,
      "outputs": []
    },
    {
      "cell_type": "code",
      "metadata": {
        "id": "8DHWhFP_uhq3"
      },
      "source": [
        "from tensorflow.keras.optimizers import RMSprop\n",
        "\n",
        "model.compile(loss='binary_crossentropy',\n",
        "              optimizer=RMSprop(lr=1e-4),\n",
        "              metrics=['accuracy'])"
      ],
      "execution_count": 4,
      "outputs": []
    },
    {
      "cell_type": "code",
      "metadata": {
        "colab": {
          "base_uri": "https://localhost:8080/"
        },
        "id": "ClebU9NJg99G",
        "outputId": "0be6c755-0e3b-49d5-e02f-71992555c95b"
      },
      "source": [
        "from tensorflow.keras.preprocessing.image import ImageDataGenerator\n",
        "\n",
        "# All images will be rescaled by 1./255\n",
        "train_datagen = ImageDataGenerator(\n",
        "      rescale=1./255,\n",
        "      rotation_range=40,\n",
        "      width_shift_range=0.2,\n",
        "      height_shift_range=0.2,\n",
        "      shear_range=0.2,\n",
        "      zoom_range=0.2,\n",
        "      horizontal_flip=True,\n",
        "      fill_mode='nearest')\n",
        "\n",
        "validation_datagen = ImageDataGenerator(rescale=1/255)\n",
        "\n",
        "# Flow training images in batches of 128 using train_datagen generator\n",
        "train_generator = train_datagen.flow_from_directory(\n",
        "        '/tmp/horse-or-human/',  # This is the source directory for training images\n",
        "        target_size=(300, 300),  # All images will be resized to 150x150\n",
        "        batch_size=128,\n",
        "        # Since we use binary_crossentropy loss, we need binary labels\n",
        "        class_mode='binary')\n",
        "\n",
        "# Flow training images in batches of 128 using train_datagen generator\n",
        "validation_generator = validation_datagen.flow_from_directory(\n",
        "        '/tmp/validation-horse-or-human/',  # This is the source directory for training images\n",
        "        target_size=(300, 300),  # All images will be resized to 150x150\n",
        "        batch_size=32,\n",
        "        # Since we use binary_crossentropy loss, we need binary labels\n",
        "        class_mode='binary')"
      ],
      "execution_count": 5,
      "outputs": [
        {
          "output_type": "stream",
          "text": [
            "Found 1027 images belonging to 2 classes.\n",
            "Found 256 images belonging to 2 classes.\n"
          ],
          "name": "stdout"
        }
      ]
    },
    {
      "cell_type": "code",
      "metadata": {
        "colab": {
          "base_uri": "https://localhost:8080/"
        },
        "id": "Fb1_lgobv81m",
        "outputId": "5ef9fb55-3f2e-448a-90c8-a807555f06da"
      },
      "source": [
        "history = model.fit(\n",
        "      train_generator,\n",
        "      steps_per_epoch=8,  \n",
        "      epochs=100,\n",
        "      verbose=1,\n",
        "      validation_data = validation_generator,\n",
        "      validation_steps=8)"
      ],
      "execution_count": 6,
      "outputs": [
        {
          "output_type": "stream",
          "text": [
            "Epoch 1/100\n",
            "8/8 [==============================] - 27s 2s/step - loss: 0.6899 - accuracy: 0.5355 - val_loss: 0.6830 - val_accuracy: 0.5000\n",
            "Epoch 2/100\n",
            "8/8 [==============================] - 21s 3s/step - loss: 0.6782 - accuracy: 0.5718 - val_loss: 0.7375 - val_accuracy: 0.5000\n",
            "Epoch 3/100\n",
            "8/8 [==============================] - 21s 3s/step - loss: 0.6645 - accuracy: 0.5541 - val_loss: 0.5808 - val_accuracy: 0.8633\n",
            "Epoch 4/100\n",
            "8/8 [==============================] - 21s 3s/step - loss: 0.6600 - accuracy: 0.6244 - val_loss: 0.5980 - val_accuracy: 0.6133\n",
            "Epoch 5/100\n",
            "8/8 [==============================] - 21s 3s/step - loss: 0.6325 - accuracy: 0.6852 - val_loss: 0.5294 - val_accuracy: 0.7344\n",
            "Epoch 6/100\n",
            "8/8 [==============================] - 21s 3s/step - loss: 0.6207 - accuracy: 0.6850 - val_loss: 0.4729 - val_accuracy: 0.7695\n",
            "Epoch 7/100\n",
            "8/8 [==============================] - 21s 3s/step - loss: 0.6241 - accuracy: 0.7055 - val_loss: 0.4706 - val_accuracy: 0.7617\n",
            "Epoch 8/100\n",
            "8/8 [==============================] - 21s 3s/step - loss: 0.5732 - accuracy: 0.7847 - val_loss: 0.4827 - val_accuracy: 0.7461\n",
            "Epoch 9/100\n",
            "8/8 [==============================] - 23s 3s/step - loss: 0.5571 - accuracy: 0.7585 - val_loss: 0.4015 - val_accuracy: 0.8008\n",
            "Epoch 10/100\n",
            "8/8 [==============================] - 21s 3s/step - loss: 0.6953 - accuracy: 0.6873 - val_loss: 0.5133 - val_accuracy: 0.7422\n",
            "Epoch 11/100\n",
            "8/8 [==============================] - 21s 3s/step - loss: 0.5261 - accuracy: 0.7433 - val_loss: 0.5883 - val_accuracy: 0.7070\n",
            "Epoch 12/100\n",
            "8/8 [==============================] - 21s 3s/step - loss: 0.4836 - accuracy: 0.7872 - val_loss: 0.8220 - val_accuracy: 0.6289\n",
            "Epoch 13/100\n",
            "8/8 [==============================] - 21s 3s/step - loss: 0.4839 - accuracy: 0.7731 - val_loss: 0.6539 - val_accuracy: 0.6953\n",
            "Epoch 14/100\n",
            "8/8 [==============================] - 21s 3s/step - loss: 0.4620 - accuracy: 0.7801 - val_loss: 0.6140 - val_accuracy: 0.7266\n",
            "Epoch 15/100\n",
            "8/8 [==============================] - 21s 3s/step - loss: 0.4453 - accuracy: 0.8084 - val_loss: 0.6520 - val_accuracy: 0.7383\n",
            "Epoch 16/100\n",
            "8/8 [==============================] - 21s 3s/step - loss: 0.4562 - accuracy: 0.7910 - val_loss: 0.9387 - val_accuracy: 0.6680\n",
            "Epoch 17/100\n",
            "8/8 [==============================] - 21s 3s/step - loss: 0.4637 - accuracy: 0.7956 - val_loss: 0.7982 - val_accuracy: 0.7070\n",
            "Epoch 18/100\n",
            "8/8 [==============================] - 21s 3s/step - loss: 0.4070 - accuracy: 0.8031 - val_loss: 0.6964 - val_accuracy: 0.7500\n",
            "Epoch 19/100\n",
            "8/8 [==============================] - 21s 3s/step - loss: 0.4115 - accuracy: 0.8123 - val_loss: 0.8967 - val_accuracy: 0.6992\n",
            "Epoch 20/100\n",
            "8/8 [==============================] - 21s 3s/step - loss: 0.4205 - accuracy: 0.8090 - val_loss: 0.9760 - val_accuracy: 0.6914\n",
            "Epoch 21/100\n",
            "8/8 [==============================] - 21s 3s/step - loss: 0.3743 - accuracy: 0.8212 - val_loss: 0.9350 - val_accuracy: 0.6836\n",
            "Epoch 22/100\n",
            "8/8 [==============================] - 21s 3s/step - loss: 0.3626 - accuracy: 0.8461 - val_loss: 0.6396 - val_accuracy: 0.7734\n",
            "Epoch 23/100\n",
            "8/8 [==============================] - 21s 3s/step - loss: 0.4439 - accuracy: 0.7908 - val_loss: 0.9238 - val_accuracy: 0.6836\n",
            "Epoch 24/100\n",
            "8/8 [==============================] - 21s 3s/step - loss: 0.3516 - accuracy: 0.8377 - val_loss: 1.2788 - val_accuracy: 0.6250\n",
            "Epoch 25/100\n",
            "8/8 [==============================] - 21s 3s/step - loss: 0.3415 - accuracy: 0.8658 - val_loss: 1.7493 - val_accuracy: 0.5742\n",
            "Epoch 26/100\n",
            "8/8 [==============================] - 21s 3s/step - loss: 0.4254 - accuracy: 0.7837 - val_loss: 0.6100 - val_accuracy: 0.7734\n",
            "Epoch 27/100\n",
            "8/8 [==============================] - 21s 3s/step - loss: 0.3820 - accuracy: 0.8234 - val_loss: 1.0904 - val_accuracy: 0.6836\n",
            "Epoch 28/100\n",
            "8/8 [==============================] - 21s 3s/step - loss: 0.3293 - accuracy: 0.8596 - val_loss: 0.4805 - val_accuracy: 0.8398\n",
            "Epoch 29/100\n",
            "8/8 [==============================] - 21s 3s/step - loss: 0.3928 - accuracy: 0.8213 - val_loss: 2.1560 - val_accuracy: 0.5586\n",
            "Epoch 30/100\n",
            "8/8 [==============================] - 21s 3s/step - loss: 0.4019 - accuracy: 0.8156 - val_loss: 1.2109 - val_accuracy: 0.6836\n",
            "Epoch 31/100\n",
            "8/8 [==============================] - 21s 3s/step - loss: 0.2887 - accuracy: 0.8663 - val_loss: 0.9446 - val_accuracy: 0.7383\n",
            "Epoch 32/100\n",
            "8/8 [==============================] - 21s 3s/step - loss: 0.3451 - accuracy: 0.8384 - val_loss: 0.9419 - val_accuracy: 0.7227\n",
            "Epoch 33/100\n",
            "8/8 [==============================] - 21s 3s/step - loss: 0.3135 - accuracy: 0.8566 - val_loss: 2.0575 - val_accuracy: 0.5703\n",
            "Epoch 34/100\n",
            "8/8 [==============================] - 21s 3s/step - loss: 0.3631 - accuracy: 0.8305 - val_loss: 1.8571 - val_accuracy: 0.5781\n",
            "Epoch 35/100\n",
            "8/8 [==============================] - 21s 3s/step - loss: 0.3077 - accuracy: 0.8491 - val_loss: 0.6126 - val_accuracy: 0.7852\n",
            "Epoch 36/100\n",
            "8/8 [==============================] - 21s 3s/step - loss: 0.3285 - accuracy: 0.8588 - val_loss: 1.1322 - val_accuracy: 0.7227\n",
            "Epoch 37/100\n",
            "8/8 [==============================] - 21s 3s/step - loss: 0.3086 - accuracy: 0.8669 - val_loss: 2.5650 - val_accuracy: 0.5586\n",
            "Epoch 38/100\n",
            "8/8 [==============================] - 23s 3s/step - loss: 0.3049 - accuracy: 0.8508 - val_loss: 1.8673 - val_accuracy: 0.6250\n",
            "Epoch 39/100\n",
            "8/8 [==============================] - 21s 3s/step - loss: 0.3108 - accuracy: 0.8576 - val_loss: 1.1400 - val_accuracy: 0.7070\n",
            "Epoch 40/100\n",
            "8/8 [==============================] - 21s 3s/step - loss: 0.2424 - accuracy: 0.9063 - val_loss: 1.6879 - val_accuracy: 0.6484\n",
            "Epoch 41/100\n",
            "8/8 [==============================] - 21s 3s/step - loss: 0.3297 - accuracy: 0.8566 - val_loss: 1.1107 - val_accuracy: 0.7227\n",
            "Epoch 42/100\n",
            "8/8 [==============================] - 23s 3s/step - loss: 0.2685 - accuracy: 0.8769 - val_loss: 1.8335 - val_accuracy: 0.6211\n",
            "Epoch 43/100\n",
            "8/8 [==============================] - 21s 3s/step - loss: 0.3815 - accuracy: 0.8331 - val_loss: 1.5984 - val_accuracy: 0.6641\n",
            "Epoch 44/100\n",
            "8/8 [==============================] - 21s 3s/step - loss: 0.2235 - accuracy: 0.9047 - val_loss: 1.3094 - val_accuracy: 0.7070\n",
            "Epoch 45/100\n",
            "8/8 [==============================] - 21s 3s/step - loss: 0.2402 - accuracy: 0.9048 - val_loss: 2.1159 - val_accuracy: 0.6328\n",
            "Epoch 46/100\n",
            "8/8 [==============================] - 21s 3s/step - loss: 0.2083 - accuracy: 0.9278 - val_loss: 1.6521 - val_accuracy: 0.6992\n",
            "Epoch 47/100\n",
            "8/8 [==============================] - 21s 3s/step - loss: 0.2564 - accuracy: 0.9006 - val_loss: 2.5790 - val_accuracy: 0.5938\n",
            "Epoch 48/100\n",
            "8/8 [==============================] - 21s 3s/step - loss: 0.2398 - accuracy: 0.8991 - val_loss: 1.6259 - val_accuracy: 0.6992\n",
            "Epoch 49/100\n",
            "8/8 [==============================] - 21s 3s/step - loss: 0.2491 - accuracy: 0.8981 - val_loss: 2.9054 - val_accuracy: 0.5977\n",
            "Epoch 50/100\n",
            "8/8 [==============================] - 21s 3s/step - loss: 0.2096 - accuracy: 0.9075 - val_loss: 2.4264 - val_accuracy: 0.6328\n",
            "Epoch 51/100\n",
            "8/8 [==============================] - 21s 3s/step - loss: 0.2712 - accuracy: 0.8722 - val_loss: 1.9126 - val_accuracy: 0.6602\n",
            "Epoch 52/100\n",
            "8/8 [==============================] - 21s 3s/step - loss: 0.1835 - accuracy: 0.9393 - val_loss: 1.5963 - val_accuracy: 0.7070\n",
            "Epoch 53/100\n",
            "8/8 [==============================] - 21s 3s/step - loss: 0.2019 - accuracy: 0.9151 - val_loss: 1.7677 - val_accuracy: 0.7031\n",
            "Epoch 54/100\n",
            "8/8 [==============================] - 21s 3s/step - loss: 0.1491 - accuracy: 0.9474 - val_loss: 4.0429 - val_accuracy: 0.5508\n",
            "Epoch 55/100\n",
            "8/8 [==============================] - 21s 3s/step - loss: 0.3171 - accuracy: 0.8631 - val_loss: 1.7412 - val_accuracy: 0.6953\n",
            "Epoch 56/100\n",
            "8/8 [==============================] - 21s 3s/step - loss: 0.2175 - accuracy: 0.9182 - val_loss: 1.2921 - val_accuracy: 0.7148\n",
            "Epoch 57/100\n",
            "8/8 [==============================] - 21s 3s/step - loss: 0.1902 - accuracy: 0.9303 - val_loss: 1.6254 - val_accuracy: 0.6953\n",
            "Epoch 58/100\n",
            "8/8 [==============================] - 21s 3s/step - loss: 0.1877 - accuracy: 0.9259 - val_loss: 1.6590 - val_accuracy: 0.7070\n",
            "Epoch 59/100\n",
            "8/8 [==============================] - 21s 3s/step - loss: 0.1488 - accuracy: 0.9454 - val_loss: 2.1249 - val_accuracy: 0.6719\n",
            "Epoch 60/100\n",
            "8/8 [==============================] - 21s 3s/step - loss: 0.2352 - accuracy: 0.8840 - val_loss: 1.8601 - val_accuracy: 0.6836\n",
            "Epoch 61/100\n",
            "8/8 [==============================] - 21s 3s/step - loss: 0.1580 - accuracy: 0.9486 - val_loss: 1.5930 - val_accuracy: 0.7305\n",
            "Epoch 62/100\n",
            "8/8 [==============================] - 21s 3s/step - loss: 0.2098 - accuracy: 0.9182 - val_loss: 1.4487 - val_accuracy: 0.7227\n",
            "Epoch 63/100\n",
            "8/8 [==============================] - 21s 3s/step - loss: 0.1983 - accuracy: 0.9187 - val_loss: 2.2791 - val_accuracy: 0.6641\n",
            "Epoch 64/100\n",
            "8/8 [==============================] - 21s 3s/step - loss: 0.1620 - accuracy: 0.9338 - val_loss: 1.3215 - val_accuracy: 0.7500\n",
            "Epoch 65/100\n",
            "8/8 [==============================] - 21s 3s/step - loss: 0.1850 - accuracy: 0.9193 - val_loss: 2.9677 - val_accuracy: 0.6172\n",
            "Epoch 66/100\n",
            "8/8 [==============================] - 21s 3s/step - loss: 0.1749 - accuracy: 0.9383 - val_loss: 3.3463 - val_accuracy: 0.5898\n",
            "Epoch 67/100\n",
            "8/8 [==============================] - 21s 3s/step - loss: 0.2056 - accuracy: 0.9157 - val_loss: 2.5514 - val_accuracy: 0.6602\n",
            "Epoch 68/100\n",
            "8/8 [==============================] - 21s 3s/step - loss: 0.1905 - accuracy: 0.9179 - val_loss: 2.6472 - val_accuracy: 0.6523\n",
            "Epoch 69/100\n",
            "8/8 [==============================] - 21s 3s/step - loss: 0.2739 - accuracy: 0.8767 - val_loss: 1.9575 - val_accuracy: 0.7031\n",
            "Epoch 70/100\n",
            "8/8 [==============================] - 21s 3s/step - loss: 0.1525 - accuracy: 0.9531 - val_loss: 2.0632 - val_accuracy: 0.7031\n",
            "Epoch 71/100\n",
            "8/8 [==============================] - 23s 3s/step - loss: 0.1477 - accuracy: 0.9403 - val_loss: 2.0848 - val_accuracy: 0.6875\n",
            "Epoch 72/100\n",
            "8/8 [==============================] - 21s 3s/step - loss: 0.1229 - accuracy: 0.9545 - val_loss: 2.6797 - val_accuracy: 0.6562\n",
            "Epoch 73/100\n",
            "8/8 [==============================] - 21s 3s/step - loss: 0.1844 - accuracy: 0.9306 - val_loss: 2.1426 - val_accuracy: 0.6992\n",
            "Epoch 74/100\n",
            "8/8 [==============================] - 21s 3s/step - loss: 0.1874 - accuracy: 0.9143 - val_loss: 2.2644 - val_accuracy: 0.6992\n",
            "Epoch 75/100\n",
            "8/8 [==============================] - 21s 3s/step - loss: 0.1536 - accuracy: 0.9299 - val_loss: 2.3780 - val_accuracy: 0.6992\n",
            "Epoch 76/100\n",
            "8/8 [==============================] - 21s 3s/step - loss: 0.1467 - accuracy: 0.9407 - val_loss: 2.1442 - val_accuracy: 0.7070\n",
            "Epoch 77/100\n",
            "8/8 [==============================] - 21s 3s/step - loss: 0.1193 - accuracy: 0.9610 - val_loss: 2.6510 - val_accuracy: 0.6680\n",
            "Epoch 78/100\n",
            "8/8 [==============================] - 21s 3s/step - loss: 0.2401 - accuracy: 0.8886 - val_loss: 1.7968 - val_accuracy: 0.6992\n",
            "Epoch 79/100\n",
            "8/8 [==============================] - 21s 3s/step - loss: 0.1400 - accuracy: 0.9477 - val_loss: 2.4928 - val_accuracy: 0.6602\n",
            "Epoch 80/100\n",
            "8/8 [==============================] - 21s 3s/step - loss: 0.1284 - accuracy: 0.9581 - val_loss: 4.7273 - val_accuracy: 0.5508\n",
            "Epoch 81/100\n",
            "8/8 [==============================] - 23s 3s/step - loss: 0.2508 - accuracy: 0.8864 - val_loss: 2.6846 - val_accuracy: 0.6602\n",
            "Epoch 82/100\n",
            "8/8 [==============================] - 21s 3s/step - loss: 0.1425 - accuracy: 0.9481 - val_loss: 2.5274 - val_accuracy: 0.6758\n",
            "Epoch 83/100\n",
            "8/8 [==============================] - 21s 3s/step - loss: 0.1705 - accuracy: 0.9243 - val_loss: 2.2566 - val_accuracy: 0.6836\n",
            "Epoch 84/100\n",
            "8/8 [==============================] - 21s 3s/step - loss: 0.1257 - accuracy: 0.9607 - val_loss: 4.8158 - val_accuracy: 0.5742\n",
            "Epoch 85/100\n",
            "8/8 [==============================] - 21s 3s/step - loss: 0.1871 - accuracy: 0.9217 - val_loss: 4.6698 - val_accuracy: 0.5664\n",
            "Epoch 86/100\n",
            "8/8 [==============================] - 21s 3s/step - loss: 0.2248 - accuracy: 0.9001 - val_loss: 2.6813 - val_accuracy: 0.6641\n",
            "Epoch 87/100\n",
            "8/8 [==============================] - 21s 3s/step - loss: 0.1363 - accuracy: 0.9477 - val_loss: 2.5473 - val_accuracy: 0.6758\n",
            "Epoch 88/100\n",
            "8/8 [==============================] - 21s 3s/step - loss: 0.1930 - accuracy: 0.9188 - val_loss: 2.7307 - val_accuracy: 0.6562\n",
            "Epoch 89/100\n",
            "8/8 [==============================] - 21s 3s/step - loss: 0.1191 - accuracy: 0.9598 - val_loss: 2.9972 - val_accuracy: 0.6523\n",
            "Epoch 90/100\n",
            "8/8 [==============================] - 21s 3s/step - loss: 0.1041 - accuracy: 0.9621 - val_loss: 2.0956 - val_accuracy: 0.7188\n",
            "Epoch 91/100\n",
            "8/8 [==============================] - 21s 3s/step - loss: 0.1722 - accuracy: 0.9236 - val_loss: 2.0582 - val_accuracy: 0.7148\n",
            "Epoch 92/100\n",
            "8/8 [==============================] - 21s 3s/step - loss: 0.1174 - accuracy: 0.9522 - val_loss: 1.4569 - val_accuracy: 0.7812\n",
            "Epoch 93/100\n",
            "8/8 [==============================] - 21s 3s/step - loss: 0.2032 - accuracy: 0.9181 - val_loss: 2.2159 - val_accuracy: 0.7031\n",
            "Epoch 94/100\n",
            "8/8 [==============================] - 21s 3s/step - loss: 0.1266 - accuracy: 0.9471 - val_loss: 3.0428 - val_accuracy: 0.6602\n",
            "Epoch 95/100\n",
            "8/8 [==============================] - 21s 3s/step - loss: 0.1203 - accuracy: 0.9507 - val_loss: 2.6758 - val_accuracy: 0.6641\n",
            "Epoch 96/100\n",
            "8/8 [==============================] - 21s 3s/step - loss: 0.1111 - accuracy: 0.9562 - val_loss: 3.5377 - val_accuracy: 0.6445\n",
            "Epoch 97/100\n",
            "8/8 [==============================] - 21s 3s/step - loss: 0.1684 - accuracy: 0.9395 - val_loss: 2.2970 - val_accuracy: 0.6992\n",
            "Epoch 98/100\n",
            "8/8 [==============================] - 21s 3s/step - loss: 0.1251 - accuracy: 0.9530 - val_loss: 2.5181 - val_accuracy: 0.6914\n",
            "Epoch 99/100\n",
            "8/8 [==============================] - 21s 3s/step - loss: 0.1160 - accuracy: 0.9566 - val_loss: 1.7010 - val_accuracy: 0.7383\n",
            "Epoch 100/100\n",
            "8/8 [==============================] - 21s 3s/step - loss: 0.2644 - accuracy: 0.8813 - val_loss: 2.1709 - val_accuracy: 0.7109\n"
          ],
          "name": "stdout"
        }
      ]
    },
    {
      "cell_type": "code",
      "metadata": {
        "colab": {
          "base_uri": "https://localhost:8080/",
          "height": 545
        },
        "id": "7zNPRWOVJdOH",
        "outputId": "25700e09-7bc5-4ea7-cf34-7ef9cccff36a"
      },
      "source": [
        "import matplotlib.pyplot as plt\n",
        "acc = history.history['accuracy']\n",
        "val_acc = history.history['val_accuracy']\n",
        "loss = history.history['loss']\n",
        "val_loss = history.history['val_loss']\n",
        "\n",
        "epochs = range(len(acc))\n",
        "\n",
        "plt.plot(epochs, acc, 'r', label='Training accuracy')\n",
        "plt.plot(epochs, val_acc, 'b', label='Validation accuracy')\n",
        "plt.title('Training and validation accuracy')\n",
        "\n",
        "plt.figure()\n",
        "\n",
        "plt.plot(epochs, loss, 'r', label='Training Loss')\n",
        "plt.plot(epochs, val_loss, 'b', label='Validation Loss')\n",
        "plt.title('Training and validation loss')\n",
        "plt.legend()\n",
        "\n",
        "plt.show()"
      ],
      "execution_count": 7,
      "outputs": [
        {
          "output_type": "display_data",
          "data": {
            "image/png": "[encoded data removed]",
            "text/plain": [
              "<Figure size 432x288 with 1 Axes>"
            ]
          },
          "metadata": {
            "tags": [],
            "needs_background": "light"
          }
        },
        {
          "output_type": "display_data",
          "data": {
            "image/png": "[encoded data removed]",
            "text/plain": [
              "<Figure size 432x288 with 1 Axes>"
            ]
          },
          "metadata": {
            "tags": [],
            "needs_background": "light"
          }
        }
      ]
    }
  ]
}