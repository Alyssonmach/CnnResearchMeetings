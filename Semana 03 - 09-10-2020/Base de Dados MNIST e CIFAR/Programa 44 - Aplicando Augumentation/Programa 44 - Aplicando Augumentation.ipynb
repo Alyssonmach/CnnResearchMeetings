{
 "cells": [
  {
   "cell_type": "markdown",
   "metadata": {
    "colab_type": "text",
    "id": "MBHiOdtHeUmn"
   },
   "source": [
    "# Aplicando Augumentation\n",
    "#### Aplicando a Augumentation na base de dados de dígitos escrito a mão."
   ]
  },
  {
   "cell_type": "markdown",
   "metadata": {
    "colab_type": "text",
    "id": "cVydnI2veUmr"
   },
   "source": [
    "### Importação das Bases de Dados"
   ]
  },
  {
   "cell_type": "code",
   "execution_count": 30,
   "metadata": {
    "colab": {},
    "colab_type": "code",
    "id": "FMS3Y5Q7eUmt"
   },
   "outputs": [],
   "source": [
    "# importando da biblioteca keras do python\n",
    "from keras.datasets import mnist\n",
    "from keras.models import Sequential\n",
    "from keras.layers import Dense, Flatten, Conv2D, MaxPooling2D\n",
    "from keras.utils import np_utils\n",
    "from keras.preprocessing.image import ImageDataGenerator"
   ]
  },
  {
   "cell_type": "markdown",
   "metadata": {
    "colab_type": "text",
    "id": "Ej1q9Qm-eUnH"
   },
   "source": [
    "### Carregamento da Base de Dados"
   ]
  },
  {
   "cell_type": "code",
   "execution_count": 31,
   "metadata": {
    "colab": {},
    "colab_type": "code",
    "id": "JFVev2RteUnJ"
   },
   "outputs": [],
   "source": [
    "# separando os atributos previsores dos atributos meta e definindo uma \n",
    "# base de dados de treinamento e outra de teste\n",
    "(X, y), (X_teste, y_teste) = mnist.load_data()"
   ]
  },
  {
   "cell_type": "markdown",
   "metadata": {
    "colab_type": "text",
    "id": "NzIwF8JseUnS"
   },
   "source": [
    "### Pré-processamento dos Dados"
   ]
  },
  {
   "cell_type": "code",
   "execution_count": 32,
   "metadata": {
    "colab": {
     "base_uri": "https://localhost:8080/",
     "height": 34
    },
    "colab_type": "code",
    "id": "geNirW5xeUnT",
    "outputId": "6090ad6c-03fe-43f6-ab8b-92fdc951489b"
   },
   "outputs": [
    {
     "name": "stdout",
     "output_type": "stream",
     "text": [
      "(60000, 28, 28)\n"
     ]
    }
   ],
   "source": [
    "# visualizando a dimensão dos atributos previsores\n",
    "print(X.shape)"
   ]
  },
  {
   "cell_type": "code",
   "execution_count": 33,
   "metadata": {
    "colab": {},
    "colab_type": "code",
    "id": "NcrRJ6OWeUnd"
   },
   "outputs": [],
   "source": [
    "# organizando a imagem com somente uma camada, dado que as cores\n",
    "# não influenciarão no treinamento da rede neural\n",
    "previsores_treinamento = X.reshape(X.shape[0], 28, 28, 1)\n",
    "previsores_teste = X_teste.reshape(X_teste.shape[0], 28, 28, 1)\n",
    "\n",
    "# definindo os tipos de dados da matriz como um número flutuante\n",
    "# de 32 bits\n",
    "previsores_treinamento = previsores_treinamento.astype('float32')\n",
    "previsores_teste = previsores_teste.astype('float32')\n",
    "\n",
    "# normalizando a base de dados para melhor processamento\n",
    "previsores_treinamento /= 255\n",
    "previsores_teste /= 255\n",
    "\n",
    "# definindo os atributos meta como variáveis do tipo meta\n",
    "classe_treinamento = np_utils.to_categorical(y, 10)\n",
    "classe_teste = np_utils.to_categorical(y_teste, 10)\n",
    "# como existem 10 dígitos diferentes, criamos uma variável\n",
    "# com 10 casas numéricas"
   ]
  },
  {
   "cell_type": "markdown",
   "metadata": {
    "colab_type": "text",
    "id": "vmCm5zmyeUno"
   },
   "source": [
    "### Validação Cruzada na Base de Dados"
   ]
  },
  {
   "cell_type": "code",
   "execution_count": 34,
   "metadata": {
    "colab": {},
    "colab_type": "code",
    "id": "Z-aB_oRIeUnq"
   },
   "outputs": [],
   "source": [
    "# configurando o objeto para realizar a validação cruzada\n",
    "kfold = StratifiedKFold(n_splits = 5, shuffle = True, \n",
    "                       random_state = seed)\n",
    "\n",
    "# criando uma lista vazia para armazenar os valores da \n",
    "# validação cruzada\n",
    "resultados = []"
   ]
  },
  {
   "cell_type": "markdown",
   "metadata": {
    "colab_type": "text",
    "id": "vt4-rwyaeUn1"
   },
   "source": [
    "### Estruturando a Rede Neural"
   ]
  },
  {
   "cell_type": "code",
   "execution_count": 35,
   "metadata": {
    "colab": {},
    "colab_type": "code",
    "id": "0XP0m_UoeUn3"
   },
   "outputs": [],
   "source": [
    "# criando o objeto classificador\n",
    "classificador = Sequential()\n",
    "# adicionando a primeira camada de convolução\n",
    "classificador.add(Conv2D(32, (3, 3), input_shape = (28, 28, 1), activation = 'relu'))\n",
    "# adicionando a camada de pooling\n",
    "classificador.add(MaxPooling2D(pool_size = (2, 2)))\n",
    "# adicionando a camada de Flatten\n",
    "classificador.add(Flatten())\n",
    "# adicionando uma camada oculta na rede neural\n",
    "classificador.add(Dense(units = 128, activation = 'relu'))\n",
    "# adicionando uma camada de saída a rede neural\n",
    "classificador.add(Dense(units = 10, activation = 'softmax'))\n",
    "    \n",
    "# definindo mais alguns parâmetros da rede neural\n",
    "classificador.compile(loss = 'categorical_crossentropy', optimizer = 'adam', metrics = ['accuracy'])"
   ]
  },
  {
   "cell_type": "code",
   "execution_count": 36,
   "metadata": {
    "colab": {},
    "colab_type": "code",
    "id": "5_ohcE5enNwV"
   },
   "outputs": [],
   "source": [
    "# configurando o data agumentation nas imagens\n",
    "gerador_treinamento = ImageDataGenerator(rotation_range = 7, horizontal_flip = True,\n",
    "                                         shear_range = 0.2, height_shift_range = 0.07,\n",
    "                                         zoom_range = 0.2)\n",
    "gerador_teste = ImageDataGenerator()"
   ]
  },
  {
   "cell_type": "code",
   "execution_count": 37,
   "metadata": {
    "colab": {},
    "colab_type": "code",
    "id": "2Wkcjtsqn6zs"
   },
   "outputs": [],
   "source": [
    "# aplicando o data agumentation nas imagens\n",
    "base_treinamento = gerador_treinamento.flow(previsores_treinamento, classe_treinamento,\n",
    "                                            batch_size = 128)\n",
    "base_teste = gerador_teste.flow(previsores_teste, classe_teste,\n",
    "                                            batch_size = 128)"
   ]
  },
  {
   "cell_type": "markdown",
   "metadata": {
    "colab_type": "text",
    "id": "Ajefhho3onLZ"
   },
   "source": [
    "### Treinando a Rede Neural"
   ]
  },
  {
   "cell_type": "code",
   "execution_count": 38,
   "metadata": {
    "colab": {
     "base_uri": "https://localhost:8080/",
     "height": 275
    },
    "colab_type": "code",
    "id": "LWfJBGNsohqG",
    "outputId": "8d833ab2-479f-41e0-ebda-d60a788c5c1a"
   },
   "outputs": [
    {
     "name": "stdout",
     "output_type": "stream",
     "text": [
      "WARNING:tensorflow:From <ipython-input-38-8cc906c210fb>:4: Model.fit_generator (from tensorflow.python.keras.engine.training) is deprecated and will be removed in a future version.\n",
      "Instructions for updating:\n",
      "Please use Model.fit, which supports generators.\n",
      "Epoch 1/5\n",
      "469/468 [==============================] - 39s 83ms/step - loss: 0.5235 - accuracy: 0.8343 - val_loss: 0.1699 - val_accuracy: 0.9460\n",
      "Epoch 2/5\n",
      "469/468 [==============================] - 39s 82ms/step - loss: 0.2229 - accuracy: 0.9314 - val_loss: 0.1103 - val_accuracy: 0.9660\n",
      "Epoch 3/5\n",
      "469/468 [==============================] - 38s 81ms/step - loss: 0.1695 - accuracy: 0.9480 - val_loss: 0.0876 - val_accuracy: 0.9729\n",
      "Epoch 4/5\n",
      "469/468 [==============================] - 38s 81ms/step - loss: 0.1389 - accuracy: 0.9570 - val_loss: 0.0729 - val_accuracy: 0.9760\n",
      "Epoch 5/5\n",
      "469/468 [==============================] - 38s 81ms/step - loss: 0.1186 - accuracy: 0.9636 - val_loss: 0.0687 - val_accuracy: 0.9776\n"
     ]
    },
    {
     "data": {
      "text/plain": [
       "<tensorflow.python.keras.callbacks.History at 0x7f5a92dbe4e0>"
      ]
     },
     "execution_count": 38,
     "metadata": {
      "tags": []
     },
     "output_type": "execute_result"
    }
   ],
   "source": [
    "# realizando o treinamento na rede neural\n",
    "classificador.fit_generator(base_treinamento, steps_per_epoch = 60000 / 128,\n",
    "                            epochs = 5, validation_data = base_teste,\n",
    "                            validation_steps = 10000 / 128)"
   ]
  }
 ],
 "metadata": {
  "accelerator": "TPU",
  "colab": {
   "name": "Programa 44 - Aplicando Augumentation.ipynb",
   "provenance": []
  },
  "kernelspec": {
   "display_name": "Python 3",
   "language": "python",
   "name": "python3"
  },
  "language_info": {
   "codemirror_mode": {
    "name": "ipython",
    "version": 3
   },
   "file_extension": ".py",
   "mimetype": "text/x-python",
   "name": "python",
   "nbconvert_exporter": "python",
   "pygments_lexer": "ipython3",
   "version": "3.7.4"
  }
 },
 "nbformat": 4,
 "nbformat_minor": 4
}
