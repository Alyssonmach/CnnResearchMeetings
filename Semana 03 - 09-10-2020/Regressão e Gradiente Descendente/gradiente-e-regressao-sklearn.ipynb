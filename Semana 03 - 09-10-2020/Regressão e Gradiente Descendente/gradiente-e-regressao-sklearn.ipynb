{
 "cells": [
  {
   "cell_type": "markdown",
   "metadata": {},
   "source": [
    "# Regressão Linear Python\n",
    "#### Aplicando o algoritmo de regressão linear em uma base de dados de plano de saúde."
   ]
  },
  {
   "cell_type": "markdown",
   "metadata": {},
   "source": [
    "![regressao-linear-exemplo](Imagens/regressao-linear-exemplo.png)"
   ]
  },
  {
   "cell_type": "markdown",
   "metadata": {},
   "source": [
    "### Pré-processamento de dados"
   ]
  },
  {
   "cell_type": "code",
   "execution_count": 1,
   "metadata": {},
   "outputs": [],
   "source": [
    "# importando a biblioteca pandas do python\n",
    "import pandas as pd"
   ]
  },
  {
   "cell_type": "code",
   "execution_count": 2,
   "metadata": {},
   "outputs": [],
   "source": [
    "# importando a base de dados no objeto 'dataframe'\n",
    "dataframe = pd.read_csv('plano_saude.csv', encoding = 'utf-8', sep = ',')"
   ]
  },
  {
   "cell_type": "code",
   "execution_count": 4,
   "metadata": {},
   "outputs": [
    {
     "name": "stdout",
     "output_type": "stream",
     "text": [
      "   idade  custo\n",
      "0     18    871\n",
      "1     23   1132\n",
      "2     28   1242\n",
      "3     33   1356\n",
      "4     38   1488\n",
      "5     43   1638\n",
      "6     48   2130\n",
      "7     53   2454\n",
      "8     58   3066\n",
      "9     63   4090\n"
     ]
    }
   ],
   "source": [
    "# visualizando os dados\n",
    "print(dataframe)"
   ]
  },
  {
   "cell_type": "code",
   "execution_count": 5,
   "metadata": {},
   "outputs": [
    {
     "name": "stdout",
     "output_type": "stream",
     "text": [
      "(10, 2)\n"
     ]
    }
   ],
   "source": [
    "# visualizanod as dimensões dos dados\n",
    "print(dataframe.shape)"
   ]
  },
  {
   "cell_type": "markdown",
   "metadata": {},
   "source": [
    "> A base de dados relaciona a idade do usuário com o preço a ser pago no plano de saúde."
   ]
  },
  {
   "cell_type": "code",
   "execution_count": 37,
   "metadata": {},
   "outputs": [],
   "source": [
    "# separando as variáveis x e y da base de dados\n",
    "x = dataframe.iloc[:, 0].values\n",
    "y = dataframe.iloc[:, 1].values"
   ]
  },
  {
   "cell_type": "code",
   "execution_count": 8,
   "metadata": {},
   "outputs": [
    {
     "name": "stdout",
     "output_type": "stream",
     "text": [
      "[18 23 28 33 38 43 48 53 58 63]\n",
      "[ 871 1132 1242 1356 1488 1638 2130 2454 3066 4090]\n"
     ]
    }
   ],
   "source": [
    "# visualizando as variáveis\n",
    "print(x)\n",
    "print(y)"
   ]
  },
  {
   "cell_type": "markdown",
   "metadata": {},
   "source": [
    "Observe que elas estão armazenadas em um array do tipo linha. Para conseguirmos usar o algoritmo, devemos ter arrays do tipo coluna representando as variáveis **x**."
   ]
  },
  {
   "cell_type": "code",
   "execution_count": 43,
   "metadata": {},
   "outputs": [],
   "source": [
    "# transformando em um array do tipo coluna\n",
    "x = x.reshape(-1, 1)"
   ]
  },
  {
   "cell_type": "code",
   "execution_count": 10,
   "metadata": {},
   "outputs": [
    {
     "name": "stdout",
     "output_type": "stream",
     "text": [
      "[[18]\n",
      " [23]\n",
      " [28]\n",
      " [33]\n",
      " [38]\n",
      " [43]\n",
      " [48]\n",
      " [53]\n",
      " [58]\n",
      " [63]]\n"
     ]
    }
   ],
   "source": [
    "# visualizando a variável x\n",
    "print(x)"
   ]
  },
  {
   "cell_type": "markdown",
   "metadata": {},
   "source": [
    "### Algoritmo Regressão Linear"
   ]
  },
  {
   "cell_type": "code",
   "execution_count": 11,
   "metadata": {},
   "outputs": [],
   "source": [
    "# importando a biblioteca numpy do python\n",
    "import numpy as np"
   ]
  },
  {
   "cell_type": "code",
   "execution_count": 16,
   "metadata": {},
   "outputs": [
    {
     "name": "stdout",
     "output_type": "stream",
     "text": [
      "[[1.         0.93091958]\n",
      " [0.93091958 1.        ]]\n"
     ]
    }
   ],
   "source": [
    "# visualizando a correlação dos dados\n",
    "correlacao = np.corrcoef(x,y)\n",
    "print(correlacao)"
   ]
  },
  {
   "cell_type": "markdown",
   "metadata": {},
   "source": [
    "Observe que a correlação indica o quão linear estão destribuidos os dados. Nesse exemplo, obtivemos uma correlação de **93.09%**, indicando que o algoritmo de regressão linear terá bons resultados com essa base de dados."
   ]
  },
  {
   "cell_type": "code",
   "execution_count": 20,
   "metadata": {},
   "outputs": [],
   "source": [
    "# importando a biblioteca sklearn do python\n",
    "from sklearn.linear_model import LinearRegression\n",
    "# 'LinearRegression' é responsável por aplicar o algoritmo de regressão linear"
   ]
  },
  {
   "cell_type": "code",
   "execution_count": 23,
   "metadata": {},
   "outputs": [],
   "source": [
    "# criando o regressor 'regressao'\n",
    "regressao = LinearRegression()"
   ]
  },
  {
   "cell_type": "code",
   "execution_count": 24,
   "metadata": {},
   "outputs": [
    {
     "data": {
      "text/plain": [
       "LinearRegression(copy_X=True, fit_intercept=True, n_jobs=None, normalize=False)"
      ]
     },
     "execution_count": 24,
     "metadata": {},
     "output_type": "execute_result"
    }
   ],
   "source": [
    "# visualizando o classificador\n",
    "regressao"
   ]
  },
  {
   "cell_type": "code",
   "execution_count": 25,
   "metadata": {},
   "outputs": [
    {
     "data": {
      "text/plain": [
       "LinearRegression(copy_X=True, fit_intercept=True, n_jobs=None, normalize=False)"
      ]
     },
     "execution_count": 25,
     "metadata": {},
     "output_type": "execute_result"
    }
   ],
   "source": [
    "#realizando o treinamento com as variáveis x e y\n",
    "regressao.fit(x, y)"
   ]
  },
  {
   "cell_type": "code",
   "execution_count": 26,
   "metadata": {},
   "outputs": [
    {
     "data": {
      "text/plain": [
       "array([61.86787879])"
      ]
     },
     "execution_count": 26,
     "metadata": {},
     "output_type": "execute_result"
    }
   ],
   "source": [
    "# visualizando o valor da constante b1\n",
    "regressao.coef_"
   ]
  },
  {
   "cell_type": "code",
   "execution_count": 27,
   "metadata": {},
   "outputs": [
    {
     "data": {
      "text/plain": [
       "-558.9490909090912"
      ]
     },
     "execution_count": 27,
     "metadata": {},
     "output_type": "execute_result"
    }
   ],
   "source": [
    "# visualizando o valor do coeficiente b0\n",
    "regressao.intercept_"
   ]
  },
  {
   "cell_type": "markdown",
   "metadata": {},
   "source": [
    "### Visualizando o Gráfico"
   ]
  },
  {
   "cell_type": "markdown",
   "metadata": {},
   "source": [
    "A melhor forma de se visualizar um algoritmo de regressão linear é através de gráficos. Abaixo, é possível visualizar o gráfico para o exemplo feito acima."
   ]
  },
  {
   "cell_type": "code",
   "execution_count": 41,
   "metadata": {},
   "outputs": [],
   "source": [
    "# importando a biblioteca matplotlib do python\n",
    "import matplotlib.pyplot as plt\n",
    "%matplotlib inline"
   ]
  },
  {
   "cell_type": "code",
   "execution_count": 45,
   "metadata": {},
   "outputs": [
    {
     "data": {
      "image/png": "[encoded data removed]",
      "text/plain": [
       "<Figure size 1440x720 with 1 Axes>"
      ]
     },
     "metadata": {
      "needs_background": "light"
     },
     "output_type": "display_data"
    }
   ],
   "source": [
    "# definindo a dimensão do gráfico\n",
    "plt.figure(figsize = (20,10))\n",
    "\n",
    "# plotando os dados x e y no gráfico\n",
    "plt.scatter(x, y, color = 'red', label = 'Dados')\n",
    "\n",
    "# plotando a reta obtida pelo algoritmo\n",
    "plt.plot(x, regressao.predict(x), color = 'green', label = 'Resultado da Regressão Linear')\n",
    "\n",
    "# colocando um título no gráfico\n",
    "plt.title('Regressão Linear Simples')\n",
    "\n",
    "# colocando um título no eixo x\n",
    "plt.xlabel('Idade')\n",
    "\n",
    "# colocando um título no eixo y\n",
    "plt.ylabel('Custo')\n",
    "\n",
    "# colocando a legenda no gráfico\n",
    "plt.legend()\n",
    "\n",
    "# colocando uma grade ao gráfico\n",
    "plt.grid(True)\n",
    "\n",
    "# removendo a moldura do gráfico\n",
    "plt.box(False)"
   ]
  },
  {
   "cell_type": "markdown",
   "metadata": {},
   "source": [
    "### Predição"
   ]
  },
  {
   "cell_type": "markdown",
   "metadata": {},
   "source": [
    "Vamos realizar a predição para uma pessoa de 40 anos."
   ]
  },
  {
   "cell_type": "code",
   "execution_count": 52,
   "metadata": {},
   "outputs": [
    {
     "name": "stdout",
     "output_type": "stream",
     "text": [
      "[1915.76606061]\n"
     ]
    }
   ],
   "source": [
    "# realizando a predição do algoritmo\n",
    "previsao = regressao.predict([[40]])\n",
    "# imprimindo na saída de dados a previsão do algoritmo para uma pessoa de 40 anos de idade\n",
    "print(previsao)"
   ]
  },
  {
   "cell_type": "markdown",
   "metadata": {},
   "source": [
    "Além disso, sabendo do modelo matemático do algoritmo (equação da reta), podemos realizar a predição da seguinte forma:"
   ]
  },
  {
   "cell_type": "code",
   "execution_count": 53,
   "metadata": {},
   "outputs": [
    {
     "name": "stdout",
     "output_type": "stream",
     "text": [
      "[1915.76606061]\n"
     ]
    }
   ],
   "source": [
    "# construindo a equação da reta para prever o valor de y\n",
    "print(regressao.intercept_ + regressao.coef_ * 40)"
   ]
  },
  {
   "cell_type": "markdown",
   "metadata": {},
   "source": [
    "### Visualizando graficamente o erro do algoritmo"
   ]
  },
  {
   "cell_type": "code",
   "execution_count": 55,
   "metadata": {},
   "outputs": [],
   "source": [
    "# importando a biblioteca yellowbrick do python\n",
    "from yellowbrick.regressor import ResidualsPlot"
   ]
  },
  {
   "cell_type": "code",
   "execution_count": 59,
   "metadata": {},
   "outputs": [
    {
     "data": {
      "image/png": "[encoded data removed]",
      "text/plain": [
       "<Figure size 576x396 with 2 Axes>"
      ]
     },
     "metadata": {},
     "output_type": "display_data"
    },
    {
     "data": {
      "text/plain": [
       "<matplotlib.axes._subplots.AxesSubplot at 0x251ac235ec8>"
      ]
     },
     "execution_count": 59,
     "metadata": {},
     "output_type": "execute_result"
    }
   ],
   "source": [
    "# configurando o objeto 'visualizador'\n",
    "visualizador  = ResidualsPlot(regressao)\n",
    "# passando as variaveis x e y para o 'visualizador'\n",
    "visualizador.fit(x, y)\n",
    "# obtendo a porcentagem de adaptação dos dados em relação ao modelo feito\n",
    "visualizador.poof()"
   ]
  },
  {
   "cell_type": "markdown",
   "metadata": {},
   "source": [
    "Observe que quanto mais distante um dado estiver da reta, a previsão a ser feita que esteja na vizinhança desse dado tende a ser menos precisa, e quanto mais próximo um dado estiver da reta, a previsão que esteja na vizinhança desse dado tende a ser mais precisa."
   ]
  },
  {
   "cell_type": "markdown",
   "metadata": {},
   "source": [
    "A porcentagem de adaptação em relação ao modelo feito foi de 86.7%."
   ]
  },
  {
   "cell_type": "code",
   "execution_count": 61,
   "metadata": {},
   "outputs": [
    {
     "name": "stdout",
     "output_type": "stream",
     "text": [
      "0.8666112727879174\n"
     ]
    }
   ],
   "source": [
    "# obtendo a porcentagem de adaptação dos dados em relação ao modelo feito\n",
    "score = regressao.score(x, y)\n",
    "#visualizando a porcentagem obtida na saída de dados\n",
    "print(score)"
   ]
  }
 ],
 "metadata": {
  "kernelspec": {
   "display_name": "Python 3",
   "language": "python",
   "name": "python3"
  },
  "language_info": {
   "codemirror_mode": {
    "name": "ipython",
    "version": 3
   },
   "file_extension": ".py",
   "mimetype": "text/x-python",
   "name": "python",
   "nbconvert_exporter": "python",
   "pygments_lexer": "ipython3",
   "version": "3.7.4"
  }
 },
 "nbformat": 4,
 "nbformat_minor": 4
}
