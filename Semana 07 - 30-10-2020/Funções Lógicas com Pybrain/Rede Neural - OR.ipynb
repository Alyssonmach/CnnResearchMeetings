{
 "cells": [
  {
   "cell_type": "markdown",
   "metadata": {},
   "source": [
    "## Implementando uma Função Lógica OR com Redes Neurais"
   ]
  },
  {
   "cell_type": "markdown",
   "metadata": {},
   "source": [
    "#### Criando uma rede neural via pybrain para a estrutura de condição lógica OR."
   ]
  },
  {
   "cell_type": "markdown",
   "metadata": {},
   "source": [
    "![porta-and](Imagens/or.png)"
   ]
  },
  {
   "cell_type": "code",
   "execution_count": 1,
   "metadata": {},
   "outputs": [],
   "source": [
    "# importando as funções da biblioteca pybrain do python\n",
    "from pybrain.tools.shortcuts import buildNetwork\n",
    "from pybrain.datasets import SupervisedDataSet\n",
    "from pybrain.supervised.trainers import BackpropTrainer\n",
    "from pybrain.structure.modules import SigmoidLayer\n",
    "from pybrain.structure.modules import LinearLayer"
   ]
  },
  {
   "cell_type": "code",
   "execution_count": 2,
   "metadata": {},
   "outputs": [],
   "source": [
    "# definindo uma rede neural com 2 neurônios na camada de entrada, 3 na camada oculta e 1 na camada de saída\n",
    "# usando o melhoramento 'LinearLayer' na função de ativação das camadas ocultas\n",
    "# usando o melhoramento 'SigmoidLayer' na função de ativação da camada de saída\n",
    "rede = buildNetwork(2, 3, 1, hiddenclass = LinearLayer, outclass = SigmoidLayer)"
   ]
  },
  {
   "cell_type": "code",
   "execution_count": 3,
   "metadata": {},
   "outputs": [],
   "source": [
    "# definindo uma base de dados com 2 entradas nos atributos previsores e 1 saída no atributo meta\n",
    "base = SupervisedDataSet(2, 1)"
   ]
  },
  {
   "cell_type": "code",
   "execution_count": 4,
   "metadata": {},
   "outputs": [],
   "source": [
    "# adicionando o primeiro dado para o treinamento da base de dados\n",
    "base.addSample((0,0), (0, ))\n",
    "# adicionando o segundo dado para o treinamento da base de dados\n",
    "base.addSample((0,1), (1, ))\n",
    "# adicionando o terceiro dado para o treinamento da base de dados\n",
    "base.addSample((1,0), (1, ))\n",
    "# adicionando o quarto dado para o treinamento da base de dados\n",
    "base.addSample((1,1), (1, ))\n",
    "# observe que os dados obedecem ao estilo da estrutura de condição lógica OR"
   ]
  },
  {
   "cell_type": "code",
   "execution_count": 5,
   "metadata": {},
   "outputs": [
    {
     "name": "stdout",
     "output_type": "stream",
     "text": [
      "[[0. 0.]\n",
      " [0. 1.]\n",
      " [1. 0.]\n",
      " [1. 1.]]\n"
     ]
    }
   ],
   "source": [
    "# visualizando os atributos previsores da base de treinamento\n",
    "print(base['input'])"
   ]
  },
  {
   "cell_type": "code",
   "execution_count": 6,
   "metadata": {},
   "outputs": [
    {
     "name": "stdout",
     "output_type": "stream",
     "text": [
      "[[0.]\n",
      " [1.]\n",
      " [1.]\n",
      " [1.]]\n"
     ]
    }
   ],
   "source": [
    "# visualizando os atributos meta da base de treinamento\n",
    "print(base['target'])"
   ]
  },
  {
   "cell_type": "code",
   "execution_count": 7,
   "metadata": {},
   "outputs": [],
   "source": [
    "# definindo o objeto de treinamento para a base de dados criada\n",
    "# a taxa de aprendizagem será de 0.01\n",
    "# o momentum será de 0.06\n",
    "treinamento = BackpropTrainer(rede, dataset = base, learningrate = 0.01)"
   ]
  },
  {
   "cell_type": "code",
   "execution_count": 8,
   "metadata": {},
   "outputs": [],
   "source": [
    "# criando uma lista para plotar um gráfico para a taxa de erro do algoritmo\n",
    "eixoX = list()\n",
    "eixoY = list()"
   ]
  },
  {
   "cell_type": "code",
   "execution_count": 9,
   "metadata": {},
   "outputs": [
    {
     "name": "stdout",
     "output_type": "stream",
     "text": [
      "Erro: 0.03960586471162189\n",
      "Erro: 0.009838339239652584\n",
      "Erro: 0.0038868919695414315\n",
      "Erro: 0.002150511984128292\n"
     ]
    }
   ],
   "source": [
    "# estrutura de repetição para realizar o treinamento da rede neural 30000 vezes\n",
    "for indice in range(1, 5000):\n",
    "    # fazendo o treinamento com a base de dados criada\n",
    "    erro = treinamento.train()\n",
    "    eixoX.append(indice - 1)\n",
    "    eixoY.append(erro)\n",
    "    # mostra a taxa de erro a cada 1000 repetições\n",
    "    if indice % 1000 == 0:\n",
    "        print('Erro: {}'.format(erro))"
   ]
  },
  {
   "cell_type": "code",
   "execution_count": 10,
   "metadata": {},
   "outputs": [
    {
     "name": "stdout",
     "output_type": "stream",
     "text": [
      "[0.07891095]\n",
      "[0.9514893]\n",
      "[0.94776289]\n",
      "[0.99975932]\n"
     ]
    }
   ],
   "source": [
    "# visualizando a capacidade de predição do algoritmo\n",
    "print(rede.activate([0, 0])) # saída esperada: próximo de 0\n",
    "print(rede.activate([1, 0])) # saída esperada: próximo de 1\n",
    "print(rede.activate([0, 1])) # saída esperada: próximo de 1\n",
    "print(rede.activate([1, 1])) # saída esperada: próximo de 0"
   ]
  },
  {
   "cell_type": "code",
   "execution_count": 11,
   "metadata": {},
   "outputs": [],
   "source": [
    "# importando a biblioteca de funções matplotlib do Python\n",
    "import matplotlib.pyplot as plt"
   ]
  },
  {
   "cell_type": "code",
   "execution_count": 12,
   "metadata": {},
   "outputs": [
    {
     "data": {
      "text/plain": [
       "Text(0, 0.5, 'Erro')"
      ]
     },
     "execution_count": 12,
     "metadata": {},
     "output_type": "execute_result"
    },
    {
     "data": {
      "image/png": "[encoded data removed]",
      "text/plain": [
       "<Figure size 720x360 with 1 Axes>"
      ]
     },
     "metadata": {
      "needs_background": "light"
     },
     "output_type": "display_data"
    }
   ],
   "source": [
    "# definindo as dimensões do gráfico\n",
    "plt.figure(figsize = (10,5))\n",
    "# plotando o gráfico da taxa de erro durante cada treinamento\n",
    "plt.plot(eixoX, eixoY, color = \"Red\", label = \"Gráfico da taxa de erro após cada etapa do treinamento\")\n",
    "# plotando o título do gráfico\n",
    "plt.title(\"Taxa de Erro do algoritmo\")\n",
    "# adicionando uma grade ao gráfico\n",
    "plt.grid(True)\n",
    "# removendo a moldura do gráfico\n",
    "plt.box(False)\n",
    "# adicionando as legendas do gráfico\n",
    "plt.legend()\n",
    "# adicionando uma legenda ao eixo x\n",
    "plt.xlabel(\"Treinamento\")\n",
    "# adicionando uma legenda ao eixo y\n",
    "plt.ylabel(\"Erro\")"
   ]
  }
 ],
 "metadata": {
  "kernelspec": {
   "display_name": "Python 3",
   "language": "python",
   "name": "python3"
  },
  "language_info": {
   "codemirror_mode": {
    "name": "ipython",
    "version": 3
   },
   "file_extension": ".py",
   "mimetype": "text/x-python",
   "name": "python",
   "nbconvert_exporter": "python",
   "pygments_lexer": "ipython3",
   "version": "3.7.4"
  }
 },
 "nbformat": 4,
 "nbformat_minor": 4
}
