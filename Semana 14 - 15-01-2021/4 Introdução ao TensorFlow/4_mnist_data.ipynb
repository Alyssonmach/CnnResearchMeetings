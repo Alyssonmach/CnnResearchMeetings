{
  "nbformat": 4,
  "nbformat_minor": 0,
  "metadata": {
    "colab": {
      "name": "mnist data.ipynb",
      "provenance": []
    },
    "kernelspec": {
      "name": "python3",
      "display_name": "Python 3"
    }
  },
  "cells": [
    {
      "cell_type": "markdown",
      "metadata": {
        "id": "Be00wGrKdYv8"
      },
      "source": [
        "# Coding a Computer Vision Neural Network"
      ]
    },
    {
      "cell_type": "markdown",
      "metadata": {
        "id": "qD1YKEIPdaa4"
      },
      "source": [
        "## Model Handwriting Recognition"
      ]
    },
    {
      "cell_type": "code",
      "metadata": {
        "id": "DkN4900ydRoZ"
      },
      "source": [
        "# importando o framework tensorflow no python\r\n",
        "import tensorflow as tf"
      ],
      "execution_count": 1,
      "outputs": []
    },
    {
      "cell_type": "code",
      "metadata": {
        "id": "8yrFBGZ1dvRY"
      },
      "source": [
        "# baixando os dados de dígitos escritos a mão\r\n",
        "mnist = tf.keras.datasets.mnist"
      ],
      "execution_count": 2,
      "outputs": []
    },
    {
      "cell_type": "code",
      "metadata": {
        "colab": {
          "base_uri": "https://localhost:8080/"
        },
        "id": "iYxVr0EhdzrY",
        "outputId": "7d7af5c2-967e-40f6-c3e1-6cf283ffc6b8"
      },
      "source": [
        "# separando os dados de treinamento e dados de teste\r\n",
        "(training_images, training_labels), (test_images, test_labels) = mnist.load_data()"
      ],
      "execution_count": 3,
      "outputs": [
        {
          "output_type": "stream",
          "text": [
            "Downloading data from https://storage.googleapis.com/tensorflow/tf-keras-datasets/mnist.npz\n",
            "11493376/11490434 [==============================] - 0s 0us/step\n"
          ],
          "name": "stdout"
        }
      ]
    },
    {
      "cell_type": "code",
      "metadata": {
        "colab": {
          "base_uri": "https://localhost:8080/"
        },
        "id": "Lxs78UdueMEx",
        "outputId": "ab9ab8be-f0c7-4e0b-cf8c-7daf7e93bac2"
      },
      "source": [
        "# visualizando as dimensões dos dados\r\n",
        "print('training image shape:', training_images.shape)\r\n",
        "print('training label shape:', training_labels.shape)\r\n",
        "print('test image shape:', test_images.shape)\r\n",
        "print('training label shape:', test_labels.shape)"
      ],
      "execution_count": 4,
      "outputs": [
        {
          "output_type": "stream",
          "text": [
            "training image shape: (60000, 28, 28)\n",
            "training label shape: (60000,)\n",
            "test image shape: (10000, 28, 28)\n",
            "training label shape: (10000,)\n"
          ],
          "name": "stdout"
        }
      ]
    },
    {
      "cell_type": "code",
      "metadata": {
        "colab": {
          "base_uri": "https://localhost:8080/",
          "height": 282
        },
        "id": "AZJytYyvf-MR",
        "outputId": "a76af371-438c-41fe-c429-7233f9f1957e"
      },
      "source": [
        "# visualizando um exemplo de formato da imagem\r\n",
        "from matplotlib.pyplot import imshow\r\n",
        "\r\n",
        "imshow(training_images[0], cmap = 'gray')\r\n",
        "print('training label:', training_labels[0])"
      ],
      "execution_count": 11,
      "outputs": [
        {
          "output_type": "stream",
          "text": [
            "training label: 5\n"
          ],
          "name": "stdout"
        },
        {
          "output_type": "display_data",
          "data": {
            "image/png": "[encoded data removed]",
            "text/plain": [
              "<Figure size 432x288 with 1 Axes>"
            ]
          },
          "metadata": {
            "tags": [],
            "needs_background": "light"
          }
        }
      ]
    },
    {
      "cell_type": "code",
      "metadata": {
        "id": "zdlhGt6vejfS"
      },
      "source": [
        "# definindo um limite de acurácia para a etapa de treinamento (callback)\r\n",
        "class myCallback(tf.keras.callbacks.Callback):\r\n",
        "  def on_epoch_end(self, epoch, logs = {}):\r\n",
        "    if (logs.get('accuracy') > 0.99):\r\n",
        "      print(\"\\nReached 99% accuracy so cancelling training!\")\r\n",
        "      self.model.stop_training = True"
      ],
      "execution_count": 15,
      "outputs": []
    },
    {
      "cell_type": "code",
      "metadata": {
        "id": "USx9ODz-g18L"
      },
      "source": [
        "# criando um objeto da classe myCallback\r\n",
        "callbacks = myCallback()"
      ],
      "execution_count": 16,
      "outputs": []
    },
    {
      "cell_type": "code",
      "metadata": {
        "id": "YMq-1T5-eDm4"
      },
      "source": [
        "# normalizando os dados de treinamento e dados de teste\r\n",
        "training_images = training_images / 255\r\n",
        "test_images = test_images / 255"
      ],
      "execution_count": 6,
      "outputs": []
    },
    {
      "cell_type": "code",
      "metadata": {
        "id": "Xk498nLffYUZ"
      },
      "source": [
        "# definindo as camadas da rede neural profunda\r\n",
        "model = tf.keras.models.Sequential([tf.keras.layers.Flatten(input_shape = (28, 28)),\r\n",
        "                                    tf.keras.layers.Dense(512, activation = tf.nn.relu),\r\n",
        "                                    tf.keras.layers.Dense(10, activation = tf.nn.softmax)])"
      ],
      "execution_count": 7,
      "outputs": []
    },
    {
      "cell_type": "code",
      "metadata": {
        "id": "dcMCDZmAf5iQ"
      },
      "source": [
        "# configurando os detalhes de compilação do modelo\r\n",
        "model.compile(optimizer = 'adam', \r\n",
        "              loss = 'sparse_categorical_crossentropy',\r\n",
        "              metrics = 'accuracy')"
      ],
      "execution_count": 12,
      "outputs": []
    },
    {
      "cell_type": "code",
      "metadata": {
        "colab": {
          "base_uri": "https://localhost:8080/"
        },
        "id": "Cn9uCsgYgoco",
        "outputId": "5d3b7bd9-4ee2-46d8-f6d9-4866a3315f82"
      },
      "source": [
        "# realizando o treinamento do modelo com os dados de treinamento\r\n",
        "model.fit(training_images, training_labels, epochs = 5, callbacks = [callbacks])"
      ],
      "execution_count": 17,
      "outputs": [
        {
          "output_type": "stream",
          "text": [
            "Epoch 1/5\n",
            "1875/1875 [==============================] - 7s 4ms/step - loss: 0.3432 - accuracy: 0.8989\n",
            "Epoch 2/5\n",
            "1875/1875 [==============================] - 7s 4ms/step - loss: 0.0834 - accuracy: 0.9747\n",
            "Epoch 3/5\n",
            "1875/1875 [==============================] - 7s 4ms/step - loss: 0.0506 - accuracy: 0.9844\n",
            "Epoch 4/5\n",
            "1875/1875 [==============================] - 7s 4ms/step - loss: 0.0345 - accuracy: 0.9897\n",
            "Epoch 5/5\n",
            "1875/1875 [==============================] - 7s 4ms/step - loss: 0.0269 - accuracy: 0.9913\n",
            "\n",
            "Reached 99% accuracy so cancelling training!\n"
          ],
          "name": "stdout"
        },
        {
          "output_type": "execute_result",
          "data": {
            "text/plain": [
              "<tensorflow.python.keras.callbacks.History at 0x7f7165f6f3c8>"
            ]
          },
          "metadata": {
            "tags": []
          },
          "execution_count": 17
        }
      ]
    },
    {
      "cell_type": "code",
      "metadata": {
        "colab": {
          "base_uri": "https://localhost:8080/"
        },
        "id": "5a8pXBSLhUI4",
        "outputId": "cae2d280-6c05-48ab-96d5-9da2ca2f2e62"
      },
      "source": [
        "# testando a acurácia de generalização do modelo como os dados de teste\r\n",
        "model.evaluate(test_images, test_labels)"
      ],
      "execution_count": 18,
      "outputs": [
        {
          "output_type": "stream",
          "text": [
            "313/313 [==============================] - 1s 2ms/step - loss: 0.0683 - accuracy: 0.9797\n"
          ],
          "name": "stdout"
        },
        {
          "output_type": "execute_result",
          "data": {
            "text/plain": [
              "[0.06833008676767349, 0.9797000288963318]"
            ]
          },
          "metadata": {
            "tags": []
          },
          "execution_count": 18
        }
      ]
    }
  ]
}