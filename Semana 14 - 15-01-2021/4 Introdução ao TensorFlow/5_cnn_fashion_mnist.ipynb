{
  "nbformat": 4,
  "nbformat_minor": 0,
  "metadata": {
    "colab": {
      "name": "cnn fashion mnist.ipynb",
      "provenance": [],
      "collapsed_sections": []
    },
    "kernelspec": {
      "name": "python3",
      "display_name": "Python 3"
    }
  },
  "cells": [
    {
      "cell_type": "markdown",
      "metadata": {
        "id": "w0v9w2QeuXep"
      },
      "source": [
        "# Enhancing Vision with Convolutional Neural Networks"
      ]
    },
    {
      "cell_type": "markdown",
      "metadata": {
        "id": "R8bmdTEuyZa3"
      },
      "source": [
        "## Sequential Neural Network"
      ]
    },
    {
      "cell_type": "code",
      "metadata": {
        "id": "1w2rBZK8uRUr"
      },
      "source": [
        "# importando o pacote tensorflow no python\r\n",
        "import tensorflow as tf"
      ],
      "execution_count": 1,
      "outputs": []
    },
    {
      "cell_type": "code",
      "metadata": {
        "id": "V5PBoCgGu8TK"
      },
      "source": [
        "# carregando os dados\r\n",
        "fashion_mnist = tf.keras.datasets.fashion_mnist"
      ],
      "execution_count": 2,
      "outputs": []
    },
    {
      "cell_type": "code",
      "metadata": {
        "id": "avoa4m6XvDZA"
      },
      "source": [
        "# separando os dados de treinamento e dados de teste\r\n",
        "(training_images, training_labels), (test_images, test_labels) = fashion_mnist.load_data() "
      ],
      "execution_count": 3,
      "outputs": []
    },
    {
      "cell_type": "code",
      "metadata": {
        "colab": {
          "base_uri": "https://localhost:8080/",
          "height": 282
        },
        "id": "qpcN56pjvRtg",
        "outputId": "a34a4b3e-b54e-4707-840b-dc267b52a3cb"
      },
      "source": [
        "# visualizando o estilo dos dados\r\n",
        "from matplotlib.pyplot import imshow\r\n",
        "imshow(training_images[0], cmap = 'gray')\r\n",
        "print('training image label:', training_labels[0])"
      ],
      "execution_count": 4,
      "outputs": [
        {
          "output_type": "stream",
          "text": [
            "training image label: 9\n"
          ],
          "name": "stdout"
        },
        {
          "output_type": "display_data",
          "data": {
            "image/png": "[encoded data removed]",
            "text/plain": [
              "<Figure size 432x288 with 1 Axes>"
            ]
          },
          "metadata": {
            "tags": [],
            "needs_background": "light"
          }
        }
      ]
    },
    {
      "cell_type": "code",
      "metadata": {
        "id": "Pu7Q3yoHvRqs"
      },
      "source": [
        "# normalizando os dados de treinamento e dados de teste\r\n",
        "training_images = training_images / 255\r\n",
        "test_images = test_images / 255"
      ],
      "execution_count": 5,
      "outputs": []
    },
    {
      "cell_type": "code",
      "metadata": {
        "colab": {
          "base_uri": "https://localhost:8080/"
        },
        "id": "SCEvAS0QwcGX",
        "outputId": "04f63c30-33b3-4870-c4dd-5203b49cddc2"
      },
      "source": [
        "print('training images shape:', training_images.shape)\r\n",
        "print('training labels shape:', training_labels.shape)\r\n",
        "print('test images shape:', test_images.shape)\r\n",
        "print('test labels shape:', test_labels.shape)"
      ],
      "execution_count": 6,
      "outputs": [
        {
          "output_type": "stream",
          "text": [
            "training images shape: (60000, 28, 28)\n",
            "training labels shape: (60000,)\n",
            "test images shape: (10000, 28, 28)\n",
            "test labels shape: (10000,)\n"
          ],
          "name": "stdout"
        }
      ]
    },
    {
      "cell_type": "code",
      "metadata": {
        "id": "DoCNEYY4v2MI"
      },
      "source": [
        "# definindo o modelo da rede neural\r\n",
        "model = tf.keras.models.Sequential([\r\n",
        "                                    tf.keras.layers.Flatten(input_shape  = (28, 28)),\r\n",
        "                                    tf.keras.layers.Dense(128, activation = tf.nn.relu),\r\n",
        "                                    tf.keras.layers.Dense(10, activation = tf.nn.softmax)\r\n",
        "])"
      ],
      "execution_count": 7,
      "outputs": []
    },
    {
      "cell_type": "code",
      "metadata": {
        "id": "igSfzIwwxj1N"
      },
      "source": [
        "# definindo uma classe para determinação do callback de limite na acurácia\r\n",
        "class myCallbacks(tf.keras.callbacks.Callback):\r\n",
        "  def on_epoch_end(self, epoch, logs = {}):\r\n",
        "    if (logs.get('accuracy') > 0.99):\r\n",
        "      print(\"\\nReached 99% accuracy so cancelling training!\")\r\n",
        "      self.model.stop_training = True"
      ],
      "execution_count": 8,
      "outputs": []
    },
    {
      "cell_type": "code",
      "metadata": {
        "id": "uYK7R0rqyFyJ"
      },
      "source": [
        "# instanciando um objeto da classe myCallbacks\r\n",
        "callbacks = myCallbacks()"
      ],
      "execution_count": 9,
      "outputs": []
    },
    {
      "cell_type": "code",
      "metadata": {
        "id": "xfjpMA53ySh1"
      },
      "source": [
        "# definindo os detalhes de compilação da rede neural\r\n",
        "model.compile(optimizer = 'adam', loss = 'sparse_categorical_crossentropy',\r\n",
        "              metrics = ['accuracy']) "
      ],
      "execution_count": 10,
      "outputs": []
    },
    {
      "cell_type": "code",
      "metadata": {
        "colab": {
          "base_uri": "https://localhost:8080/"
        },
        "id": "GxUBxWc-ypAi",
        "outputId": "5e8046b8-4f98-4939-c514-0f9c2f51a546"
      },
      "source": [
        "# treinando o a rede neural com os dados de treinamento\r\n",
        "model.fit(training_images, training_labels, epochs = 5, callbacks = [callbacks])"
      ],
      "execution_count": 11,
      "outputs": [
        {
          "output_type": "stream",
          "text": [
            "Epoch 1/5\n",
            "1875/1875 [==============================] - 4s 2ms/step - loss: 0.6327 - accuracy: 0.7815\n",
            "Epoch 2/5\n",
            "1875/1875 [==============================] - 4s 2ms/step - loss: 0.3832 - accuracy: 0.8618\n",
            "Epoch 3/5\n",
            "1875/1875 [==============================] - 4s 2ms/step - loss: 0.3400 - accuracy: 0.8760\n",
            "Epoch 4/5\n",
            "1875/1875 [==============================] - 4s 2ms/step - loss: 0.3071 - accuracy: 0.8871\n",
            "Epoch 5/5\n",
            "1875/1875 [==============================] - 4s 2ms/step - loss: 0.2883 - accuracy: 0.8921\n"
          ],
          "name": "stdout"
        },
        {
          "output_type": "execute_result",
          "data": {
            "text/plain": [
              "<tensorflow.python.keras.callbacks.History at 0x7fccadcbf8d0>"
            ]
          },
          "metadata": {
            "tags": []
          },
          "execution_count": 11
        }
      ]
    },
    {
      "cell_type": "code",
      "metadata": {
        "colab": {
          "base_uri": "https://localhost:8080/"
        },
        "id": "U5_-GyZjy2rn",
        "outputId": "05576314-fce6-49bb-fd2d-c7c7d0472eb3"
      },
      "source": [
        "# vendo a acurácia de generalização da rede neural com os dados de teste\r\n",
        "model.evaluate(test_images, test_labels)"
      ],
      "execution_count": 12,
      "outputs": [
        {
          "output_type": "stream",
          "text": [
            "313/313 [==============================] - 1s 1ms/step - loss: 0.3404 - accuracy: 0.8786\n"
          ],
          "name": "stdout"
        },
        {
          "output_type": "execute_result",
          "data": {
            "text/plain": [
              "[0.34036287665367126, 0.878600001335144]"
            ]
          },
          "metadata": {
            "tags": []
          },
          "execution_count": 12
        }
      ]
    },
    {
      "cell_type": "markdown",
      "metadata": {
        "id": "rMGD6JsVzL3Y"
      },
      "source": [
        "## Convolutional Neural Network"
      ]
    },
    {
      "cell_type": "code",
      "metadata": {
        "id": "J7tCdPQv5e1w"
      },
      "source": [
        "# importando o framework tensorflow do python\r\n",
        "import tensorflow as tf"
      ],
      "execution_count": 13,
      "outputs": []
    },
    {
      "cell_type": "code",
      "metadata": {
        "id": "uDlZcjgW5XZD"
      },
      "source": [
        "# carregando os dados\r\n",
        "fashion_mnist = tf.keras.datasets.fashion_mnist"
      ],
      "execution_count": 14,
      "outputs": []
    },
    {
      "cell_type": "code",
      "metadata": {
        "id": "0rpZM4zkzSmk"
      },
      "source": [
        "# redefinindo os dados fashion mnist\r\n",
        "(training_images, training_labels), (test_images, test_labels) = fashion_mnist.load_data() "
      ],
      "execution_count": 15,
      "outputs": []
    },
    {
      "cell_type": "code",
      "metadata": {
        "id": "T_9sxP5O0Ndt"
      },
      "source": [
        "# pegando informações dimensionais da image\r\n",
        "wpixels, hpixels = training_images[0].shape\r\n",
        "m_train = training_labels.size\r\n",
        "m_test = test_labels.size"
      ],
      "execution_count": 16,
      "outputs": []
    },
    {
      "cell_type": "code",
      "metadata": {
        "id": "MEsKQ2kdzsiT"
      },
      "source": [
        "# reajustando o formato dos dados e aplicando a normalização\r\n",
        "training_images = training_images.reshape(m_train, wpixels, hpixels, 1)\r\n",
        "training_images = training_images / 255\r\n",
        "test_images = test_images.reshape(m_test, wpixels, hpixels, 1)\r\n",
        "test_images = test_images / 255"
      ],
      "execution_count": 17,
      "outputs": []
    },
    {
      "cell_type": "code",
      "metadata": {
        "id": "x7ca4ads1sIK"
      },
      "source": [
        "# definindo o moddelo de rede neural convolucional\r\n",
        "model = tf.keras.models.Sequential([\r\n",
        "                                    tf.keras.layers.Conv2D(filters = 64, kernel_size = (3, 3), activation = tf.nn.relu, input_shape = (wpixels, hpixels, 1)),\r\n",
        "                                    tf.keras.layers.MaxPooling2D(pool_size = (2, 2)),\r\n",
        "                                    tf.keras.layers.Conv2D(filters = 64, kernel_size = (3, 3), activation = tf.nn.relu),\r\n",
        "                                    tf.keras.layers.MaxPooling2D(pool_size = (2, 2)),\r\n",
        "                                    tf.keras.layers.Flatten(),\r\n",
        "                                    tf.keras.layers.Dense(128, activation = tf.nn.relu),\r\n",
        "                                    tf.keras.layers.Dense(10, activation = tf.nn.softmax)\r\n",
        "])"
      ],
      "execution_count": 18,
      "outputs": []
    },
    {
      "cell_type": "code",
      "metadata": {
        "id": "SF0tshnp3Xs2"
      },
      "source": [
        "# definindo os detalhes da compilação do modelo\r\n",
        "model.compile(optimizer = 'adam', loss = 'sparse_categorical_crossentropy',\r\n",
        "              metrics = ['accuracy'])"
      ],
      "execution_count": 19,
      "outputs": []
    },
    {
      "cell_type": "code",
      "metadata": {
        "colab": {
          "base_uri": "https://localhost:8080/"
        },
        "id": "7jmpCvl27dGz",
        "outputId": "5ce21db7-ffbb-4dd6-b8bb-626fc850a56f"
      },
      "source": [
        "# visualizando as informações da rede neural convolucional definida\r\n",
        "model.summary()"
      ],
      "execution_count": 20,
      "outputs": [
        {
          "output_type": "stream",
          "text": [
            "Model: \"sequential_1\"\n",
            "_________________________________________________________________\n",
            "Layer (type)                 Output Shape              Param #   \n",
            "=================================================================\n",
            "conv2d (Conv2D)              (None, 26, 26, 64)        640       \n",
            "_________________________________________________________________\n",
            "max_pooling2d (MaxPooling2D) (None, 13, 13, 64)        0         \n",
            "_________________________________________________________________\n",
            "conv2d_1 (Conv2D)            (None, 11, 11, 64)        36928     \n",
            "_________________________________________________________________\n",
            "max_pooling2d_1 (MaxPooling2 (None, 5, 5, 64)          0         \n",
            "_________________________________________________________________\n",
            "flatten_1 (Flatten)          (None, 1600)              0         \n",
            "_________________________________________________________________\n",
            "dense_2 (Dense)              (None, 128)               204928    \n",
            "_________________________________________________________________\n",
            "dense_3 (Dense)              (None, 10)                1290      \n",
            "=================================================================\n",
            "Total params: 243,786\n",
            "Trainable params: 243,786\n",
            "Non-trainable params: 0\n",
            "_________________________________________________________________\n"
          ],
          "name": "stdout"
        }
      ]
    },
    {
      "cell_type": "code",
      "metadata": {
        "colab": {
          "base_uri": "https://localhost:8080/"
        },
        "id": "WamqOTUj3m7v",
        "outputId": "f1a02352-3cf5-4887-df42-c805c44f6fee"
      },
      "source": [
        "# treinando a rede neural convolucional\r\n",
        "model.fit(training_images, training_labels, epochs = 5)"
      ],
      "execution_count": 21,
      "outputs": [
        {
          "output_type": "stream",
          "text": [
            "Epoch 1/5\n",
            "1875/1875 [==============================] - 82s 43ms/step - loss: 0.6075 - accuracy: 0.7799\n",
            "Epoch 2/5\n",
            "1875/1875 [==============================] - 81s 43ms/step - loss: 0.3119 - accuracy: 0.8840\n",
            "Epoch 3/5\n",
            "1875/1875 [==============================] - 81s 43ms/step - loss: 0.2570 - accuracy: 0.9054\n",
            "Epoch 4/5\n",
            "1875/1875 [==============================] - 81s 43ms/step - loss: 0.2187 - accuracy: 0.9181\n",
            "Epoch 5/5\n",
            "1875/1875 [==============================] - 81s 43ms/step - loss: 0.1909 - accuracy: 0.9284\n"
          ],
          "name": "stdout"
        },
        {
          "output_type": "execute_result",
          "data": {
            "text/plain": [
              "<tensorflow.python.keras.callbacks.History at 0x7fcca8744198>"
            ]
          },
          "metadata": {
            "tags": []
          },
          "execution_count": 21
        }
      ]
    },
    {
      "cell_type": "code",
      "metadata": {
        "colab": {
          "base_uri": "https://localhost:8080/"
        },
        "id": "Pf9yvl9M34dO",
        "outputId": "b0234384-ad69-4cf5-dc08-737035a021ad"
      },
      "source": [
        "# obtendo a acurácia do modelo para os dados de teste\r\n",
        "model.evaluate(test_images, test_labels)"
      ],
      "execution_count": 22,
      "outputs": [
        {
          "output_type": "stream",
          "text": [
            "313/313 [==============================] - 4s 13ms/step - loss: 0.2536 - accuracy: 0.9048\n"
          ],
          "name": "stdout"
        },
        {
          "output_type": "execute_result",
          "data": {
            "text/plain": [
              "[0.2535673975944519, 0.9047999978065491]"
            ]
          },
          "metadata": {
            "tags": []
          },
          "execution_count": 22
        }
      ]
    },
    {
      "cell_type": "code",
      "metadata": {
        "id": "NwetrNMW_9F4"
      },
      "source": [
        "# fazendo a predição com os dados de teste\r\n",
        "predict = model.predict(test_images)"
      ],
      "execution_count": 23,
      "outputs": []
    },
    {
      "cell_type": "code",
      "metadata": {
        "colab": {
          "base_uri": "https://localhost:8080/"
        },
        "id": "2W-OsMq7BiYC",
        "outputId": "2c65a352-8a45-4675-941d-0e20fe9410c1"
      },
      "source": [
        "# visualizando um exemplo de predição\r\n",
        "print(predict[0])\r\n",
        "print(test_labels[0])"
      ],
      "execution_count": 27,
      "outputs": [
        {
          "output_type": "stream",
          "text": [
            "[6.8862710e-07 7.9015283e-09 5.7776546e-08 4.9978337e-07 5.7876584e-08\n",
            " 2.5422725e-05 9.2885699e-08 3.5643425e-05 2.7257076e-07 9.9993730e-01]\n",
            "9\n"
          ],
          "name": "stdout"
        }
      ]
    },
    {
      "cell_type": "code",
      "metadata": {
        "colab": {
          "base_uri": "https://localhost:8080/",
          "height": 268
        },
        "id": "F3oMjX0kCGo0",
        "outputId": "aac3348e-a6bd-43aa-8a95-e5a92e52ecfb"
      },
      "source": [
        "# visualizando as etapas de convolução\r\n",
        "f, axarr = plt.subplots(3,4)\r\n",
        "FIRST_IMAGE=23\r\n",
        "SECOND_IMAGE=7\r\n",
        "THIRD_IMAGE=26\r\n",
        "CONVOLUTION_NUMBER = 1\r\n",
        "from tensorflow.keras import models\r\n",
        "layer_outputs = [layer.output for layer in model.layers]\r\n",
        "activation_model = tf.keras.models.Model(inputs = model.input, outputs = layer_outputs)\r\n",
        "for x in range(0,4):\r\n",
        "  f1 = activation_model.predict(test_images[FIRST_IMAGE].reshape(1, 28, 28, 1))[x]\r\n",
        "  axarr[0,x].imshow(f1[0, : , :, CONVOLUTION_NUMBER], cmap='inferno')\r\n",
        "  axarr[0,x].grid(False)\r\n",
        "  f2 = activation_model.predict(test_images[SECOND_IMAGE].reshape(1, 28, 28, 1))[x]\r\n",
        "  axarr[1,x].imshow(f2[0, : , :, CONVOLUTION_NUMBER], cmap='inferno')\r\n",
        "  axarr[1,x].grid(False)\r\n",
        "  f3 = activation_model.predict(test_images[THIRD_IMAGE].reshape(1, 28, 28, 1))[x]\r\n",
        "  axarr[2,x].imshow(f3[0, : , :, CONVOLUTION_NUMBER], cmap='inferno')\r\n",
        "  axarr[2,x].grid(False)"
      ],
      "execution_count": 37,
      "outputs": [
        {
          "output_type": "display_data",
          "data": {
            "image/png": "[encoded data removed]",
            "text/plain": [
              "<Figure size 432x288 with 12 Axes>"
            ]
          },
          "metadata": {
            "tags": [],
            "needs_background": "light"
          }
        }
      ]
    }
  ]
}