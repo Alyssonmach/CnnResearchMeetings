{
 "cells": [
  {
   "cell_type": "markdown",
   "metadata": {},
   "source": [
    "# Andrew Ng’s Regressão Linear - Solução Pythônica"
   ]
  },
  {
   "cell_type": "markdown",
   "metadata": {},
   "source": [
    "### Regressão Linear Multivariável"
   ]
  },
  {
   "cell_type": "markdown",
   "metadata": {},
   "source": [
    "![regressao linear multivariavel](Imagens/regressao-linear-multivariavel.png)"
   ]
  },
  {
   "cell_type": "markdown",
   "metadata": {},
   "source": [
    "![regressao linear multivariavel hipotese](Imagens/regressao-linear-multivariavel-hipotese.png)"
   ]
  },
  {
   "cell_type": "code",
   "execution_count": 281,
   "metadata": {},
   "outputs": [],
   "source": [
    "# importando as bibliotecas do python\n",
    "import numpy as np\n",
    "import pandas as pd\n",
    "import matplotlib.pyplot as plt"
   ]
  },
  {
   "cell_type": "code",
   "execution_count": 282,
   "metadata": {},
   "outputs": [],
   "source": [
    "# importando os dados\n",
    "data = pd.read_csv('ex1data2.txt', names=['Tamanho', 'Quartos', 'Preço'])"
   ]
  },
  {
   "cell_type": "code",
   "execution_count": 283,
   "metadata": {},
   "outputs": [
    {
     "data": {
      "text/html": [
       "<div>\n",
       "<style scoped>\n",
       "    .dataframe tbody tr th:only-of-type {\n",
       "        vertical-align: middle;\n",
       "    }\n",
       "\n",
       "    .dataframe tbody tr th {\n",
       "        vertical-align: top;\n",
       "    }\n",
       "\n",
       "    .dataframe thead th {\n",
       "        text-align: right;\n",
       "    }\n",
       "</style>\n",
       "<table border=\"1\" class=\"dataframe\">\n",
       "  <thead>\n",
       "    <tr style=\"text-align: right;\">\n",
       "      <th></th>\n",
       "      <th>Tamanho</th>\n",
       "      <th>Quartos</th>\n",
       "      <th>Preço</th>\n",
       "    </tr>\n",
       "  </thead>\n",
       "  <tbody>\n",
       "    <tr>\n",
       "      <th>0</th>\n",
       "      <td>2104</td>\n",
       "      <td>3</td>\n",
       "      <td>399900</td>\n",
       "    </tr>\n",
       "    <tr>\n",
       "      <th>1</th>\n",
       "      <td>1600</td>\n",
       "      <td>3</td>\n",
       "      <td>329900</td>\n",
       "    </tr>\n",
       "    <tr>\n",
       "      <th>2</th>\n",
       "      <td>2400</td>\n",
       "      <td>3</td>\n",
       "      <td>369000</td>\n",
       "    </tr>\n",
       "    <tr>\n",
       "      <th>3</th>\n",
       "      <td>1416</td>\n",
       "      <td>2</td>\n",
       "      <td>232000</td>\n",
       "    </tr>\n",
       "    <tr>\n",
       "      <th>4</th>\n",
       "      <td>3000</td>\n",
       "      <td>4</td>\n",
       "      <td>539900</td>\n",
       "    </tr>\n",
       "  </tbody>\n",
       "</table>\n",
       "</div>"
      ],
      "text/plain": [
       "   Tamanho  Quartos   Preço\n",
       "0     2104        3  399900\n",
       "1     1600        3  329900\n",
       "2     2400        3  369000\n",
       "3     1416        2  232000\n",
       "4     3000        4  539900"
      ]
     },
     "execution_count": 283,
     "metadata": {},
     "output_type": "execute_result"
    }
   ],
   "source": [
    "# visualizando os 5 primeiros dados\n",
    "data.head()"
   ]
  },
  {
   "cell_type": "code",
   "execution_count": 284,
   "metadata": {},
   "outputs": [],
   "source": [
    "X = data.drop(['Preço'], axis=1)  # removendo a coluna de preços do X\n",
    "Y = data[\"Preço\"] # pegando a coluna do preço das casas"
   ]
  },
  {
   "cell_type": "code",
   "execution_count": 285,
   "metadata": {},
   "outputs": [
    {
     "name": "stdout",
     "output_type": "stream",
     "text": [
      "(47, 2)\n",
      "(47,)\n"
     ]
    }
   ],
   "source": [
    "# visualizando a dimensão dos dados\n",
    "print(X.shape)\n",
    "print(Y.shape)"
   ]
  },
  {
   "cell_type": "code",
   "execution_count": 286,
   "metadata": {},
   "outputs": [],
   "source": [
    "m = len(Y) # número de exemplos treináveis"
   ]
  },
  {
   "cell_type": "markdown",
   "metadata": {},
   "source": [
    "![nomralizacao dos dados](Imagens/normalizacao-dos-dados.png)"
   ]
  },
  {
   "cell_type": "code",
   "execution_count": 287,
   "metadata": {},
   "outputs": [],
   "source": [
    "def Normaliza(x):\n",
    "    '''\n",
    "    Função responsável por normalizar os valores\n",
    "    '''\n",
    "    \n",
    "    x_normalizado = (x - np.mean(x)) / np.std(x) # aplica a normalização dos dados\n",
    "    media = np.mean(x) # calcula a média dos dados\n",
    "    sigma = np.std(x) # calcula o desvio padrão dos dados\n",
    "    \n",
    "    return x_normalizado, media, sigma"
   ]
  },
  {
   "cell_type": "code",
   "execution_count": 288,
   "metadata": {},
   "outputs": [],
   "source": [
    "X, media, desvio = Normaliza(X) # aplica a normalização nos dados"
   ]
  },
  {
   "cell_type": "code",
   "execution_count": 289,
   "metadata": {},
   "outputs": [
    {
     "data": {
      "text/html": [
       "<div>\n",
       "<style scoped>\n",
       "    .dataframe tbody tr th:only-of-type {\n",
       "        vertical-align: middle;\n",
       "    }\n",
       "\n",
       "    .dataframe tbody tr th {\n",
       "        vertical-align: top;\n",
       "    }\n",
       "\n",
       "    .dataframe thead th {\n",
       "        text-align: right;\n",
       "    }\n",
       "</style>\n",
       "<table border=\"1\" class=\"dataframe\">\n",
       "  <thead>\n",
       "    <tr style=\"text-align: right;\">\n",
       "      <th></th>\n",
       "      <th>Tamanho</th>\n",
       "      <th>Quartos</th>\n",
       "    </tr>\n",
       "  </thead>\n",
       "  <tbody>\n",
       "    <tr>\n",
       "      <th>0</th>\n",
       "      <td>0.131415</td>\n",
       "      <td>-0.226093</td>\n",
       "    </tr>\n",
       "    <tr>\n",
       "      <th>1</th>\n",
       "      <td>-0.509641</td>\n",
       "      <td>-0.226093</td>\n",
       "    </tr>\n",
       "    <tr>\n",
       "      <th>2</th>\n",
       "      <td>0.507909</td>\n",
       "      <td>-0.226093</td>\n",
       "    </tr>\n",
       "    <tr>\n",
       "      <th>3</th>\n",
       "      <td>-0.743677</td>\n",
       "      <td>-1.554392</td>\n",
       "    </tr>\n",
       "    <tr>\n",
       "      <th>4</th>\n",
       "      <td>1.271071</td>\n",
       "      <td>1.102205</td>\n",
       "    </tr>\n",
       "    <tr>\n",
       "      <th>5</th>\n",
       "      <td>-0.019945</td>\n",
       "      <td>1.102205</td>\n",
       "    </tr>\n",
       "    <tr>\n",
       "      <th>6</th>\n",
       "      <td>-0.593589</td>\n",
       "      <td>-0.226093</td>\n",
       "    </tr>\n",
       "    <tr>\n",
       "      <th>7</th>\n",
       "      <td>-0.729686</td>\n",
       "      <td>-0.226093</td>\n",
       "    </tr>\n",
       "    <tr>\n",
       "      <th>8</th>\n",
       "      <td>-0.789467</td>\n",
       "      <td>-0.226093</td>\n",
       "    </tr>\n",
       "    <tr>\n",
       "      <th>9</th>\n",
       "      <td>-0.644466</td>\n",
       "      <td>-0.226093</td>\n",
       "    </tr>\n",
       "    <tr>\n",
       "      <th>10</th>\n",
       "      <td>-0.077182</td>\n",
       "      <td>1.102205</td>\n",
       "    </tr>\n",
       "    <tr>\n",
       "      <th>11</th>\n",
       "      <td>-0.000866</td>\n",
       "      <td>-0.226093</td>\n",
       "    </tr>\n",
       "    <tr>\n",
       "      <th>12</th>\n",
       "      <td>-0.140779</td>\n",
       "      <td>-0.226093</td>\n",
       "    </tr>\n",
       "    <tr>\n",
       "      <th>13</th>\n",
       "      <td>3.150993</td>\n",
       "      <td>2.430504</td>\n",
       "    </tr>\n",
       "    <tr>\n",
       "      <th>14</th>\n",
       "      <td>-0.931924</td>\n",
       "      <td>-0.226093</td>\n",
       "    </tr>\n",
       "    <tr>\n",
       "      <th>15</th>\n",
       "      <td>0.380715</td>\n",
       "      <td>1.102205</td>\n",
       "    </tr>\n",
       "    <tr>\n",
       "      <th>16</th>\n",
       "      <td>-0.865783</td>\n",
       "      <td>-1.554392</td>\n",
       "    </tr>\n",
       "    <tr>\n",
       "      <th>17</th>\n",
       "      <td>-0.972626</td>\n",
       "      <td>-0.226093</td>\n",
       "    </tr>\n",
       "    <tr>\n",
       "      <th>18</th>\n",
       "      <td>0.773743</td>\n",
       "      <td>1.102205</td>\n",
       "    </tr>\n",
       "    <tr>\n",
       "      <th>19</th>\n",
       "      <td>1.310501</td>\n",
       "      <td>1.102205</td>\n",
       "    </tr>\n",
       "    <tr>\n",
       "      <th>20</th>\n",
       "      <td>-0.297227</td>\n",
       "      <td>-0.226093</td>\n",
       "    </tr>\n",
       "    <tr>\n",
       "      <th>21</th>\n",
       "      <td>-0.143323</td>\n",
       "      <td>-1.554392</td>\n",
       "    </tr>\n",
       "    <tr>\n",
       "      <th>22</th>\n",
       "      <td>-0.504553</td>\n",
       "      <td>-0.226093</td>\n",
       "    </tr>\n",
       "    <tr>\n",
       "      <th>23</th>\n",
       "      <td>-0.049200</td>\n",
       "      <td>1.102205</td>\n",
       "    </tr>\n",
       "    <tr>\n",
       "      <th>24</th>\n",
       "      <td>2.403094</td>\n",
       "      <td>-0.226093</td>\n",
       "    </tr>\n",
       "    <tr>\n",
       "      <th>25</th>\n",
       "      <td>-1.145609</td>\n",
       "      <td>-0.226093</td>\n",
       "    </tr>\n",
       "    <tr>\n",
       "      <th>26</th>\n",
       "      <td>-0.690256</td>\n",
       "      <td>-0.226093</td>\n",
       "    </tr>\n",
       "    <tr>\n",
       "      <th>27</th>\n",
       "      <td>0.668173</td>\n",
       "      <td>-0.226093</td>\n",
       "    </tr>\n",
       "    <tr>\n",
       "      <th>28</th>\n",
       "      <td>0.253521</td>\n",
       "      <td>-0.226093</td>\n",
       "    </tr>\n",
       "    <tr>\n",
       "      <th>29</th>\n",
       "      <td>0.809358</td>\n",
       "      <td>-0.226093</td>\n",
       "    </tr>\n",
       "    <tr>\n",
       "      <th>30</th>\n",
       "      <td>-0.205648</td>\n",
       "      <td>-1.554392</td>\n",
       "    </tr>\n",
       "    <tr>\n",
       "      <th>31</th>\n",
       "      <td>-1.272803</td>\n",
       "      <td>-2.882690</td>\n",
       "    </tr>\n",
       "    <tr>\n",
       "      <th>32</th>\n",
       "      <td>0.050011</td>\n",
       "      <td>1.102205</td>\n",
       "    </tr>\n",
       "    <tr>\n",
       "      <th>33</th>\n",
       "      <td>1.445326</td>\n",
       "      <td>-0.226093</td>\n",
       "    </tr>\n",
       "    <tr>\n",
       "      <th>34</th>\n",
       "      <td>-0.241262</td>\n",
       "      <td>1.102205</td>\n",
       "    </tr>\n",
       "    <tr>\n",
       "      <th>35</th>\n",
       "      <td>-0.716966</td>\n",
       "      <td>-0.226093</td>\n",
       "    </tr>\n",
       "    <tr>\n",
       "      <th>36</th>\n",
       "      <td>-0.968810</td>\n",
       "      <td>-0.226093</td>\n",
       "    </tr>\n",
       "    <tr>\n",
       "      <th>37</th>\n",
       "      <td>0.167030</td>\n",
       "      <td>1.102205</td>\n",
       "    </tr>\n",
       "    <tr>\n",
       "      <th>38</th>\n",
       "      <td>2.816474</td>\n",
       "      <td>1.102205</td>\n",
       "    </tr>\n",
       "    <tr>\n",
       "      <th>39</th>\n",
       "      <td>0.205188</td>\n",
       "      <td>1.102205</td>\n",
       "    </tr>\n",
       "    <tr>\n",
       "      <th>40</th>\n",
       "      <td>-0.428237</td>\n",
       "      <td>-1.554392</td>\n",
       "    </tr>\n",
       "    <tr>\n",
       "      <th>41</th>\n",
       "      <td>0.301855</td>\n",
       "      <td>-0.226093</td>\n",
       "    </tr>\n",
       "    <tr>\n",
       "      <th>42</th>\n",
       "      <td>0.720322</td>\n",
       "      <td>1.102205</td>\n",
       "    </tr>\n",
       "    <tr>\n",
       "      <th>43</th>\n",
       "      <td>-1.018415</td>\n",
       "      <td>-0.226093</td>\n",
       "    </tr>\n",
       "    <tr>\n",
       "      <th>44</th>\n",
       "      <td>-1.461049</td>\n",
       "      <td>-1.554392</td>\n",
       "    </tr>\n",
       "    <tr>\n",
       "      <th>45</th>\n",
       "      <td>-0.189113</td>\n",
       "      <td>1.102205</td>\n",
       "    </tr>\n",
       "    <tr>\n",
       "      <th>46</th>\n",
       "      <td>-1.014600</td>\n",
       "      <td>-0.226093</td>\n",
       "    </tr>\n",
       "  </tbody>\n",
       "</table>\n",
       "</div>"
      ],
      "text/plain": [
       "     Tamanho   Quartos\n",
       "0   0.131415 -0.226093\n",
       "1  -0.509641 -0.226093\n",
       "2   0.507909 -0.226093\n",
       "3  -0.743677 -1.554392\n",
       "4   1.271071  1.102205\n",
       "5  -0.019945  1.102205\n",
       "6  -0.593589 -0.226093\n",
       "7  -0.729686 -0.226093\n",
       "8  -0.789467 -0.226093\n",
       "9  -0.644466 -0.226093\n",
       "10 -0.077182  1.102205\n",
       "11 -0.000866 -0.226093\n",
       "12 -0.140779 -0.226093\n",
       "13  3.150993  2.430504\n",
       "14 -0.931924 -0.226093\n",
       "15  0.380715  1.102205\n",
       "16 -0.865783 -1.554392\n",
       "17 -0.972626 -0.226093\n",
       "18  0.773743  1.102205\n",
       "19  1.310501  1.102205\n",
       "20 -0.297227 -0.226093\n",
       "21 -0.143323 -1.554392\n",
       "22 -0.504553 -0.226093\n",
       "23 -0.049200  1.102205\n",
       "24  2.403094 -0.226093\n",
       "25 -1.145609 -0.226093\n",
       "26 -0.690256 -0.226093\n",
       "27  0.668173 -0.226093\n",
       "28  0.253521 -0.226093\n",
       "29  0.809358 -0.226093\n",
       "30 -0.205648 -1.554392\n",
       "31 -1.272803 -2.882690\n",
       "32  0.050011  1.102205\n",
       "33  1.445326 -0.226093\n",
       "34 -0.241262  1.102205\n",
       "35 -0.716966 -0.226093\n",
       "36 -0.968810 -0.226093\n",
       "37  0.167030  1.102205\n",
       "38  2.816474  1.102205\n",
       "39  0.205188  1.102205\n",
       "40 -0.428237 -1.554392\n",
       "41  0.301855 -0.226093\n",
       "42  0.720322  1.102205\n",
       "43 -1.018415 -0.226093\n",
       "44 -1.461049 -1.554392\n",
       "45 -0.189113  1.102205\n",
       "46 -1.014600 -0.226093"
      ]
     },
     "execution_count": 289,
     "metadata": {},
     "output_type": "execute_result"
    }
   ],
   "source": [
    "X"
   ]
  },
  {
   "cell_type": "code",
   "execution_count": 290,
   "metadata": {},
   "outputs": [
    {
     "data": {
      "text/plain": [
       "Tamanho    2000.680851\n",
       "Quartos       3.170213\n",
       "dtype: float64"
      ]
     },
     "execution_count": 290,
     "metadata": {},
     "output_type": "execute_result"
    }
   ],
   "source": [
    "media"
   ]
  },
  {
   "cell_type": "code",
   "execution_count": 291,
   "metadata": {},
   "outputs": [
    {
     "data": {
      "text/plain": [
       "Tamanho    786.202619\n",
       "Quartos      0.752843\n",
       "dtype: float64"
      ]
     },
     "execution_count": 291,
     "metadata": {},
     "output_type": "execute_result"
    }
   ],
   "source": [
    "desvio"
   ]
  },
  {
   "cell_type": "code",
   "execution_count": 292,
   "metadata": {},
   "outputs": [],
   "source": [
    "X = np.append(np.ones([m,1]), X, axis=1) #adicionando a constante x0 = 1\n",
    "Y = np.array(Y).reshape(-1,1) # ajustando a dimensão para mx1\n",
    "teta = np.zeros([3,1]) ## inicializando um vetor de zeros para armazenar os coeficientes da equação da reta"
   ]
  },
  {
   "cell_type": "code",
   "execution_count": 293,
   "metadata": {},
   "outputs": [
    {
     "name": "stdout",
     "output_type": "stream",
     "text": [
      "(47, 3)\n",
      "(47, 1)\n"
     ]
    }
   ],
   "source": [
    "print(X.shape)\n",
    "print(Y.shape)"
   ]
  },
  {
   "cell_type": "code",
   "execution_count": 294,
   "metadata": {},
   "outputs": [],
   "source": [
    "def Custo(x, y, teta):\n",
    "    '''\n",
    "    Retorna o custo (erro da predição)\n",
    "    '''\n",
    "    m = len(y)              # número de exemplos treináveis\n",
    "    \n",
    "    h = x.dot(teta)        # definindo a hipótese do algoritmo\n",
    "    \n",
    "    J = 1/(2*m)*(np.sum((h-y)**2))             # Implementando a função de custo\n",
    "    \n",
    "    return J                # retorna o cursto"
   ]
  },
  {
   "cell_type": "code",
   "execution_count": 295,
   "metadata": {},
   "outputs": [
    {
     "name": "stdout",
     "output_type": "stream",
     "text": [
      "65591548106.45744\n"
     ]
    }
   ],
   "source": [
    "custo = Custo(X, Y, teta)  # Chama a função que calcula o custo e a imprime\n",
    "print(custo)   "
   ]
  },
  {
   "cell_type": "code",
   "execution_count": 296,
   "metadata": {},
   "outputs": [],
   "source": [
    "interacoes = 400 # número de interações\n",
    "alfa = 0.01 # taxa de aprendizado\n",
    "\n",
    "def GradienteDescendente(x, y, teta, alfa, interacoes):\n",
    "    '''\n",
    "    Calculando o gradiente descendente para minizar o custo\n",
    "    '''   \n",
    "    historico_custo = [] # define uma lista vazia para armazenar o valor do custo em cada interação\n",
    "    \n",
    "    m = len(y) # número de exemplos treináveis\n",
    "    \n",
    "    for i in range(interacoes): # intera 1000 vezes\n",
    "        \n",
    "        h = x.dot(teta) # calcula a hipotese\n",
    "        \n",
    "        teta = teta - (alfa/m) * (x.T.dot(h-y)) # aplica o gradiente descendente\n",
    "        \n",
    "        historico_custo.append(Custo(x, y, teta)) # adiciona o valor do custo em cada etapa (erro de predição)\n",
    "        \n",
    "    return teta, historico_custo"
   ]
  },
  {
   "cell_type": "code",
   "execution_count": 297,
   "metadata": {},
   "outputs": [],
   "source": [
    "# obtendo os parâmetros da equação da reta e o histórico do custo em cada etapa de treinamento\n",
    "novo_teta, historico_custo = GradienteDescendente(X, Y, teta, alfa, interacoes)"
   ]
  },
  {
   "cell_type": "code",
   "execution_count": 298,
   "metadata": {},
   "outputs": [
    {
     "data": {
      "text/plain": [
       "array([[334302.06399328],\n",
       "       [ 99411.44947359],\n",
       "       [  3267.01285407]])"
      ]
     },
     "execution_count": 298,
     "metadata": {},
     "output_type": "execute_result"
    }
   ],
   "source": [
    "novo_teta"
   ]
  },
  {
   "cell_type": "code",
   "execution_count": 299,
   "metadata": {},
   "outputs": [],
   "source": [
    "novo_custo = Custo(X, Y, novo_teta)"
   ]
  },
  {
   "cell_type": "code",
   "execution_count": 300,
   "metadata": {},
   "outputs": [
    {
     "name": "stdout",
     "output_type": "stream",
     "text": [
      "65591548106.45744\n",
      "2105448288.6292474\n"
     ]
    }
   ],
   "source": [
    "print(custo)\n",
    "print(novo_custo)"
   ]
  },
  {
   "cell_type": "code",
   "execution_count": 301,
   "metadata": {},
   "outputs": [
    {
     "data": {
      "text/plain": [
       "Text(0.5, 1.0, 'Minimizando o custo usando gradiente descendente')"
      ]
     },
     "execution_count": 301,
     "metadata": {},
     "output_type": "execute_result"
    },
    {
     "data": {
      "image/png": "[encoded data removed]",
      "text/plain": [
       "<Figure size 1440x720 with 1 Axes>"
      ]
     },
     "metadata": {
      "needs_background": "light"
     },
     "output_type": "display_data"
    }
   ],
   "source": [
    "plt.figure(figsize = (20, 10))\n",
    "plt.plot(historico_custo)\n",
    "plt.ylabel('Custo J')\n",
    "plt.xlabel('Número de Interações')\n",
    "plt.title('Minimizando o custo usando gradiente descendente')"
   ]
  },
  {
   "cell_type": "markdown",
   "metadata": {},
   "source": [
    "![escolhendo taxa de aprendizado](Imagens/escolhendo-taxa-de-aprendizado.png)"
   ]
  },
  {
   "cell_type": "code",
   "execution_count": 302,
   "metadata": {},
   "outputs": [
    {
     "data": {
      "text/plain": [
       "<matplotlib.legend.Legend at 0x1ef6a370f88>"
      ]
     },
     "execution_count": 302,
     "metadata": {},
     "output_type": "execute_result"
    },
    {
     "data": {
      "image/png": "[encoded data removed]",
      "text/plain": [
       "<Figure size 1440x720 with 1 Axes>"
      ]
     },
     "metadata": {
      "needs_background": "light"
     },
     "output_type": "display_data"
    }
   ],
   "source": [
    "teta1, j_hist1 = GradienteDescendente(X, Y, teta, 0.3, 50)\n",
    "teta2, j_hist2 = GradienteDescendente(X, Y, teta, 0.1, 50)\n",
    "teta3, j_hist3 = GradienteDescendente(X, Y, teta, 0.03, 50)\n",
    "teta4, j_hist4 = GradienteDescendente(X, Y, teta, 0.01, 50)\n",
    "teta5, j_hist5 = GradienteDescendente(X, Y, teta, 0.003, 50)\n",
    "teta6, j_hist6 = GradienteDescendente(X, Y, teta, 0.001, 50)\n",
    "\n",
    "plt.figure(figsize = (20,10))\n",
    "\n",
    "plt.plot(j_hist1, label = '0.3')\n",
    "plt.plot(j_hist2, label = '0.1')\n",
    "plt.plot(j_hist3, label = '0.03')\n",
    "plt.plot(j_hist4, label = '0.01')\n",
    "plt.plot(j_hist5, label = '0.003')\n",
    "plt.plot(j_hist6, label = '0.001')\n",
    "\n",
    "plt.title('Testando diferentes taxas de aprendizado')\n",
    "plt.xlabel('Número de interações')\n",
    "plt.ylabel('Custo J')\n",
    "plt.legend(bbox_to_anchor=(1.05, 1.0))"
   ]
  },
  {
   "cell_type": "code",
   "execution_count": 303,
   "metadata": {},
   "outputs": [
    {
     "name": "stdout",
     "output_type": "stream",
     "text": [
      "[[340412.65957447]\n",
      " [109447.79646964]\n",
      " [ -6578.35485416]]\n"
     ]
    }
   ],
   "source": [
    "teta, historico__custo = GradienteDescendente(X, Y, teta, alfa = 0.3, interacoes = 1500)\n",
    "print(teta)"
   ]
  },
  {
   "cell_type": "markdown",
   "metadata": {},
   "source": [
    "> Prevendo o preço de uma casa com 1650 $m^{2}$ e 3 quartos."
   ]
  },
  {
   "cell_type": "code",
   "execution_count": 304,
   "metadata": {},
   "outputs": [],
   "source": [
    "X_teste = np.array([2400, 3])"
   ]
  },
  {
   "cell_type": "code",
   "execution_count": 305,
   "metadata": {},
   "outputs": [],
   "source": [
    "media = np.array(media)\n",
    "desvio = np.array(desvio)\n",
    "\n",
    "X_teste = (X_teste - media)/desvio"
   ]
  },
  {
   "cell_type": "code",
   "execution_count": 306,
   "metadata": {},
   "outputs": [],
   "source": [
    "X_teste = np.append(1, X_teste) # adicionando a constante xo = 1"
   ]
  },
  {
   "cell_type": "code",
   "execution_count": 307,
   "metadata": {},
   "outputs": [],
   "source": [
    "X_teste = np.reshape(X_teste, (1,3))"
   ]
  },
  {
   "cell_type": "code",
   "execution_count": 308,
   "metadata": {},
   "outputs": [
    {
     "data": {
      "text/plain": [
       "array([[ 1.        ,  0.5079087 , -0.22609337]])"
      ]
     },
     "execution_count": 308,
     "metadata": {},
     "output_type": "execute_result"
    }
   ],
   "source": [
    "X_teste"
   ]
  },
  {
   "cell_type": "code",
   "execution_count": 309,
   "metadata": {},
   "outputs": [],
   "source": [
    "def predicao(x, teta):\n",
    "    '''\n",
    "    Essa função retorna uma predição para novos dados\n",
    "    '''    \n",
    "    pred = np.dot(x, teta)\n",
    "    return pred"
   ]
  },
  {
   "cell_type": "code",
   "execution_count": 310,
   "metadata": {},
   "outputs": [
    {
     "data": {
      "text/plain": [
       "array([[397489.46984812]])"
      ]
     },
     "execution_count": 310,
     "metadata": {},
     "output_type": "execute_result"
    }
   ],
   "source": [
    "predicao(X_teste, teta) # retorna um preço para uma casa com essas caracteristicas"
   ]
  },
  {
   "cell_type": "markdown",
   "metadata": {},
   "source": [
    "### Equação Normal"
   ]
  },
  {
   "cell_type": "markdown",
   "metadata": {},
   "source": [
    "![equacao normal](Imagens/equacao-normal.png)"
   ]
  },
  {
   "cell_type": "code",
   "execution_count": 311,
   "metadata": {},
   "outputs": [
    {
     "name": "stdout",
     "output_type": "stream",
     "text": [
      "[[340412.65957447]\n",
      " [109447.79646964]\n",
      " [ -6578.35485416]]\n"
     ]
    }
   ],
   "source": [
    "teta = np.linalg.inv((X.T.dot(X))).dot(X.T.dot(Y))\n",
    "print(teta)"
   ]
  },
  {
   "cell_type": "code",
   "execution_count": 312,
   "metadata": {},
   "outputs": [
    {
     "data": {
      "text/plain": [
       "array([[397489.46984812]])"
      ]
     },
     "execution_count": 312,
     "metadata": {},
     "output_type": "execute_result"
    }
   ],
   "source": [
    "predicao(X_teste, teta) # retorna um preço para uma casa com essas caracteristicas"
   ]
  },
  {
   "cell_type": "code",
   "execution_count": 314,
   "metadata": {},
   "outputs": [],
   "source": [
    "valor_previsto = predicao(X, teta)"
   ]
  },
  {
   "cell_type": "code",
   "execution_count": 319,
   "metadata": {},
   "outputs": [
    {
     "data": {
      "text/plain": [
       "3.4622219300319714"
      ]
     },
     "execution_count": 319,
     "metadata": {},
     "output_type": "execute_result"
    }
   ],
   "source": [
    "np.sum(((valor_previsto - Y) / Y) * 100)/ len(Y) # média dos erros das previsões"
   ]
  },
  {
   "cell_type": "code",
   "execution_count": 320,
   "metadata": {},
   "outputs": [
    {
     "data": {
      "text/plain": [
       "18.48091386732314"
      ]
     },
     "execution_count": 320,
     "metadata": {},
     "output_type": "execute_result"
    }
   ],
   "source": [
    "np.std(((valor_previsto - Y) / Y) * 100) # desvio padrão do erro das previsões"
   ]
  },
  {
   "cell_type": "markdown",
   "metadata": {},
   "source": [
    "![comparacao gradiente e normal](Imagens/comparacao-gradiente-normal.png)"
   ]
  }
 ],
 "metadata": {
  "kernelspec": {
   "display_name": "Python 3",
   "language": "python",
   "name": "python3"
  },
  "language_info": {
   "codemirror_mode": {
    "name": "ipython",
    "version": 3
   },
   "file_extension": ".py",
   "mimetype": "text/x-python",
   "name": "python",
   "nbconvert_exporter": "python",
   "pygments_lexer": "ipython3",
   "version": "3.7.4"
  }
 },
 "nbformat": 4,
 "nbformat_minor": 4
}
